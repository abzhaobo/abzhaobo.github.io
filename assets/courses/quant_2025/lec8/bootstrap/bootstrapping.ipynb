{
 "cells": [
  {
   "cell_type": "code",
   "execution_count": 16,
   "id": "80780f38-ec2c-42f8-af63-3b9b13163d04",
   "metadata": {},
   "outputs": [],
   "source": [
    "import numpy as np\n",
    "import pandas as pd"
   ]
  },
  {
   "cell_type": "code",
   "execution_count": 21,
   "id": "6faf763e-3c68-4ce4-97d0-030ae96a845e",
   "metadata": {},
   "outputs": [
    {
     "name": "stdout",
     "output_type": "stream",
     "text": [
      "[ 0.99598547 -0.59008227 -0.21184559 -0.51103425  1.2337651   1.01887457\n",
      " -0.25309936 -0.175181   -0.29014381 -0.70293388]\n"
     ]
    }
   ],
   "source": [
    "n = 10 # Original sample size\n",
    "x = np.random.normal(size=n) # Normal(0,1) distribution, n samples\n",
    "print(x)"
   ]
  },
  {
   "cell_type": "markdown",
   "id": "79067f6b-78de-4ad6-9377-36d13b03e2c3",
   "metadata": {},
   "source": [
    "Let's investigate the sampling error (standard deviation) of $\\frac{1}{n}\\sum^n_{i=1}x_i$\n",
    "- Its theoretical value is: $true\\_error \\equiv \\frac{\\sigma}{\\sqrt{n}}$，here $\\sigma=1$，i.e. $\\frac{1}{\\sqrt{n}}$\n",
    "- The estimation with the current sample is: $est\\_error \\equiv \\frac{\\hat{\\sigma}}{\\sqrt{n}}$, where $\\hat{\\sigma} = \\sqrt{\\frac{1}{n}\\sum^n_{i=1}(x_i - \\frac{1}{n}\\sum^n_{i=1}x_i)^2}$"
   ]
  },
  {
   "cell_type": "code",
   "execution_count": 22,
   "id": "819f7209-7034-4711-9166-39a2b14d202f",
   "metadata": {},
   "outputs": [
    {
     "name": "stdout",
     "output_type": "stream",
     "text": [
      "true_error:  0.31622776601683794\n",
      "est_error:  0.22029744837850462\n"
     ]
    }
   ],
   "source": [
    "x_mean = np.mean(x)\n",
    "x_std = np.std(x) # sigma hat\n",
    "x_mean_std = x_std / np.sqrt(n)\n",
    "print(\"true_error: \", 1/np.sqrt(n))\n",
    "print(\"est_error: \", x_mean_std)"
   ]
  },
  {
   "cell_type": "markdown",
   "id": "75ceed7c-3509-4319-b15e-5e00a25394b4",
   "metadata": {},
   "source": [
    "Boostrap error:"
   ]
  },
  {
   "cell_type": "code",
   "execution_count": 23,
   "id": "a35644bc-b96b-4538-8ba6-59d55fcb9fcb",
   "metadata": {},
   "outputs": [],
   "source": [
    "B = 10000\n",
    "boot = list()\n",
    "for i in range(B):\n",
    "    boot.append(np.random.choice(x, n))"
   ]
  },
  {
   "cell_type": "code",
   "execution_count": 24,
   "id": "d720e303-0836-4ca8-b013-40f52522c49b",
   "metadata": {},
   "outputs": [
    {
     "data": {
      "text/plain": [
       "[array([-0.25309936,  1.2337651 , -0.59008227, -0.29014381, -0.59008227,\n",
       "        -0.25309936, -0.175181  , -0.70293388,  1.01887457, -0.175181  ]),\n",
       " array([ 0.99598547, -0.29014381, -0.21184559, -0.70293388, -0.70293388,\n",
       "        -0.175181  , -0.70293388,  0.99598547, -0.175181  , -0.59008227]),\n",
       " array([-0.59008227,  1.01887457, -0.51103425, -0.175181  ,  1.2337651 ,\n",
       "        -0.51103425,  1.2337651 ,  0.99598547,  0.99598547, -0.175181  ])]"
      ]
     },
     "execution_count": 24,
     "metadata": {},
     "output_type": "execute_result"
    }
   ],
   "source": [
    "boot[0:3]"
   ]
  },
  {
   "cell_type": "code",
   "execution_count": 25,
   "id": "cfcaf45a-9d3b-4068-9ca3-8fb933f19325",
   "metadata": {},
   "outputs": [],
   "source": [
    "boot_mean = np.full(shape=B,fill_value=np.nan)\n",
    "for i in range(len(boot)):\n",
    "    boot_mean[i] = np.mean(boot[i])"
   ]
  },
  {
   "cell_type": "code",
   "execution_count": 26,
   "id": "e08a1e83-19d2-4b09-8dc0-0a9118904010",
   "metadata": {},
   "outputs": [
    {
     "data": {
      "text/plain": [
       "array([-0.07771633, -0.15592644,  0.35158629])"
      ]
     },
     "execution_count": 26,
     "metadata": {},
     "output_type": "execute_result"
    }
   ],
   "source": [
    "boot_mean[0:3]"
   ]
  },
  {
   "cell_type": "code",
   "execution_count": 27,
   "id": "c92bd950-cea3-4084-842b-8ffd3e9cafdf",
   "metadata": {},
   "outputs": [],
   "source": [
    "x_mean_std_boot = np.sqrt(np.sum((boot_mean - np.mean(boot_mean))**2)/B) # bootstrapped error estimation"
   ]
  },
  {
   "cell_type": "markdown",
   "id": "96541ed0-3e18-4011-8e17-c04b5165e708",
   "metadata": {},
   "source": [
    "👆 It should be similar to x_mean_std"
   ]
  },
  {
   "cell_type": "code",
   "execution_count": 28,
   "id": "c0ccd638-5581-47c0-bd5c-c9cee078b672",
   "metadata": {},
   "outputs": [
    {
     "name": "stdout",
     "output_type": "stream",
     "text": [
      "est_error:  0.22029744837850462\n",
      "bootstrapped_error:  0.2217568637184773\n"
     ]
    }
   ],
   "source": [
    "print(\"est_error: \", x_mean_std)\n",
    "print(\"bootstrapped_error: \", x_mean_std_boot)"
   ]
  },
  {
   "cell_type": "markdown",
   "id": "14f735d4-f896-4ab5-9f3d-4e3b47b32090",
   "metadata": {},
   "source": [
    "When n is small, x is not a good sampling of N(0,1):"
   ]
  },
  {
   "cell_type": "code",
   "execution_count": 29,
   "id": "ef7b85ef-9de5-4580-8357-c76d9df2a27e",
   "metadata": {},
   "outputs": [
    {
     "name": "stdout",
     "output_type": "stream",
     "text": [
      "true_error:  0.31622776601683794\n",
      "est_error:  0.22029744837850462\n",
      "bootstrapped_error:  0.2217568637184773\n"
     ]
    }
   ],
   "source": [
    "print(\"true_error: \", 1/np.sqrt(n))\n",
    "print(\"est_error: \", x_mean_std)\n",
    "print(\"bootstrapped_error: \", x_mean_std_boot)"
   ]
  },
  {
   "cell_type": "markdown",
   "id": "c8a9f604-4eae-4999-b180-beeed33beeb1",
   "metadata": {},
   "source": [
    "The difference of the first and the second is determined by n; the difference of the second and the third is determined by B"
   ]
  },
  {
   "cell_type": "markdown",
   "id": "552517b9-c8e9-416b-ac10-15a300a43f33",
   "metadata": {},
   "source": [
    "When n is large, and when our sampling procedure is good (iid in our case), all the above three will be close."
   ]
  },
  {
   "cell_type": "code",
   "execution_count": 30,
   "id": "f0686245-a994-46a9-8c15-1328f958a718",
   "metadata": {},
   "outputs": [
    {
     "name": "stdout",
     "output_type": "stream",
     "text": [
      "true_error:  0.01\n",
      "est_error:  0.009973278879004118\n",
      "bootstrapped_error:  0.009912513676025556\n"
     ]
    }
   ],
   "source": [
    "n = 10000 # Original sample size\n",
    "x = np.random.normal(size=n) # Normal(0,1) distribution, n samples\n",
    "x_mean = np.mean(x)\n",
    "x_std = np.std(x) # sigma hat\n",
    "x_mean_std = x_std / np.sqrt(n)\n",
    "\n",
    "B = 10000\n",
    "boot = list()\n",
    "for i in range(B):\n",
    "    boot.append(np.random.choice(x, n))\n",
    "\n",
    "boot_mean = np.full(shape=B,fill_value=np.nan)\n",
    "for i in range(len(boot)):\n",
    "    boot_mean[i] = np.mean(boot[i])\n",
    "\n",
    "x_mean_std_boot = np.sqrt(np.sum((boot_mean - np.mean(boot_mean))**2)/B) # bootstrapped error estimation\n",
    "\n",
    "print(\"true_error: \", 1/np.sqrt(n))\n",
    "print(\"est_error: \", x_mean_std)\n",
    "print(\"bootstrapped_error: \", x_mean_std_boot)"
   ]
  },
  {
   "cell_type": "code",
   "execution_count": null,
   "id": "d075ada5-1876-4175-b17a-ef1efe8a9581",
   "metadata": {},
   "outputs": [],
   "source": []
  }
 ],
 "metadata": {
  "kernelspec": {
   "display_name": "base",
   "language": "python",
   "name": "python3"
  },
  "language_info": {
   "codemirror_mode": {
    "name": "ipython",
    "version": 3
   },
   "file_extension": ".py",
   "mimetype": "text/x-python",
   "name": "python",
   "nbconvert_exporter": "python",
   "pygments_lexer": "ipython3",
   "version": "3.10.16"
  }
 },
 "nbformat": 4,
 "nbformat_minor": 5
}
