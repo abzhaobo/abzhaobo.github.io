{
 "cells": [
  {
   "cell_type": "code",
   "execution_count": 1,
   "metadata": {
    "editable": true
   },
   "outputs": [],
   "source": [
    "import pandas as pd\n",
    "import numpy as np\n",
    "import tqdm\n",
    "import gc\n",
    "import matplotlib.pyplot as plt\n",
    "import talib as ta\n",
    "import datetime as dt\n",
    "import statsmodels.api as sm\n",
    "pd.set_option('display.max_rows', 16)\n",
    "\n",
    "from sklearn.ensemble import RandomForestClassifier\n",
    "from sklearn.metrics import accuracy_score, f1_score\n",
    "from sklearn.model_selection import GridSearchCV"
   ]
  },
  {
   "cell_type": "code",
   "execution_count": 2,
   "metadata": {
    "editable": true
   },
   "outputs": [],
   "source": [
    "plt.rcParams['figure.figsize'] = (16.0, 9.0)"
   ]
  },
  {
   "cell_type": "markdown",
   "metadata": {
    "editable": true
   },
   "source": [
    "# Data"
   ]
  },
  {
   "cell_type": "code",
   "execution_count": 3,
   "metadata": {
    "editable": true
   },
   "outputs": [],
   "source": [
    "START = '20070101'\n",
    "END = '20241231'"
   ]
  },
  {
   "cell_type": "code",
   "execution_count": 4,
   "metadata": {
    "editable": true
   },
   "outputs": [],
   "source": [
    "# Security Id\n",
    "stk_info = DataAPI.SecIDGet(assetClass=\"E\",pandas=\"1\")\n",
    "cond1 = (stk_info['exchangeCD'] == 'XSHE') | (stk_info['exchangeCD'] == 'XSHG')\n",
    "cond2 = (stk_info['listStatusCD'] == 'L') | (stk_info['listStatusCD'] == 'DE')\n",
    "cond3 = stk_info['transCurrCD']=='CNY'\n",
    "stk_info = stk_info[cond1 & cond2 & cond3].copy()\n",
    "stk_id = stk_info['secID']\n",
    "# ST\n",
    "st_df = DataAPI.SecSTGet(beginDate=START,endDate=END,secID=stk_id,field=['secID','tradeDate','STflg'],pandas=\"1\")\n",
    "st_df['tradeDate'] = pd.to_datetime(st_df['tradeDate'],format=\"%Y-%m-%d\")"
   ]
  },
  {
   "cell_type": "code",
   "execution_count": 5,
   "metadata": {
    "editable": true
   },
   "outputs": [
    {
     "data": {
      "text/html": [
       "<div>\n",
       "<style scoped>\n",
       "    .dataframe tbody tr th:only-of-type {\n",
       "        vertical-align: middle;\n",
       "    }\n",
       "\n",
       "    .dataframe tbody tr th {\n",
       "        vertical-align: top;\n",
       "    }\n",
       "\n",
       "    .dataframe thead th {\n",
       "        text-align: right;\n",
       "    }\n",
       "</style>\n",
       "<table border=\"1\" class=\"dataframe\">\n",
       "  <thead>\n",
       "    <tr style=\"text-align: right;\">\n",
       "      <th></th>\n",
       "      <th>secID</th>\n",
       "      <th>tradeDate</th>\n",
       "      <th>STflg</th>\n",
       "    </tr>\n",
       "  </thead>\n",
       "  <tbody>\n",
       "    <tr>\n",
       "      <th>0</th>\n",
       "      <td>000001.XSHE</td>\n",
       "      <td>2007-01-04</td>\n",
       "      <td>S</td>\n",
       "    </tr>\n",
       "    <tr>\n",
       "      <th>1</th>\n",
       "      <td>000001.XSHE</td>\n",
       "      <td>2007-01-05</td>\n",
       "      <td>S</td>\n",
       "    </tr>\n",
       "    <tr>\n",
       "      <th>2</th>\n",
       "      <td>000001.XSHE</td>\n",
       "      <td>2007-01-08</td>\n",
       "      <td>S</td>\n",
       "    </tr>\n",
       "    <tr>\n",
       "      <th>3</th>\n",
       "      <td>000001.XSHE</td>\n",
       "      <td>2007-01-09</td>\n",
       "      <td>S</td>\n",
       "    </tr>\n",
       "    <tr>\n",
       "      <th>4</th>\n",
       "      <td>000001.XSHE</td>\n",
       "      <td>2007-01-10</td>\n",
       "      <td>S</td>\n",
       "    </tr>\n",
       "    <tr>\n",
       "      <th>5</th>\n",
       "      <td>000001.XSHE</td>\n",
       "      <td>2007-01-11</td>\n",
       "      <td>S</td>\n",
       "    </tr>\n",
       "    <tr>\n",
       "      <th>6</th>\n",
       "      <td>000001.XSHE</td>\n",
       "      <td>2007-01-12</td>\n",
       "      <td>S</td>\n",
       "    </tr>\n",
       "    <tr>\n",
       "      <th>7</th>\n",
       "      <td>000001.XSHE</td>\n",
       "      <td>2007-01-15</td>\n",
       "      <td>S</td>\n",
       "    </tr>\n",
       "    <tr>\n",
       "      <th>...</th>\n",
       "      <td>...</td>\n",
       "      <td>...</td>\n",
       "      <td>...</td>\n",
       "    </tr>\n",
       "    <tr>\n",
       "      <th>553300</th>\n",
       "      <td>688555.XSHG</td>\n",
       "      <td>2023-05-29</td>\n",
       "      <td>*ST</td>\n",
       "    </tr>\n",
       "    <tr>\n",
       "      <th>553301</th>\n",
       "      <td>688555.XSHG</td>\n",
       "      <td>2023-05-30</td>\n",
       "      <td>*ST</td>\n",
       "    </tr>\n",
       "    <tr>\n",
       "      <th>553302</th>\n",
       "      <td>688555.XSHG</td>\n",
       "      <td>2023-05-31</td>\n",
       "      <td>*ST</td>\n",
       "    </tr>\n",
       "    <tr>\n",
       "      <th>553303</th>\n",
       "      <td>688555.XSHG</td>\n",
       "      <td>2023-06-01</td>\n",
       "      <td>*ST</td>\n",
       "    </tr>\n",
       "    <tr>\n",
       "      <th>553304</th>\n",
       "      <td>688555.XSHG</td>\n",
       "      <td>2023-06-02</td>\n",
       "      <td>*ST</td>\n",
       "    </tr>\n",
       "    <tr>\n",
       "      <th>553305</th>\n",
       "      <td>688555.XSHG</td>\n",
       "      <td>2023-06-05</td>\n",
       "      <td>*ST</td>\n",
       "    </tr>\n",
       "    <tr>\n",
       "      <th>553306</th>\n",
       "      <td>688555.XSHG</td>\n",
       "      <td>2023-06-06</td>\n",
       "      <td>*ST</td>\n",
       "    </tr>\n",
       "    <tr>\n",
       "      <th>553307</th>\n",
       "      <td>688555.XSHG</td>\n",
       "      <td>2023-06-07</td>\n",
       "      <td>*ST</td>\n",
       "    </tr>\n",
       "  </tbody>\n",
       "</table>\n",
       "<p>553308 rows × 3 columns</p>\n",
       "</div>"
      ],
      "text/plain": [
       "              secID  tradeDate STflg\n",
       "0       000001.XSHE 2007-01-04     S\n",
       "1       000001.XSHE 2007-01-05     S\n",
       "2       000001.XSHE 2007-01-08     S\n",
       "3       000001.XSHE 2007-01-09     S\n",
       "4       000001.XSHE 2007-01-10     S\n",
       "5       000001.XSHE 2007-01-11     S\n",
       "6       000001.XSHE 2007-01-12     S\n",
       "7       000001.XSHE 2007-01-15     S\n",
       "...             ...        ...   ...\n",
       "553300  688555.XSHG 2023-05-29   *ST\n",
       "553301  688555.XSHG 2023-05-30   *ST\n",
       "553302  688555.XSHG 2023-05-31   *ST\n",
       "553303  688555.XSHG 2023-06-01   *ST\n",
       "553304  688555.XSHG 2023-06-02   *ST\n",
       "553305  688555.XSHG 2023-06-05   *ST\n",
       "553306  688555.XSHG 2023-06-06   *ST\n",
       "553307  688555.XSHG 2023-06-07   *ST\n",
       "\n",
       "[553308 rows x 3 columns]"
      ]
     },
     "execution_count": 5,
     "metadata": {},
     "output_type": "execute_result"
    }
   ],
   "source": [
    "st_df"
   ]
  },
  {
   "cell_type": "code",
   "execution_count": 6,
   "metadata": {
    "editable": true
   },
   "outputs": [],
   "source": [
    "# %%time\n",
    "# # About 8 mins\n",
    "# # # 从优矿下载股票信息，时间较长。由于优矿的限制，每次下载3年的数据\n",
    "\n",
    "# stk_dict = {}\n",
    "# begin_ = dt.datetime.strptime(START, '%Y%m%d').year\n",
    "# end_ = dt.datetime.strptime(START, '%Y%m%d').year+3\n",
    "# field = [\"secID\",\"tradeDate\",'preClosePrice',\"closePrice\",'openPrice','highestPrice','lowestPrice',\"negMarketValue\",\"turnoverValue\",'turnoverVol']\n",
    "# while begin_ <= 2024:\n",
    "#     if begin_ == 2024:\n",
    "#         yesterday = dt.datetime.today() - dt.timedelta(days=1)\n",
    "#         yesterday.strftime('%Y%m%d')\n",
    "#         stk_dict[begin_] = DataAPI.MktEqudAdjAfGet(secID=stk_id,\n",
    "#                                                      beginDate=f'{begin_}0101',\n",
    "#                                                      endDate=yesterday,\n",
    "#                                                      field=field,pandas=\"1\")\n",
    "#     else:\n",
    "#         stk_dict[begin_] = DataAPI.MktEqudAdjAfGet(secID=stk_id,\n",
    "#                                                          beginDate=f'{begin_}0101',\n",
    "#                                                          endDate=f'{end_}1231',\n",
    "#                                                          field=field,pandas=\"1\")\n",
    "#     begin_ = end_ + 1\n",
    "#     end_ = begin_ + 3\n",
    "    \n",
    "# for i in range(len(stk_dict)):\n",
    "#     stk_df = pd.DataFrame(np.vstack([_df for _df in stk_dict.values()]),columns=field)\n",
    "    \n",
    "# stk_df.to_pickle('./data/stk_df.pkl')"
   ]
  },
  {
   "cell_type": "code",
   "execution_count": 7,
   "metadata": {
    "editable": true
   },
   "outputs": [],
   "source": [
    "# %%time\n",
    "# stk_df = DataAPI.MktEqudAdjAfGet(secID=stk_id,beginDate=START,endDate=END,isOpen=1,\n",
    "#                                            field=[\"secID\",\"tradeDate\",\n",
    "#                                                   'preClosePrice',\"closePrice\",\n",
    "#                                                   'openPrice','highestPrice','lowestPrice',\n",
    "#                                                   \"negMarketValue\",\n",
    "#                                                   \"turnoverValue\",'turnoverVol'],pandas=\"1\")\n",
    "# stk_df.to_pickle('./data/stk_df.pkl')\n",
    "# # Takes about 6 mins"
   ]
  },
  {
   "cell_type": "code",
   "execution_count": 8,
   "metadata": {
    "editable": true
   },
   "outputs": [],
   "source": [
    "stk_df = pd.read_pickle('./data/stk_df.pkl')"
   ]
  },
  {
   "cell_type": "code",
   "execution_count": 9,
   "metadata": {
    "editable": true
   },
   "outputs": [
    {
     "name": "stdout",
     "output_type": "stream",
     "text": [
      "<class 'pandas.core.frame.DataFrame'>\n",
      "RangeIndex: 12614538 entries, 0 to 12614537\n",
      "Data columns (total 10 columns):\n",
      "secID             object\n",
      "tradeDate         object\n",
      "preClosePrice     object\n",
      "closePrice        object\n",
      "openPrice         object\n",
      "highestPrice      object\n",
      "lowestPrice       object\n",
      "negMarketValue    object\n",
      "turnoverValue     object\n",
      "turnoverVol       object\n",
      "dtypes: object(10)\n",
      "memory usage: 962.4+ MB\n"
     ]
    }
   ],
   "source": [
    "stk_df.info()"
   ]
  },
  {
   "cell_type": "code",
   "execution_count": 10,
   "metadata": {
    "editable": true
   },
   "outputs": [],
   "source": [
    "for col in stk_df.columns.drop(['secID','tradeDate']).tolist():\n",
    "    stk_df[col] = pd.to_numeric(stk_df[col])"
   ]
  },
  {
   "cell_type": "code",
   "execution_count": 11,
   "metadata": {
    "editable": true
   },
   "outputs": [
    {
     "name": "stdout",
     "output_type": "stream",
     "text": [
      "(12614538, 10)\n",
      "(12061713, 10)\n"
     ]
    }
   ],
   "source": [
    "stk_df['tradeDate'] = pd.to_datetime(stk_df['tradeDate'], format='%Y-%m-%d')\n",
    "stk_df.sort_values(['secID','tradeDate'],inplace=True)\n",
    "# drop ST stocks\n",
    "print(stk_df.shape)\n",
    "stk_df = pd.merge(stk_df, st_df, on=['secID','tradeDate'],how='left')\n",
    "stk_df = stk_df[stk_df['STflg'].isna()].copy()\n",
    "stk_df.drop('STflg',axis=1,inplace=True)\n",
    "print(stk_df.shape)"
   ]
  },
  {
   "cell_type": "code",
   "execution_count": 12,
   "metadata": {
    "editable": true
   },
   "outputs": [
    {
     "name": "stdout",
     "output_type": "stream",
     "text": [
      "<class 'pandas.core.frame.DataFrame'>\n",
      "Int64Index: 12061713 entries, 109 to 12614537\n",
      "Data columns (total 10 columns):\n",
      "secID             object\n",
      "tradeDate         datetime64[ns]\n",
      "preClosePrice     float64\n",
      "closePrice        float64\n",
      "openPrice         float64\n",
      "highestPrice      float64\n",
      "lowestPrice       float64\n",
      "negMarketValue    float64\n",
      "turnoverValue     float64\n",
      "turnoverVol       int64\n",
      "dtypes: datetime64[ns](1), float64(7), int64(1), object(1)\n",
      "memory usage: 1012.3+ MB\n"
     ]
    }
   ],
   "source": [
    "stk_df.info()"
   ]
  },
  {
   "cell_type": "markdown",
   "metadata": {
    "editable": true
   },
   "source": [
    "不填充停牌值比较合理，因为技术分析只看量价，直接计算量价关系较为合适"
   ]
  },
  {
   "cell_type": "code",
   "execution_count": 13,
   "metadata": {
    "editable": true
   },
   "outputs": [],
   "source": [
    "random_stkid = np.random.choice(stk_df['secID'].unique(),1000)\n",
    "\n",
    "stk_df = stk_df[stk_df['secID'].isin(random_stkid)].copy()"
   ]
  },
  {
   "cell_type": "code",
   "execution_count": 14,
   "metadata": {
    "editable": true
   },
   "outputs": [],
   "source": [
    "stk_df.drop(stk_df.loc[stk_df['openPrice']==0].index,inplace=True)"
   ]
  },
  {
   "cell_type": "code",
   "execution_count": 15,
   "metadata": {
    "editable": true
   },
   "outputs": [],
   "source": [
    "stk_df['open_ret'] = stk_df.groupby('secID')['openPrice'].apply(lambda x: x / x.shift() - 1)\n",
    "stk_df['close_ret'] = stk_df['closePrice']/stk_df['preClosePrice'] - 1"
   ]
  },
  {
   "cell_type": "code",
   "execution_count": 16,
   "metadata": {
    "editable": true
   },
   "outputs": [],
   "source": [
    "def rule_return(df, demean=True, open_ret=True):\n",
    "    \"\"\"\n",
    "    df should contain these columns:\n",
    "        signal: the signal generated by the rule\n",
    "        close_ret: return calculated by close price\n",
    "        open_ret: return calculated by open price\n",
    "    close_ret_demean is demeaned return of close_ret, i.e. close_ret - close_ret.mean.\n",
    "    open_ret_demean is similarly defined. The use of demeaned return series is to adjust the\n",
    "    bias created by bullish or bearish markets.\n",
    "    \"\"\"\n",
    "    df['close_ret_demean'] = df['close_ret'] - df['close_ret'].mean()\n",
    "    df['open_ret_demean'] = df['open_ret'] - df['open_ret'].mean()\n",
    "    df['position_close'] = df['signal']\n",
    "    df['position_open'] = df['signal'].shift()\n",
    "    df['position_close_ret'] = df['position_close'].shift() * df['close_ret']\n",
    "    df['position_open_ret'] = df['position_open'].shift() * df['open_ret']\n",
    "    df['position_close_ret_demean'] = df['position_close'].shift() * df['close_ret_demean']\n",
    "    df['position_open_ret_demean'] = df['position_open'].shift() * df['open_ret_demean']\n",
    "    df['close_cumret'] = (df['position_close_ret']+1).cumprod()\n",
    "    df['open_cumret'] = (df['position_open_ret']+1).cumprod()\n",
    "    if open_ret:\n",
    "        if demean:\n",
    "            return pd.DataFrame({'position_open_ret_demean':df['position_open_ret_demean'].values, \n",
    "                                 'open_cumret':df['open_cumret'].values})\n",
    "        else:\n",
    "            return pd.DataFrame({'position_open_ret':df['position_open_ret'].values, \n",
    "                                 'open_cumret':df['open_cumret'].values})\n",
    "    else:\n",
    "        if demean:\n",
    "            return pd.DataFrame({'position_close_ret_demean':df['position_close_ret_demean'].values, \n",
    "                                 'close_cumret':df['close_cumret'].values})\n",
    "        else:\n",
    "            return pd.DataFrame({'position_close_ret':df['position_close_ret'].values, \n",
    "                                 'close_cumret':df['close_cumret'].values})"
   ]
  },
  {
   "cell_type": "markdown",
   "metadata": {
    "editable": true
   },
   "source": [
    "# A bunch of TA signals"
   ]
  },
  {
   "cell_type": "code",
   "execution_count": 17,
   "metadata": {
    "editable": true
   },
   "outputs": [],
   "source": [
    "# EMA\n",
    "stk_df['EMA'] = stk_df.groupby('secID')['closePrice'].apply(ta.EMA, 20)\n",
    "stk_df['EM_signal'] = np.where(stk_df['closePrice']>stk_df['EMA'],1,np.nan)\n",
    "stk_df.loc[stk_df['closePrice']<=stk_df['EMA'],'EM_signal'] = 0\n",
    "stk_df['EM_signal'] = stk_df.groupby('secID')['EM_signal'].fillna(method='ffill')"
   ]
  },
  {
   "cell_type": "code",
   "execution_count": 18,
   "metadata": {
    "editable": true
   },
   "outputs": [
    {
     "data": {
      "text/plain": [
       "0.0    1016812\n",
       "1.0     944568\n",
       "Name: EM_signal, dtype: int64"
      ]
     },
     "execution_count": 18,
     "metadata": {},
     "output_type": "execute_result"
    }
   ],
   "source": [
    "stk_df['EM_signal'].value_counts()"
   ]
  },
  {
   "cell_type": "code",
   "execution_count": 19,
   "metadata": {
    "editable": true
   },
   "outputs": [],
   "source": [
    "# MACD\n",
    "stk_df['MACD'] = stk_df.groupby('secID')['closePrice'].apply(lambda x: ta.MACD(x)[0])\n",
    "stk_df['MACD_rawsignal'] = stk_df.groupby('secID')['closePrice'].apply(lambda x: ta.MACD(x)[1])\n",
    "stk_df['MACD_signal'] = np.where(stk_df['MACD']>stk_df['MACD_rawsignal'],1,np.nan)\n",
    "stk_df.loc[stk_df['MACD']<=stk_df['MACD_rawsignal'],'MACD_signal'] = 0\n",
    "stk_df['MACD_signal'] = stk_df.groupby('secID')['MACD_signal'].fillna(method='ffill')"
   ]
  },
  {
   "cell_type": "code",
   "execution_count": 20,
   "metadata": {
    "editable": true
   },
   "outputs": [
    {
     "data": {
      "text/plain": [
       "1.0    1014242\n",
       "0.0     934465\n",
       "Name: MACD_signal, dtype: int64"
      ]
     },
     "execution_count": 20,
     "metadata": {},
     "output_type": "execute_result"
    }
   ],
   "source": [
    "stk_df['MACD_signal'].value_counts()"
   ]
  },
  {
   "cell_type": "code",
   "execution_count": 21,
   "metadata": {
    "editable": true
   },
   "outputs": [],
   "source": [
    "# # Example\n",
    "# temp = stk_df[stk_df['secID']=='900957.XSHG'].copy()\n",
    "# ta.OBV(temp['closePrice'],temp['turnoverValue'])\n",
    "# stk_df.loc[9968491:]"
   ]
  },
  {
   "cell_type": "code",
   "execution_count": 22,
   "metadata": {
    "editable": true
   },
   "outputs": [],
   "source": [
    "# OBV\n",
    "stk_df['OBV'] = stk_df.groupby('secID')[['closePrice','turnoverVol']].apply(lambda x: ta.OBV(real=x['closePrice'],volume=x['turnoverVol']).to_frame('OBV')).values\n",
    "stk_df.groupby('secID')['OBV'].apply(lambda x: x/x.shift()-1)\n",
    "stk_df['OBV_change'] = stk_df.groupby('secID')['OBV'].apply(lambda x: x/x.shift()-1)\n",
    "buy1_OBV = (stk_df['close_ret']<0)&(stk_df['OBV_change']>0)\n",
    "buy2_OBV = (stk_df['close_ret']>0)&(stk_df['OBV_change']>0)\n",
    "sell1_OBV = (stk_df['close_ret']>0)&(stk_df['OBV_change']<0)\n",
    "sell2_OBV = (stk_df['close_ret']<0)&(stk_df['OBV_change']<0)\n",
    "stk_df['OBV_signal'] = 0\n",
    "stk_df.loc[buy1_OBV | buy2_OBV,'OBV_signal']=1"
   ]
  },
  {
   "cell_type": "code",
   "execution_count": 23,
   "metadata": {
    "editable": true
   },
   "outputs": [
    {
     "data": {
      "text/plain": [
       "0    1002642\n",
       "1     975971\n",
       "Name: OBV_signal, dtype: int64"
      ]
     },
     "execution_count": 23,
     "metadata": {},
     "output_type": "execute_result"
    }
   ],
   "source": [
    "stk_df['OBV_signal'].value_counts()"
   ]
  },
  {
   "cell_type": "code",
   "execution_count": 24,
   "metadata": {
    "editable": true
   },
   "outputs": [],
   "source": [
    "# AROON\n",
    "N = 26\n",
    "high_threshold = 70  # 强趋势\n",
    "low_threshold = 30  # 弱趋势\n",
    "\n",
    "stk_df['AROON_up'] = stk_df.groupby('secID')[['highestPrice','lowestPrice']].apply(lambda x:ta.AROON(high=x['highestPrice'],low=x['lowestPrice'])[0].to_frame('AROON_up')).values\n",
    "stk_df['AROON_down'] = stk_df.groupby('secID')[['highestPrice','lowestPrice']].apply(lambda x:ta.AROON(high=x['highestPrice'],low=x['lowestPrice'])[1].to_frame('AROON_down')).values\n",
    "buy_AROON = (stk_df['AROON_up']>high_threshold)&(stk_df['AROON_down']<low_threshold)\n",
    "sell_AROON = (stk_df['AROON_down']>high_threshold)&(stk_df['AROON_up']<low_threshold)\n",
    "stk_df['AROON_signal'] = np.where(buy_AROON,1,np.nan)\n",
    "stk_df.loc[sell_AROON,'AROON_signal'] = 0\n",
    "stk_df['AROON_signal'] = stk_df.groupby('secID')['AROON_signal'].fillna(method='ffill')"
   ]
  },
  {
   "cell_type": "code",
   "execution_count": 25,
   "metadata": {
    "editable": true
   },
   "outputs": [
    {
     "data": {
      "text/plain": [
       "0.0    983748\n",
       "1.0    980565\n",
       "Name: AROON_signal, dtype: int64"
      ]
     },
     "execution_count": 25,
     "metadata": {},
     "output_type": "execute_result"
    }
   ],
   "source": [
    "stk_df['AROON_signal'].value_counts()"
   ]
  },
  {
   "cell_type": "code",
   "execution_count": 26,
   "metadata": {
    "editable": true
   },
   "outputs": [],
   "source": [
    "# BOLL\n",
    "stk_df['BOLL_up'] = stk_df.groupby('secID')[['closePrice']].apply(lambda x:ta.BBANDS(real=x['closePrice'])[0].to_frame('BOLL_up')).values\n",
    "stk_df['BOLL_mid'] = stk_df.groupby('secID')[['closePrice']].apply(lambda x:ta.BBANDS(real=x['closePrice'])[1].to_frame('BOLL_mid')).values\n",
    "stk_df['BOLL_low'] = stk_df.groupby('secID')[['closePrice']].apply(lambda x:ta.BBANDS(real=x['closePrice'])[2].to_frame('BOLL_low')).values\n",
    "stk_df['BOLL_up_lag'] = stk_df.groupby('secID')['BOLL_up'].shift()\n",
    "stk_df['BOLL_mid_lag'] = stk_df.groupby('secID')['BOLL_mid'].shift()\n",
    "stk_df['BOLL_low_lag'] = stk_df.groupby('secID')['BOLL_low'].shift()\n",
    "\n",
    "buy_BOLL = (stk_df['preClosePrice'] < stk_df['BOLL_up_lag'])&(stk_df['closePrice']>stk_df['BOLL_up'])\n",
    "sell_BOLL = (stk_df['preClosePrice'] > stk_df['BOLL_mid_lag'])&(stk_df['closePrice']<stk_df['BOLL_mid'])\n",
    "stk_df['BOLL_signal'] = np.where(buy_BOLL, 1, np.nan)\n",
    "stk_df.loc[sell_BOLL,'BOLL_signal'] = 0\n",
    "stk_df['BOLL_signal'] = stk_df.groupby('secID')['BOLL_signal'].fillna(method='ffill')"
   ]
  },
  {
   "cell_type": "code",
   "execution_count": 27,
   "metadata": {
    "editable": true
   },
   "outputs": [
    {
     "data": {
      "text/plain": [
       "0.0    1968545\n",
       "1.0        265\n",
       "Name: BOLL_signal, dtype: int64"
      ]
     },
     "execution_count": 27,
     "metadata": {},
     "output_type": "execute_result"
    }
   ],
   "source": [
    "stk_df['BOLL_signal'].value_counts()"
   ]
  },
  {
   "cell_type": "code",
   "execution_count": 28,
   "metadata": {
    "editable": true
   },
   "outputs": [],
   "source": [
    "# CCI\n",
    "buy_threshold = -100  # 买入阈值\n",
    "sell_threshold = 100  # 卖出阈值\n",
    "stk_df['CCI'] = stk_df.groupby('secID')[['highestPrice','lowestPrice','closePrice']].apply(lambda x:ta.CCI(high=x['highestPrice'],low=x['lowestPrice'],close=x['closePrice']).to_frame('CCI')).values"
   ]
  },
  {
   "cell_type": "code",
   "execution_count": 29,
   "metadata": {
    "editable": true
   },
   "outputs": [],
   "source": [
    "buy_CCI = stk_df['CCI']<buy_threshold\n",
    "sell_CCI = stk_df['CCI']>sell_threshold\n",
    "stk_df['CCI_signal'] = np.where(buy_CCI,1,np.nan)\n",
    "stk_df.loc[sell_CCI,'CCI_signal'] = 0\n",
    "stk_df['CCI_signal'] = stk_df.groupby('secID')['CCI_signal'].fillna(method='ffill')"
   ]
  },
  {
   "cell_type": "code",
   "execution_count": 30,
   "metadata": {
    "editable": true
   },
   "outputs": [
    {
     "data": {
      "text/plain": [
       "1.0    987828\n",
       "0.0    976042\n",
       "Name: CCI_signal, dtype: int64"
      ]
     },
     "execution_count": 30,
     "metadata": {},
     "output_type": "execute_result"
    }
   ],
   "source": [
    "stk_df['CCI_signal'].value_counts()"
   ]
  },
  {
   "cell_type": "code",
   "execution_count": 31,
   "metadata": {
    "editable": true
   },
   "outputs": [],
   "source": [
    "# CMO\n",
    "buy_threshold = -50  # 买入阈值\n",
    "sell_threshold = 50\n",
    "stk_df['CMO'] = stk_df.groupby('secID')['closePrice'].apply(ta.CMO)"
   ]
  },
  {
   "cell_type": "code",
   "execution_count": 32,
   "metadata": {
    "editable": true
   },
   "outputs": [],
   "source": [
    "buy_CMO = stk_df['CMO'] < buy_threshold\n",
    "sell_CMO = stk_df['CMO'] > sell_threshold\n",
    "stk_df['CMO_signal'] = np.where(buy_CMO, 1, np.nan)\n",
    "stk_df.loc[sell_CMO,'CMO_signal'] = 0\n",
    "stk_df['CMO_signal'] = stk_df.groupby('secID')['CMO_signal'].fillna(method='ffill')"
   ]
  },
  {
   "cell_type": "code",
   "execution_count": 33,
   "metadata": {
    "editable": true
   },
   "outputs": [
    {
     "data": {
      "text/plain": [
       "0.0    1129666\n",
       "1.0     787311\n",
       "Name: CMO_signal, dtype: int64"
      ]
     },
     "execution_count": 33,
     "metadata": {},
     "output_type": "execute_result"
    }
   ],
   "source": [
    "stk_df['CMO_signal'].value_counts()"
   ]
  },
  {
   "cell_type": "code",
   "execution_count": 34,
   "metadata": {
    "editable": true
   },
   "outputs": [
    {
     "data": {
      "text/plain": [
       "44"
      ]
     },
     "execution_count": 34,
     "metadata": {},
     "output_type": "execute_result"
    }
   ],
   "source": [
    "gc.collect()"
   ]
  },
  {
   "cell_type": "code",
   "execution_count": 35,
   "metadata": {
    "editable": true
   },
   "outputs": [],
   "source": [
    "# DMI\n",
    "stk_df['plus_DI'] = stk_df.groupby('secID')[['highestPrice','lowestPrice','closePrice']].apply(lambda x: ta.PLUS_DI(high=x['highestPrice'], low=x['lowestPrice'], close=x['closePrice']).to_frame()).values\n",
    "stk_df['minus_DI'] = stk_df.groupby('secID')[['highestPrice','lowestPrice','closePrice']].apply(lambda x: ta.MINUS_DI(high=x['highestPrice'], low=x['lowestPrice'], close=x['closePrice']).to_frame()).values\n",
    "stk_df['ADX'] = stk_df.groupby('secID')[['highestPrice','lowestPrice','closePrice']].apply(lambda x: ta.ADX(high=x['highestPrice'], low=x['lowestPrice'], close=x['closePrice']).to_frame()).values"
   ]
  },
  {
   "cell_type": "code",
   "execution_count": 36,
   "metadata": {
    "editable": true
   },
   "outputs": [],
   "source": [
    "buy_threshold = 50 \n",
    "sell_threshold = 20\n",
    "buy_DMI = (stk_df['ADX']>buy_threshold)&(stk_df['plus_DI']>stk_df['minus_DI'])\n",
    "sell_DMI = (stk_df['ADX']<sell_threshold)|(stk_df['plus_DI']<stk_df['minus_DI'])\n",
    "stk_df['DMI_signal'] = np.where(buy_DMI,1,np.nan)\n",
    "stk_df.loc[sell_DMI,'DMI_signal'] = 0\n",
    "stk_df['DMI_signal'] = stk_df.groupby('secID')['DMI_signal'].fillna(method='ffill')"
   ]
  },
  {
   "cell_type": "code",
   "execution_count": 37,
   "metadata": {
    "editable": true
   },
   "outputs": [
    {
     "data": {
      "text/plain": [
       "0.0    1881832\n",
       "1.0      70271\n",
       "Name: DMI_signal, dtype: int64"
      ]
     },
     "execution_count": 37,
     "metadata": {},
     "output_type": "execute_result"
    }
   ],
   "source": [
    "stk_df['DMI_signal'].value_counts()"
   ]
  },
  {
   "cell_type": "code",
   "execution_count": 38,
   "metadata": {
    "editable": true
   },
   "outputs": [],
   "source": [
    "# MFI\n",
    "stk_df['MFI'] = stk_df.groupby('secID')[['highestPrice','lowestPrice','closePrice','turnoverVol']].apply(lambda x:ta.MFI(high=x['highestPrice'],low=x['lowestPrice'],close=x['closePrice'],volume=x['turnoverVol']).to_frame()).values"
   ]
  },
  {
   "cell_type": "code",
   "execution_count": 39,
   "metadata": {
    "editable": true
   },
   "outputs": [],
   "source": [
    "buy_threshold = 20  \n",
    "sell_threshold = 80 \n",
    "buy_MFI = stk_df['MFI']<buy_threshold\n",
    "sell_MFI = stk_df['MFI']>sell_threshold\n",
    "stk_df['MFI_signal'] = np.where(buy_MFI,1,np.nan)\n",
    "stk_df.loc[sell_MFI,'MFI_signal'] = 0\n",
    "stk_df['MFI_signal'] = stk_df.groupby('secID')['MFI_signal'].fillna(method='ffill')"
   ]
  },
  {
   "cell_type": "code",
   "execution_count": 40,
   "metadata": {
    "editable": true
   },
   "outputs": [
    {
     "data": {
      "text/plain": [
       "0.0    1266671\n",
       "1.0     669159\n",
       "Name: MFI_signal, dtype: int64"
      ]
     },
     "execution_count": 40,
     "metadata": {},
     "output_type": "execute_result"
    }
   ],
   "source": [
    "stk_df['MFI_signal'].value_counts()"
   ]
  },
  {
   "cell_type": "code",
   "execution_count": 41,
   "metadata": {
    "editable": true
   },
   "outputs": [],
   "source": [
    "# RSI\n",
    "stk_df['RSI'] = stk_df.groupby('secID')['closePrice'].apply(ta.RSI)\n",
    "buy_threshold = 30\n",
    "sell_threshold = 70\n",
    "buy_RSI = stk_df['RSI'] < buy_threshold\n",
    "sell_RSI = stk_df['RSI'] > sell_threshold\n",
    "stk_df['RSI_signal'] = np.where(buy_RSI,1,np.nan)\n",
    "stk_df.loc[sell_RSI,'RSI_signal'] = 0\n",
    "stk_df['RSI_signal'] = stk_df.groupby('secID')['RSI_signal'].fillna(method='ffill')"
   ]
  },
  {
   "cell_type": "code",
   "execution_count": 42,
   "metadata": {
    "editable": true
   },
   "outputs": [],
   "source": [
    "# %%time\n",
    "# WVAD\n",
    "# def wvad(df):\n",
    "#     return sum((df[:,0] - df[:,1]) / (df[:,2] - df[:,3]) * df[:,4])\n",
    "\n",
    "# stk_df.groupby('secID')[['closePrice','openPrice','highestPrice',\n",
    "#                          'lowestPrice','turnoverVol']].apply(lambda x: x.rolling(24).apply(wvad,raw=False))\n",
    "####### The above code is not working ##########\n",
    "\n",
    "# temp = stk_df[stk_df['secID'].isin(np.random.choice(stk_df['secID'].unique(),10))].copy()\n",
    "# def wvad(closePrice):\n",
    "#     close = closePrice\n",
    "#     open_ = stk_df.loc[closePrice.index, 'openPrice'].to_numpy()\n",
    "#     high = stk_df.loc[closePrice.index, 'highestPrice'].to_numpy()\n",
    "#     low = stk_df.loc[closePrice.index, 'lowestPrice'].to_numpy()\n",
    "#     volume = stk_df.loc[closePrice.index, 'turnoverVol'].to_numpy()\n",
    "#     return sum((closePrice - open_) / (high - low) * volume)\n",
    "# temp2 = temp.groupby('secID')['closePrice'].rolling(24).apply(wvad, raw=False)"
   ]
  },
  {
   "cell_type": "code",
   "execution_count": 43,
   "metadata": {
    "editable": true
   },
   "outputs": [],
   "source": [
    "stk_df.reset_index(inplace=True, drop=True)"
   ]
  },
  {
   "cell_type": "code",
   "execution_count": 44,
   "metadata": {
    "editable": true
   },
   "outputs": [
    {
     "data": {
      "text/html": [
       "<div>\n",
       "<style scoped>\n",
       "    .dataframe tbody tr th:only-of-type {\n",
       "        vertical-align: middle;\n",
       "    }\n",
       "\n",
       "    .dataframe tbody tr th {\n",
       "        vertical-align: top;\n",
       "    }\n",
       "\n",
       "    .dataframe thead th {\n",
       "        text-align: right;\n",
       "    }\n",
       "</style>\n",
       "<table border=\"1\" class=\"dataframe\">\n",
       "  <thead>\n",
       "    <tr style=\"text-align: right;\">\n",
       "      <th></th>\n",
       "      <th>secID</th>\n",
       "      <th>tradeDate</th>\n",
       "      <th>open_ret</th>\n",
       "      <th>EM_signal</th>\n",
       "      <th>MACD_signal</th>\n",
       "      <th>OBV_signal</th>\n",
       "      <th>AROON_signal</th>\n",
       "      <th>BOLL_signal</th>\n",
       "      <th>CCI_signal</th>\n",
       "      <th>CMO_signal</th>\n",
       "      <th>DMI_signal</th>\n",
       "      <th>MFI_signal</th>\n",
       "      <th>RSI_signal</th>\n",
       "      <th>signal_date</th>\n",
       "      <th>ret_sign</th>\n",
       "    </tr>\n",
       "  </thead>\n",
       "  <tbody>\n",
       "    <tr>\n",
       "      <th>81</th>\n",
       "      <td>000004.XSHE</td>\n",
       "      <td>2011-10-11</td>\n",
       "      <td>0.000000</td>\n",
       "      <td>0.0</td>\n",
       "      <td>0.0</td>\n",
       "      <td>0</td>\n",
       "      <td>1.0</td>\n",
       "      <td>0.0</td>\n",
       "      <td>1.0</td>\n",
       "      <td>1.0</td>\n",
       "      <td>0.0</td>\n",
       "      <td>0.0</td>\n",
       "      <td>1.0</td>\n",
       "      <td>2011-09-30</td>\n",
       "      <td>-1</td>\n",
       "    </tr>\n",
       "    <tr>\n",
       "      <th>82</th>\n",
       "      <td>000004.XSHE</td>\n",
       "      <td>2011-10-12</td>\n",
       "      <td>-0.013465</td>\n",
       "      <td>0.0</td>\n",
       "      <td>0.0</td>\n",
       "      <td>0</td>\n",
       "      <td>1.0</td>\n",
       "      <td>0.0</td>\n",
       "      <td>1.0</td>\n",
       "      <td>1.0</td>\n",
       "      <td>0.0</td>\n",
       "      <td>0.0</td>\n",
       "      <td>1.0</td>\n",
       "      <td>2011-10-10</td>\n",
       "      <td>-1</td>\n",
       "    </tr>\n",
       "    <tr>\n",
       "      <th>83</th>\n",
       "      <td>000004.XSHE</td>\n",
       "      <td>2011-10-13</td>\n",
       "      <td>0.042886</td>\n",
       "      <td>0.0</td>\n",
       "      <td>0.0</td>\n",
       "      <td>1</td>\n",
       "      <td>1.0</td>\n",
       "      <td>0.0</td>\n",
       "      <td>1.0</td>\n",
       "      <td>1.0</td>\n",
       "      <td>0.0</td>\n",
       "      <td>0.0</td>\n",
       "      <td>1.0</td>\n",
       "      <td>2011-10-11</td>\n",
       "      <td>1</td>\n",
       "    </tr>\n",
       "    <tr>\n",
       "      <th>84</th>\n",
       "      <td>000004.XSHE</td>\n",
       "      <td>2011-10-14</td>\n",
       "      <td>0.000000</td>\n",
       "      <td>0.0</td>\n",
       "      <td>0.0</td>\n",
       "      <td>1</td>\n",
       "      <td>1.0</td>\n",
       "      <td>0.0</td>\n",
       "      <td>1.0</td>\n",
       "      <td>1.0</td>\n",
       "      <td>0.0</td>\n",
       "      <td>0.0</td>\n",
       "      <td>1.0</td>\n",
       "      <td>2011-10-12</td>\n",
       "      <td>-1</td>\n",
       "    </tr>\n",
       "    <tr>\n",
       "      <th>85</th>\n",
       "      <td>000004.XSHE</td>\n",
       "      <td>2011-10-17</td>\n",
       "      <td>0.003747</td>\n",
       "      <td>0.0</td>\n",
       "      <td>0.0</td>\n",
       "      <td>1</td>\n",
       "      <td>1.0</td>\n",
       "      <td>0.0</td>\n",
       "      <td>1.0</td>\n",
       "      <td>1.0</td>\n",
       "      <td>0.0</td>\n",
       "      <td>0.0</td>\n",
       "      <td>1.0</td>\n",
       "      <td>2011-10-13</td>\n",
       "      <td>1</td>\n",
       "    </tr>\n",
       "    <tr>\n",
       "      <th>86</th>\n",
       "      <td>000004.XSHE</td>\n",
       "      <td>2011-10-18</td>\n",
       "      <td>-0.003733</td>\n",
       "      <td>0.0</td>\n",
       "      <td>0.0</td>\n",
       "      <td>0</td>\n",
       "      <td>1.0</td>\n",
       "      <td>0.0</td>\n",
       "      <td>1.0</td>\n",
       "      <td>1.0</td>\n",
       "      <td>0.0</td>\n",
       "      <td>0.0</td>\n",
       "      <td>1.0</td>\n",
       "      <td>2011-10-14</td>\n",
       "      <td>-1</td>\n",
       "    </tr>\n",
       "    <tr>\n",
       "      <th>87</th>\n",
       "      <td>000004.XSHE</td>\n",
       "      <td>2011-10-19</td>\n",
       "      <td>-0.026161</td>\n",
       "      <td>0.0</td>\n",
       "      <td>0.0</td>\n",
       "      <td>1</td>\n",
       "      <td>1.0</td>\n",
       "      <td>0.0</td>\n",
       "      <td>1.0</td>\n",
       "      <td>1.0</td>\n",
       "      <td>0.0</td>\n",
       "      <td>0.0</td>\n",
       "      <td>1.0</td>\n",
       "      <td>2011-10-17</td>\n",
       "      <td>-1</td>\n",
       "    </tr>\n",
       "    <tr>\n",
       "      <th>88</th>\n",
       "      <td>000004.XSHE</td>\n",
       "      <td>2011-10-20</td>\n",
       "      <td>0.008636</td>\n",
       "      <td>0.0</td>\n",
       "      <td>0.0</td>\n",
       "      <td>0</td>\n",
       "      <td>1.0</td>\n",
       "      <td>0.0</td>\n",
       "      <td>1.0</td>\n",
       "      <td>1.0</td>\n",
       "      <td>0.0</td>\n",
       "      <td>0.0</td>\n",
       "      <td>1.0</td>\n",
       "      <td>2011-10-18</td>\n",
       "      <td>1</td>\n",
       "    </tr>\n",
       "    <tr>\n",
       "      <th>...</th>\n",
       "      <td>...</td>\n",
       "      <td>...</td>\n",
       "      <td>...</td>\n",
       "      <td>...</td>\n",
       "      <td>...</td>\n",
       "      <td>...</td>\n",
       "      <td>...</td>\n",
       "      <td>...</td>\n",
       "      <td>...</td>\n",
       "      <td>...</td>\n",
       "      <td>...</td>\n",
       "      <td>...</td>\n",
       "      <td>...</td>\n",
       "      <td>...</td>\n",
       "      <td>...</td>\n",
       "    </tr>\n",
       "    <tr>\n",
       "      <th>1978603</th>\n",
       "      <td>689009.XSHG</td>\n",
       "      <td>2024-04-19</td>\n",
       "      <td>0.020643</td>\n",
       "      <td>1.0</td>\n",
       "      <td>0.0</td>\n",
       "      <td>1</td>\n",
       "      <td>1.0</td>\n",
       "      <td>0.0</td>\n",
       "      <td>1.0</td>\n",
       "      <td>1.0</td>\n",
       "      <td>0.0</td>\n",
       "      <td>1.0</td>\n",
       "      <td>1.0</td>\n",
       "      <td>2024-04-17</td>\n",
       "      <td>1</td>\n",
       "    </tr>\n",
       "    <tr>\n",
       "      <th>1978604</th>\n",
       "      <td>689009.XSHG</td>\n",
       "      <td>2024-04-22</td>\n",
       "      <td>-0.017905</td>\n",
       "      <td>1.0</td>\n",
       "      <td>1.0</td>\n",
       "      <td>1</td>\n",
       "      <td>1.0</td>\n",
       "      <td>0.0</td>\n",
       "      <td>1.0</td>\n",
       "      <td>1.0</td>\n",
       "      <td>0.0</td>\n",
       "      <td>1.0</td>\n",
       "      <td>1.0</td>\n",
       "      <td>2024-04-18</td>\n",
       "      <td>-1</td>\n",
       "    </tr>\n",
       "    <tr>\n",
       "      <th>1978605</th>\n",
       "      <td>689009.XSHG</td>\n",
       "      <td>2024-04-23</td>\n",
       "      <td>0.038488</td>\n",
       "      <td>1.0</td>\n",
       "      <td>1.0</td>\n",
       "      <td>0</td>\n",
       "      <td>1.0</td>\n",
       "      <td>0.0</td>\n",
       "      <td>1.0</td>\n",
       "      <td>1.0</td>\n",
       "      <td>0.0</td>\n",
       "      <td>1.0</td>\n",
       "      <td>1.0</td>\n",
       "      <td>2024-04-19</td>\n",
       "      <td>1</td>\n",
       "    </tr>\n",
       "    <tr>\n",
       "      <th>1978606</th>\n",
       "      <td>689009.XSHG</td>\n",
       "      <td>2024-04-24</td>\n",
       "      <td>0.020156</td>\n",
       "      <td>1.0</td>\n",
       "      <td>1.0</td>\n",
       "      <td>1</td>\n",
       "      <td>1.0</td>\n",
       "      <td>0.0</td>\n",
       "      <td>1.0</td>\n",
       "      <td>1.0</td>\n",
       "      <td>0.0</td>\n",
       "      <td>1.0</td>\n",
       "      <td>1.0</td>\n",
       "      <td>2024-04-22</td>\n",
       "      <td>1</td>\n",
       "    </tr>\n",
       "    <tr>\n",
       "      <th>1978607</th>\n",
       "      <td>689009.XSHG</td>\n",
       "      <td>2024-04-25</td>\n",
       "      <td>0.121096</td>\n",
       "      <td>1.0</td>\n",
       "      <td>1.0</td>\n",
       "      <td>1</td>\n",
       "      <td>1.0</td>\n",
       "      <td>0.0</td>\n",
       "      <td>0.0</td>\n",
       "      <td>1.0</td>\n",
       "      <td>0.0</td>\n",
       "      <td>1.0</td>\n",
       "      <td>1.0</td>\n",
       "      <td>2024-04-23</td>\n",
       "      <td>1</td>\n",
       "    </tr>\n",
       "    <tr>\n",
       "      <th>1978608</th>\n",
       "      <td>689009.XSHG</td>\n",
       "      <td>2024-04-26</td>\n",
       "      <td>0.014781</td>\n",
       "      <td>1.0</td>\n",
       "      <td>1.0</td>\n",
       "      <td>1</td>\n",
       "      <td>0.0</td>\n",
       "      <td>0.0</td>\n",
       "      <td>0.0</td>\n",
       "      <td>1.0</td>\n",
       "      <td>0.0</td>\n",
       "      <td>1.0</td>\n",
       "      <td>1.0</td>\n",
       "      <td>2024-04-24</td>\n",
       "      <td>1</td>\n",
       "    </tr>\n",
       "    <tr>\n",
       "      <th>1978609</th>\n",
       "      <td>689009.XSHG</td>\n",
       "      <td>2024-04-29</td>\n",
       "      <td>0.014006</td>\n",
       "      <td>1.0</td>\n",
       "      <td>1.0</td>\n",
       "      <td>1</td>\n",
       "      <td>0.0</td>\n",
       "      <td>0.0</td>\n",
       "      <td>0.0</td>\n",
       "      <td>1.0</td>\n",
       "      <td>0.0</td>\n",
       "      <td>1.0</td>\n",
       "      <td>1.0</td>\n",
       "      <td>2024-04-25</td>\n",
       "      <td>1</td>\n",
       "    </tr>\n",
       "    <tr>\n",
       "      <th>1978610</th>\n",
       "      <td>689009.XSHG</td>\n",
       "      <td>2024-04-30</td>\n",
       "      <td>0.034807</td>\n",
       "      <td>1.0</td>\n",
       "      <td>1.0</td>\n",
       "      <td>1</td>\n",
       "      <td>0.0</td>\n",
       "      <td>0.0</td>\n",
       "      <td>0.0</td>\n",
       "      <td>1.0</td>\n",
       "      <td>0.0</td>\n",
       "      <td>0.0</td>\n",
       "      <td>0.0</td>\n",
       "      <td>2024-04-26</td>\n",
       "      <td>1</td>\n",
       "    </tr>\n",
       "  </tbody>\n",
       "</table>\n",
       "<p>1894394 rows × 15 columns</p>\n",
       "</div>"
      ],
      "text/plain": [
       "               secID  tradeDate  open_ret  EM_signal  MACD_signal  OBV_signal  \\\n",
       "81       000004.XSHE 2011-10-11  0.000000        0.0          0.0           0   \n",
       "82       000004.XSHE 2011-10-12 -0.013465        0.0          0.0           0   \n",
       "83       000004.XSHE 2011-10-13  0.042886        0.0          0.0           1   \n",
       "84       000004.XSHE 2011-10-14  0.000000        0.0          0.0           1   \n",
       "85       000004.XSHE 2011-10-17  0.003747        0.0          0.0           1   \n",
       "86       000004.XSHE 2011-10-18 -0.003733        0.0          0.0           0   \n",
       "87       000004.XSHE 2011-10-19 -0.026161        0.0          0.0           1   \n",
       "88       000004.XSHE 2011-10-20  0.008636        0.0          0.0           0   \n",
       "...              ...        ...       ...        ...          ...         ...   \n",
       "1978603  689009.XSHG 2024-04-19  0.020643        1.0          0.0           1   \n",
       "1978604  689009.XSHG 2024-04-22 -0.017905        1.0          1.0           1   \n",
       "1978605  689009.XSHG 2024-04-23  0.038488        1.0          1.0           0   \n",
       "1978606  689009.XSHG 2024-04-24  0.020156        1.0          1.0           1   \n",
       "1978607  689009.XSHG 2024-04-25  0.121096        1.0          1.0           1   \n",
       "1978608  689009.XSHG 2024-04-26  0.014781        1.0          1.0           1   \n",
       "1978609  689009.XSHG 2024-04-29  0.014006        1.0          1.0           1   \n",
       "1978610  689009.XSHG 2024-04-30  0.034807        1.0          1.0           1   \n",
       "\n",
       "         AROON_signal  BOLL_signal  CCI_signal  CMO_signal  DMI_signal  \\\n",
       "81                1.0          0.0         1.0         1.0         0.0   \n",
       "82                1.0          0.0         1.0         1.0         0.0   \n",
       "83                1.0          0.0         1.0         1.0         0.0   \n",
       "84                1.0          0.0         1.0         1.0         0.0   \n",
       "85                1.0          0.0         1.0         1.0         0.0   \n",
       "86                1.0          0.0         1.0         1.0         0.0   \n",
       "87                1.0          0.0         1.0         1.0         0.0   \n",
       "88                1.0          0.0         1.0         1.0         0.0   \n",
       "...               ...          ...         ...         ...         ...   \n",
       "1978603           1.0          0.0         1.0         1.0         0.0   \n",
       "1978604           1.0          0.0         1.0         1.0         0.0   \n",
       "1978605           1.0          0.0         1.0         1.0         0.0   \n",
       "1978606           1.0          0.0         1.0         1.0         0.0   \n",
       "1978607           1.0          0.0         0.0         1.0         0.0   \n",
       "1978608           0.0          0.0         0.0         1.0         0.0   \n",
       "1978609           0.0          0.0         0.0         1.0         0.0   \n",
       "1978610           0.0          0.0         0.0         1.0         0.0   \n",
       "\n",
       "         MFI_signal  RSI_signal signal_date  ret_sign  \n",
       "81              0.0         1.0  2011-09-30        -1  \n",
       "82              0.0         1.0  2011-10-10        -1  \n",
       "83              0.0         1.0  2011-10-11         1  \n",
       "84              0.0         1.0  2011-10-12        -1  \n",
       "85              0.0         1.0  2011-10-13         1  \n",
       "86              0.0         1.0  2011-10-14        -1  \n",
       "87              0.0         1.0  2011-10-17        -1  \n",
       "88              0.0         1.0  2011-10-18         1  \n",
       "...             ...         ...         ...       ...  \n",
       "1978603         1.0         1.0  2024-04-17         1  \n",
       "1978604         1.0         1.0  2024-04-18        -1  \n",
       "1978605         1.0         1.0  2024-04-19         1  \n",
       "1978606         1.0         1.0  2024-04-22         1  \n",
       "1978607         1.0         1.0  2024-04-23         1  \n",
       "1978608         1.0         1.0  2024-04-24         1  \n",
       "1978609         1.0         1.0  2024-04-25         1  \n",
       "1978610         0.0         0.0  2024-04-26         1  \n",
       "\n",
       "[1894394 rows x 15 columns]"
      ]
     },
     "execution_count": 44,
     "metadata": {},
     "output_type": "execute_result"
    }
   ],
   "source": [
    "cols = ['secID','tradeDate','open_ret'] + [col for col in stk_df.columns if col[-6:]=='signal']\n",
    "\n",
    "ret_df = stk_df[cols].copy()\n",
    "\n",
    "ret_df['signal_date'] = ret_df['tradeDate']\n",
    "\n",
    "ret_df[['tradeDate','open_ret']] = ret_df.groupby('secID')[['tradeDate','open_ret']].shift(-2)\n",
    "\n",
    "ret_df.dropna(inplace=True)\n",
    "\n",
    "ret_df.drop('MACD_rawsignal',axis=1,inplace=True)\n",
    "\n",
    "ret_df['ret_sign'] = np.where(ret_df['open_ret']>0,1,-1)\n",
    "\n",
    "ret_df"
   ]
  },
  {
   "cell_type": "code",
   "execution_count": 45,
   "metadata": {
    "editable": true
   },
   "outputs": [],
   "source": [
    "ret_df.sort_values('tradeDate',inplace=True)\n",
    "\n",
    "ret_df.reset_index(inplace=True,drop=True)"
   ]
  },
  {
   "cell_type": "code",
   "execution_count": 46,
   "metadata": {
    "editable": true
   },
   "outputs": [
    {
     "data": {
      "text/html": [
       "<div>\n",
       "<style scoped>\n",
       "    .dataframe tbody tr th:only-of-type {\n",
       "        vertical-align: middle;\n",
       "    }\n",
       "\n",
       "    .dataframe tbody tr th {\n",
       "        vertical-align: top;\n",
       "    }\n",
       "\n",
       "    .dataframe thead th {\n",
       "        text-align: right;\n",
       "    }\n",
       "</style>\n",
       "<table border=\"1\" class=\"dataframe\">\n",
       "  <thead>\n",
       "    <tr style=\"text-align: right;\">\n",
       "      <th></th>\n",
       "      <th>secID</th>\n",
       "      <th>tradeDate</th>\n",
       "      <th>open_ret</th>\n",
       "      <th>EM_signal</th>\n",
       "      <th>MACD_signal</th>\n",
       "      <th>OBV_signal</th>\n",
       "      <th>AROON_signal</th>\n",
       "      <th>BOLL_signal</th>\n",
       "      <th>CCI_signal</th>\n",
       "      <th>CMO_signal</th>\n",
       "      <th>DMI_signal</th>\n",
       "      <th>MFI_signal</th>\n",
       "      <th>RSI_signal</th>\n",
       "      <th>signal_date</th>\n",
       "      <th>ret_sign</th>\n",
       "    </tr>\n",
       "  </thead>\n",
       "  <tbody>\n",
       "    <tr>\n",
       "      <th>0</th>\n",
       "      <td>600446.XSHG</td>\n",
       "      <td>2007-03-01</td>\n",
       "      <td>0.039526</td>\n",
       "      <td>0.0</td>\n",
       "      <td>0.0</td>\n",
       "      <td>0</td>\n",
       "      <td>0.0</td>\n",
       "      <td>0.0</td>\n",
       "      <td>0.0</td>\n",
       "      <td>0.0</td>\n",
       "      <td>0.0</td>\n",
       "      <td>0.0</td>\n",
       "      <td>0.0</td>\n",
       "      <td>2007-02-27</td>\n",
       "      <td>1</td>\n",
       "    </tr>\n",
       "    <tr>\n",
       "      <th>1</th>\n",
       "      <td>600839.XSHG</td>\n",
       "      <td>2007-03-01</td>\n",
       "      <td>0.075766</td>\n",
       "      <td>1.0</td>\n",
       "      <td>1.0</td>\n",
       "      <td>0</td>\n",
       "      <td>0.0</td>\n",
       "      <td>0.0</td>\n",
       "      <td>0.0</td>\n",
       "      <td>0.0</td>\n",
       "      <td>0.0</td>\n",
       "      <td>0.0</td>\n",
       "      <td>0.0</td>\n",
       "      <td>2007-02-27</td>\n",
       "      <td>1</td>\n",
       "    </tr>\n",
       "    <tr>\n",
       "      <th>2</th>\n",
       "      <td>000883.XSHE</td>\n",
       "      <td>2007-03-01</td>\n",
       "      <td>0.087668</td>\n",
       "      <td>1.0</td>\n",
       "      <td>1.0</td>\n",
       "      <td>0</td>\n",
       "      <td>0.0</td>\n",
       "      <td>0.0</td>\n",
       "      <td>0.0</td>\n",
       "      <td>0.0</td>\n",
       "      <td>1.0</td>\n",
       "      <td>0.0</td>\n",
       "      <td>0.0</td>\n",
       "      <td>2007-02-27</td>\n",
       "      <td>1</td>\n",
       "    </tr>\n",
       "    <tr>\n",
       "      <th>3</th>\n",
       "      <td>600820.XSHG</td>\n",
       "      <td>2007-03-01</td>\n",
       "      <td>0.034152</td>\n",
       "      <td>1.0</td>\n",
       "      <td>0.0</td>\n",
       "      <td>0</td>\n",
       "      <td>0.0</td>\n",
       "      <td>0.0</td>\n",
       "      <td>0.0</td>\n",
       "      <td>0.0</td>\n",
       "      <td>1.0</td>\n",
       "      <td>0.0</td>\n",
       "      <td>0.0</td>\n",
       "      <td>2007-02-27</td>\n",
       "      <td>1</td>\n",
       "    </tr>\n",
       "    <tr>\n",
       "      <th>4</th>\n",
       "      <td>600004.XSHG</td>\n",
       "      <td>2007-03-01</td>\n",
       "      <td>0.063769</td>\n",
       "      <td>1.0</td>\n",
       "      <td>1.0</td>\n",
       "      <td>0</td>\n",
       "      <td>0.0</td>\n",
       "      <td>0.0</td>\n",
       "      <td>0.0</td>\n",
       "      <td>0.0</td>\n",
       "      <td>1.0</td>\n",
       "      <td>0.0</td>\n",
       "      <td>0.0</td>\n",
       "      <td>2007-02-27</td>\n",
       "      <td>1</td>\n",
       "    </tr>\n",
       "    <tr>\n",
       "      <th>5</th>\n",
       "      <td>002064.XSHE</td>\n",
       "      <td>2007-03-01</td>\n",
       "      <td>-0.024068</td>\n",
       "      <td>1.0</td>\n",
       "      <td>1.0</td>\n",
       "      <td>0</td>\n",
       "      <td>0.0</td>\n",
       "      <td>0.0</td>\n",
       "      <td>0.0</td>\n",
       "      <td>0.0</td>\n",
       "      <td>1.0</td>\n",
       "      <td>0.0</td>\n",
       "      <td>0.0</td>\n",
       "      <td>2007-02-27</td>\n",
       "      <td>-1</td>\n",
       "    </tr>\n",
       "    <tr>\n",
       "      <th>6</th>\n",
       "      <td>600170.XSHG</td>\n",
       "      <td>2007-03-01</td>\n",
       "      <td>0.058523</td>\n",
       "      <td>1.0</td>\n",
       "      <td>1.0</td>\n",
       "      <td>0</td>\n",
       "      <td>0.0</td>\n",
       "      <td>0.0</td>\n",
       "      <td>0.0</td>\n",
       "      <td>0.0</td>\n",
       "      <td>0.0</td>\n",
       "      <td>0.0</td>\n",
       "      <td>0.0</td>\n",
       "      <td>2007-02-27</td>\n",
       "      <td>1</td>\n",
       "    </tr>\n",
       "    <tr>\n",
       "      <th>7</th>\n",
       "      <td>000729.XSHE</td>\n",
       "      <td>2007-03-01</td>\n",
       "      <td>0.057694</td>\n",
       "      <td>0.0</td>\n",
       "      <td>1.0</td>\n",
       "      <td>0</td>\n",
       "      <td>0.0</td>\n",
       "      <td>0.0</td>\n",
       "      <td>0.0</td>\n",
       "      <td>0.0</td>\n",
       "      <td>0.0</td>\n",
       "      <td>0.0</td>\n",
       "      <td>0.0</td>\n",
       "      <td>2007-02-27</td>\n",
       "      <td>1</td>\n",
       "    </tr>\n",
       "    <tr>\n",
       "      <th>...</th>\n",
       "      <td>...</td>\n",
       "      <td>...</td>\n",
       "      <td>...</td>\n",
       "      <td>...</td>\n",
       "      <td>...</td>\n",
       "      <td>...</td>\n",
       "      <td>...</td>\n",
       "      <td>...</td>\n",
       "      <td>...</td>\n",
       "      <td>...</td>\n",
       "      <td>...</td>\n",
       "      <td>...</td>\n",
       "      <td>...</td>\n",
       "      <td>...</td>\n",
       "      <td>...</td>\n",
       "    </tr>\n",
       "    <tr>\n",
       "      <th>1894386</th>\n",
       "      <td>603728.XSHG</td>\n",
       "      <td>2024-04-30</td>\n",
       "      <td>-0.041047</td>\n",
       "      <td>1.0</td>\n",
       "      <td>1.0</td>\n",
       "      <td>1</td>\n",
       "      <td>1.0</td>\n",
       "      <td>0.0</td>\n",
       "      <td>0.0</td>\n",
       "      <td>1.0</td>\n",
       "      <td>0.0</td>\n",
       "      <td>1.0</td>\n",
       "      <td>0.0</td>\n",
       "      <td>2024-04-26</td>\n",
       "      <td>-1</td>\n",
       "    </tr>\n",
       "    <tr>\n",
       "      <th>1894387</th>\n",
       "      <td>002909.XSHE</td>\n",
       "      <td>2024-04-30</td>\n",
       "      <td>0.032663</td>\n",
       "      <td>0.0</td>\n",
       "      <td>0.0</td>\n",
       "      <td>0</td>\n",
       "      <td>1.0</td>\n",
       "      <td>0.0</td>\n",
       "      <td>1.0</td>\n",
       "      <td>1.0</td>\n",
       "      <td>0.0</td>\n",
       "      <td>1.0</td>\n",
       "      <td>1.0</td>\n",
       "      <td>2024-04-26</td>\n",
       "      <td>1</td>\n",
       "    </tr>\n",
       "    <tr>\n",
       "      <th>1894388</th>\n",
       "      <td>002903.XSHE</td>\n",
       "      <td>2024-04-30</td>\n",
       "      <td>0.019955</td>\n",
       "      <td>0.0</td>\n",
       "      <td>0.0</td>\n",
       "      <td>1</td>\n",
       "      <td>1.0</td>\n",
       "      <td>0.0</td>\n",
       "      <td>1.0</td>\n",
       "      <td>1.0</td>\n",
       "      <td>0.0</td>\n",
       "      <td>0.0</td>\n",
       "      <td>1.0</td>\n",
       "      <td>2024-04-26</td>\n",
       "      <td>1</td>\n",
       "    </tr>\n",
       "    <tr>\n",
       "      <th>1894389</th>\n",
       "      <td>603755.XSHG</td>\n",
       "      <td>2024-04-30</td>\n",
       "      <td>0.014773</td>\n",
       "      <td>1.0</td>\n",
       "      <td>1.0</td>\n",
       "      <td>1</td>\n",
       "      <td>0.0</td>\n",
       "      <td>0.0</td>\n",
       "      <td>1.0</td>\n",
       "      <td>1.0</td>\n",
       "      <td>0.0</td>\n",
       "      <td>1.0</td>\n",
       "      <td>1.0</td>\n",
       "      <td>2024-04-26</td>\n",
       "      <td>1</td>\n",
       "    </tr>\n",
       "    <tr>\n",
       "      <th>1894390</th>\n",
       "      <td>002902.XSHE</td>\n",
       "      <td>2024-04-30</td>\n",
       "      <td>0.012418</td>\n",
       "      <td>1.0</td>\n",
       "      <td>0.0</td>\n",
       "      <td>1</td>\n",
       "      <td>1.0</td>\n",
       "      <td>0.0</td>\n",
       "      <td>1.0</td>\n",
       "      <td>0.0</td>\n",
       "      <td>0.0</td>\n",
       "      <td>0.0</td>\n",
       "      <td>0.0</td>\n",
       "      <td>2024-04-26</td>\n",
       "      <td>1</td>\n",
       "    </tr>\n",
       "    <tr>\n",
       "      <th>1894391</th>\n",
       "      <td>002901.XSHE</td>\n",
       "      <td>2024-04-30</td>\n",
       "      <td>0.005437</td>\n",
       "      <td>1.0</td>\n",
       "      <td>1.0</td>\n",
       "      <td>1</td>\n",
       "      <td>1.0</td>\n",
       "      <td>0.0</td>\n",
       "      <td>1.0</td>\n",
       "      <td>1.0</td>\n",
       "      <td>0.0</td>\n",
       "      <td>1.0</td>\n",
       "      <td>1.0</td>\n",
       "      <td>2024-04-26</td>\n",
       "      <td>1</td>\n",
       "    </tr>\n",
       "    <tr>\n",
       "      <th>1894392</th>\n",
       "      <td>002918.XSHE</td>\n",
       "      <td>2024-04-30</td>\n",
       "      <td>0.055957</td>\n",
       "      <td>0.0</td>\n",
       "      <td>0.0</td>\n",
       "      <td>1</td>\n",
       "      <td>1.0</td>\n",
       "      <td>0.0</td>\n",
       "      <td>1.0</td>\n",
       "      <td>1.0</td>\n",
       "      <td>0.0</td>\n",
       "      <td>1.0</td>\n",
       "      <td>1.0</td>\n",
       "      <td>2024-04-26</td>\n",
       "      <td>1</td>\n",
       "    </tr>\n",
       "    <tr>\n",
       "      <th>1894393</th>\n",
       "      <td>689009.XSHG</td>\n",
       "      <td>2024-04-30</td>\n",
       "      <td>0.034807</td>\n",
       "      <td>1.0</td>\n",
       "      <td>1.0</td>\n",
       "      <td>1</td>\n",
       "      <td>0.0</td>\n",
       "      <td>0.0</td>\n",
       "      <td>0.0</td>\n",
       "      <td>1.0</td>\n",
       "      <td>0.0</td>\n",
       "      <td>0.0</td>\n",
       "      <td>0.0</td>\n",
       "      <td>2024-04-26</td>\n",
       "      <td>1</td>\n",
       "    </tr>\n",
       "  </tbody>\n",
       "</table>\n",
       "<p>1894394 rows × 15 columns</p>\n",
       "</div>"
      ],
      "text/plain": [
       "               secID  tradeDate  open_ret  EM_signal  MACD_signal  OBV_signal  \\\n",
       "0        600446.XSHG 2007-03-01  0.039526        0.0          0.0           0   \n",
       "1        600839.XSHG 2007-03-01  0.075766        1.0          1.0           0   \n",
       "2        000883.XSHE 2007-03-01  0.087668        1.0          1.0           0   \n",
       "3        600820.XSHG 2007-03-01  0.034152        1.0          0.0           0   \n",
       "4        600004.XSHG 2007-03-01  0.063769        1.0          1.0           0   \n",
       "5        002064.XSHE 2007-03-01 -0.024068        1.0          1.0           0   \n",
       "6        600170.XSHG 2007-03-01  0.058523        1.0          1.0           0   \n",
       "7        000729.XSHE 2007-03-01  0.057694        0.0          1.0           0   \n",
       "...              ...        ...       ...        ...          ...         ...   \n",
       "1894386  603728.XSHG 2024-04-30 -0.041047        1.0          1.0           1   \n",
       "1894387  002909.XSHE 2024-04-30  0.032663        0.0          0.0           0   \n",
       "1894388  002903.XSHE 2024-04-30  0.019955        0.0          0.0           1   \n",
       "1894389  603755.XSHG 2024-04-30  0.014773        1.0          1.0           1   \n",
       "1894390  002902.XSHE 2024-04-30  0.012418        1.0          0.0           1   \n",
       "1894391  002901.XSHE 2024-04-30  0.005437        1.0          1.0           1   \n",
       "1894392  002918.XSHE 2024-04-30  0.055957        0.0          0.0           1   \n",
       "1894393  689009.XSHG 2024-04-30  0.034807        1.0          1.0           1   \n",
       "\n",
       "         AROON_signal  BOLL_signal  CCI_signal  CMO_signal  DMI_signal  \\\n",
       "0                 0.0          0.0         0.0         0.0         0.0   \n",
       "1                 0.0          0.0         0.0         0.0         0.0   \n",
       "2                 0.0          0.0         0.0         0.0         1.0   \n",
       "3                 0.0          0.0         0.0         0.0         1.0   \n",
       "4                 0.0          0.0         0.0         0.0         1.0   \n",
       "5                 0.0          0.0         0.0         0.0         1.0   \n",
       "6                 0.0          0.0         0.0         0.0         0.0   \n",
       "7                 0.0          0.0         0.0         0.0         0.0   \n",
       "...               ...          ...         ...         ...         ...   \n",
       "1894386           1.0          0.0         0.0         1.0         0.0   \n",
       "1894387           1.0          0.0         1.0         1.0         0.0   \n",
       "1894388           1.0          0.0         1.0         1.0         0.0   \n",
       "1894389           0.0          0.0         1.0         1.0         0.0   \n",
       "1894390           1.0          0.0         1.0         0.0         0.0   \n",
       "1894391           1.0          0.0         1.0         1.0         0.0   \n",
       "1894392           1.0          0.0         1.0         1.0         0.0   \n",
       "1894393           0.0          0.0         0.0         1.0         0.0   \n",
       "\n",
       "         MFI_signal  RSI_signal signal_date  ret_sign  \n",
       "0               0.0         0.0  2007-02-27         1  \n",
       "1               0.0         0.0  2007-02-27         1  \n",
       "2               0.0         0.0  2007-02-27         1  \n",
       "3               0.0         0.0  2007-02-27         1  \n",
       "4               0.0         0.0  2007-02-27         1  \n",
       "5               0.0         0.0  2007-02-27        -1  \n",
       "6               0.0         0.0  2007-02-27         1  \n",
       "7               0.0         0.0  2007-02-27         1  \n",
       "...             ...         ...         ...       ...  \n",
       "1894386         1.0         0.0  2024-04-26        -1  \n",
       "1894387         1.0         1.0  2024-04-26         1  \n",
       "1894388         0.0         1.0  2024-04-26         1  \n",
       "1894389         1.0         1.0  2024-04-26         1  \n",
       "1894390         0.0         0.0  2024-04-26         1  \n",
       "1894391         1.0         1.0  2024-04-26         1  \n",
       "1894392         1.0         1.0  2024-04-26         1  \n",
       "1894393         0.0         0.0  2024-04-26         1  \n",
       "\n",
       "[1894394 rows x 15 columns]"
      ]
     },
     "execution_count": 46,
     "metadata": {},
     "output_type": "execute_result"
    }
   ],
   "source": [
    "ret_df"
   ]
  },
  {
   "cell_type": "markdown",
   "metadata": {
    "editable": true
   },
   "source": [
    "# Random Forest"
   ]
  },
  {
   "cell_type": "markdown",
   "metadata": {
    "editable": true
   },
   "source": [
    "## Train, test split"
   ]
  },
  {
   "cell_type": "code",
   "execution_count": 47,
   "metadata": {
    "editable": true
   },
   "outputs": [],
   "source": [
    "ret_df['year'] = ret_df['tradeDate'].dt.year"
   ]
  },
  {
   "cell_type": "code",
   "execution_count": 48,
   "metadata": {
    "editable": true
   },
   "outputs": [],
   "source": [
    "time_idx = [value for (key, value) in sorted(ret_df.groupby('year').groups.items())]"
   ]
  },
  {
   "cell_type": "code",
   "execution_count": 54,
   "metadata": {},
   "outputs": [
    {
     "data": {
      "text/html": [
       "<div>\n",
       "<style scoped>\n",
       "    .dataframe tbody tr th:only-of-type {\n",
       "        vertical-align: middle;\n",
       "    }\n",
       "\n",
       "    .dataframe tbody tr th {\n",
       "        vertical-align: top;\n",
       "    }\n",
       "\n",
       "    .dataframe thead th {\n",
       "        text-align: right;\n",
       "    }\n",
       "</style>\n",
       "<table border=\"1\" class=\"dataframe\">\n",
       "  <thead>\n",
       "    <tr style=\"text-align: right;\">\n",
       "      <th></th>\n",
       "      <th>secID</th>\n",
       "      <th>tradeDate</th>\n",
       "      <th>open_ret</th>\n",
       "      <th>EM_signal</th>\n",
       "      <th>MACD_signal</th>\n",
       "      <th>OBV_signal</th>\n",
       "      <th>AROON_signal</th>\n",
       "      <th>BOLL_signal</th>\n",
       "      <th>CCI_signal</th>\n",
       "      <th>CMO_signal</th>\n",
       "      <th>DMI_signal</th>\n",
       "      <th>MFI_signal</th>\n",
       "      <th>RSI_signal</th>\n",
       "      <th>signal_date</th>\n",
       "      <th>ret_sign</th>\n",
       "      <th>year</th>\n",
       "    </tr>\n",
       "  </thead>\n",
       "  <tbody>\n",
       "    <tr>\n",
       "      <th>0</th>\n",
       "      <td>600446.XSHG</td>\n",
       "      <td>2007-03-01</td>\n",
       "      <td>0.039526</td>\n",
       "      <td>0.0</td>\n",
       "      <td>0.0</td>\n",
       "      <td>0</td>\n",
       "      <td>0.0</td>\n",
       "      <td>0.0</td>\n",
       "      <td>0.0</td>\n",
       "      <td>0.0</td>\n",
       "      <td>0.0</td>\n",
       "      <td>0.0</td>\n",
       "      <td>0.0</td>\n",
       "      <td>2007-02-27</td>\n",
       "      <td>1</td>\n",
       "      <td>2007</td>\n",
       "    </tr>\n",
       "    <tr>\n",
       "      <th>1</th>\n",
       "      <td>600839.XSHG</td>\n",
       "      <td>2007-03-01</td>\n",
       "      <td>0.075766</td>\n",
       "      <td>1.0</td>\n",
       "      <td>1.0</td>\n",
       "      <td>0</td>\n",
       "      <td>0.0</td>\n",
       "      <td>0.0</td>\n",
       "      <td>0.0</td>\n",
       "      <td>0.0</td>\n",
       "      <td>0.0</td>\n",
       "      <td>0.0</td>\n",
       "      <td>0.0</td>\n",
       "      <td>2007-02-27</td>\n",
       "      <td>1</td>\n",
       "      <td>2007</td>\n",
       "    </tr>\n",
       "    <tr>\n",
       "      <th>2</th>\n",
       "      <td>000883.XSHE</td>\n",
       "      <td>2007-03-01</td>\n",
       "      <td>0.087668</td>\n",
       "      <td>1.0</td>\n",
       "      <td>1.0</td>\n",
       "      <td>0</td>\n",
       "      <td>0.0</td>\n",
       "      <td>0.0</td>\n",
       "      <td>0.0</td>\n",
       "      <td>0.0</td>\n",
       "      <td>1.0</td>\n",
       "      <td>0.0</td>\n",
       "      <td>0.0</td>\n",
       "      <td>2007-02-27</td>\n",
       "      <td>1</td>\n",
       "      <td>2007</td>\n",
       "    </tr>\n",
       "    <tr>\n",
       "      <th>3</th>\n",
       "      <td>600820.XSHG</td>\n",
       "      <td>2007-03-01</td>\n",
       "      <td>0.034152</td>\n",
       "      <td>1.0</td>\n",
       "      <td>0.0</td>\n",
       "      <td>0</td>\n",
       "      <td>0.0</td>\n",
       "      <td>0.0</td>\n",
       "      <td>0.0</td>\n",
       "      <td>0.0</td>\n",
       "      <td>1.0</td>\n",
       "      <td>0.0</td>\n",
       "      <td>0.0</td>\n",
       "      <td>2007-02-27</td>\n",
       "      <td>1</td>\n",
       "      <td>2007</td>\n",
       "    </tr>\n",
       "    <tr>\n",
       "      <th>4</th>\n",
       "      <td>600004.XSHG</td>\n",
       "      <td>2007-03-01</td>\n",
       "      <td>0.063769</td>\n",
       "      <td>1.0</td>\n",
       "      <td>1.0</td>\n",
       "      <td>0</td>\n",
       "      <td>0.0</td>\n",
       "      <td>0.0</td>\n",
       "      <td>0.0</td>\n",
       "      <td>0.0</td>\n",
       "      <td>1.0</td>\n",
       "      <td>0.0</td>\n",
       "      <td>0.0</td>\n",
       "      <td>2007-02-27</td>\n",
       "      <td>1</td>\n",
       "      <td>2007</td>\n",
       "    </tr>\n",
       "    <tr>\n",
       "      <th>5</th>\n",
       "      <td>002064.XSHE</td>\n",
       "      <td>2007-03-01</td>\n",
       "      <td>-0.024068</td>\n",
       "      <td>1.0</td>\n",
       "      <td>1.0</td>\n",
       "      <td>0</td>\n",
       "      <td>0.0</td>\n",
       "      <td>0.0</td>\n",
       "      <td>0.0</td>\n",
       "      <td>0.0</td>\n",
       "      <td>1.0</td>\n",
       "      <td>0.0</td>\n",
       "      <td>0.0</td>\n",
       "      <td>2007-02-27</td>\n",
       "      <td>-1</td>\n",
       "      <td>2007</td>\n",
       "    </tr>\n",
       "    <tr>\n",
       "      <th>6</th>\n",
       "      <td>600170.XSHG</td>\n",
       "      <td>2007-03-01</td>\n",
       "      <td>0.058523</td>\n",
       "      <td>1.0</td>\n",
       "      <td>1.0</td>\n",
       "      <td>0</td>\n",
       "      <td>0.0</td>\n",
       "      <td>0.0</td>\n",
       "      <td>0.0</td>\n",
       "      <td>0.0</td>\n",
       "      <td>0.0</td>\n",
       "      <td>0.0</td>\n",
       "      <td>0.0</td>\n",
       "      <td>2007-02-27</td>\n",
       "      <td>1</td>\n",
       "      <td>2007</td>\n",
       "    </tr>\n",
       "    <tr>\n",
       "      <th>7</th>\n",
       "      <td>000729.XSHE</td>\n",
       "      <td>2007-03-01</td>\n",
       "      <td>0.057694</td>\n",
       "      <td>0.0</td>\n",
       "      <td>1.0</td>\n",
       "      <td>0</td>\n",
       "      <td>0.0</td>\n",
       "      <td>0.0</td>\n",
       "      <td>0.0</td>\n",
       "      <td>0.0</td>\n",
       "      <td>0.0</td>\n",
       "      <td>0.0</td>\n",
       "      <td>0.0</td>\n",
       "      <td>2007-02-27</td>\n",
       "      <td>1</td>\n",
       "      <td>2007</td>\n",
       "    </tr>\n",
       "    <tr>\n",
       "      <th>...</th>\n",
       "      <td>...</td>\n",
       "      <td>...</td>\n",
       "      <td>...</td>\n",
       "      <td>...</td>\n",
       "      <td>...</td>\n",
       "      <td>...</td>\n",
       "      <td>...</td>\n",
       "      <td>...</td>\n",
       "      <td>...</td>\n",
       "      <td>...</td>\n",
       "      <td>...</td>\n",
       "      <td>...</td>\n",
       "      <td>...</td>\n",
       "      <td>...</td>\n",
       "      <td>...</td>\n",
       "      <td>...</td>\n",
       "    </tr>\n",
       "    <tr>\n",
       "      <th>1894386</th>\n",
       "      <td>603728.XSHG</td>\n",
       "      <td>2024-04-30</td>\n",
       "      <td>-0.041047</td>\n",
       "      <td>1.0</td>\n",
       "      <td>1.0</td>\n",
       "      <td>1</td>\n",
       "      <td>1.0</td>\n",
       "      <td>0.0</td>\n",
       "      <td>0.0</td>\n",
       "      <td>1.0</td>\n",
       "      <td>0.0</td>\n",
       "      <td>1.0</td>\n",
       "      <td>0.0</td>\n",
       "      <td>2024-04-26</td>\n",
       "      <td>-1</td>\n",
       "      <td>2024</td>\n",
       "    </tr>\n",
       "    <tr>\n",
       "      <th>1894387</th>\n",
       "      <td>002909.XSHE</td>\n",
       "      <td>2024-04-30</td>\n",
       "      <td>0.032663</td>\n",
       "      <td>0.0</td>\n",
       "      <td>0.0</td>\n",
       "      <td>0</td>\n",
       "      <td>1.0</td>\n",
       "      <td>0.0</td>\n",
       "      <td>1.0</td>\n",
       "      <td>1.0</td>\n",
       "      <td>0.0</td>\n",
       "      <td>1.0</td>\n",
       "      <td>1.0</td>\n",
       "      <td>2024-04-26</td>\n",
       "      <td>1</td>\n",
       "      <td>2024</td>\n",
       "    </tr>\n",
       "    <tr>\n",
       "      <th>1894388</th>\n",
       "      <td>002903.XSHE</td>\n",
       "      <td>2024-04-30</td>\n",
       "      <td>0.019955</td>\n",
       "      <td>0.0</td>\n",
       "      <td>0.0</td>\n",
       "      <td>1</td>\n",
       "      <td>1.0</td>\n",
       "      <td>0.0</td>\n",
       "      <td>1.0</td>\n",
       "      <td>1.0</td>\n",
       "      <td>0.0</td>\n",
       "      <td>0.0</td>\n",
       "      <td>1.0</td>\n",
       "      <td>2024-04-26</td>\n",
       "      <td>1</td>\n",
       "      <td>2024</td>\n",
       "    </tr>\n",
       "    <tr>\n",
       "      <th>1894389</th>\n",
       "      <td>603755.XSHG</td>\n",
       "      <td>2024-04-30</td>\n",
       "      <td>0.014773</td>\n",
       "      <td>1.0</td>\n",
       "      <td>1.0</td>\n",
       "      <td>1</td>\n",
       "      <td>0.0</td>\n",
       "      <td>0.0</td>\n",
       "      <td>1.0</td>\n",
       "      <td>1.0</td>\n",
       "      <td>0.0</td>\n",
       "      <td>1.0</td>\n",
       "      <td>1.0</td>\n",
       "      <td>2024-04-26</td>\n",
       "      <td>1</td>\n",
       "      <td>2024</td>\n",
       "    </tr>\n",
       "    <tr>\n",
       "      <th>1894390</th>\n",
       "      <td>002902.XSHE</td>\n",
       "      <td>2024-04-30</td>\n",
       "      <td>0.012418</td>\n",
       "      <td>1.0</td>\n",
       "      <td>0.0</td>\n",
       "      <td>1</td>\n",
       "      <td>1.0</td>\n",
       "      <td>0.0</td>\n",
       "      <td>1.0</td>\n",
       "      <td>0.0</td>\n",
       "      <td>0.0</td>\n",
       "      <td>0.0</td>\n",
       "      <td>0.0</td>\n",
       "      <td>2024-04-26</td>\n",
       "      <td>1</td>\n",
       "      <td>2024</td>\n",
       "    </tr>\n",
       "    <tr>\n",
       "      <th>1894391</th>\n",
       "      <td>002901.XSHE</td>\n",
       "      <td>2024-04-30</td>\n",
       "      <td>0.005437</td>\n",
       "      <td>1.0</td>\n",
       "      <td>1.0</td>\n",
       "      <td>1</td>\n",
       "      <td>1.0</td>\n",
       "      <td>0.0</td>\n",
       "      <td>1.0</td>\n",
       "      <td>1.0</td>\n",
       "      <td>0.0</td>\n",
       "      <td>1.0</td>\n",
       "      <td>1.0</td>\n",
       "      <td>2024-04-26</td>\n",
       "      <td>1</td>\n",
       "      <td>2024</td>\n",
       "    </tr>\n",
       "    <tr>\n",
       "      <th>1894392</th>\n",
       "      <td>002918.XSHE</td>\n",
       "      <td>2024-04-30</td>\n",
       "      <td>0.055957</td>\n",
       "      <td>0.0</td>\n",
       "      <td>0.0</td>\n",
       "      <td>1</td>\n",
       "      <td>1.0</td>\n",
       "      <td>0.0</td>\n",
       "      <td>1.0</td>\n",
       "      <td>1.0</td>\n",
       "      <td>0.0</td>\n",
       "      <td>1.0</td>\n",
       "      <td>1.0</td>\n",
       "      <td>2024-04-26</td>\n",
       "      <td>1</td>\n",
       "      <td>2024</td>\n",
       "    </tr>\n",
       "    <tr>\n",
       "      <th>1894393</th>\n",
       "      <td>689009.XSHG</td>\n",
       "      <td>2024-04-30</td>\n",
       "      <td>0.034807</td>\n",
       "      <td>1.0</td>\n",
       "      <td>1.0</td>\n",
       "      <td>1</td>\n",
       "      <td>0.0</td>\n",
       "      <td>0.0</td>\n",
       "      <td>0.0</td>\n",
       "      <td>1.0</td>\n",
       "      <td>0.0</td>\n",
       "      <td>0.0</td>\n",
       "      <td>0.0</td>\n",
       "      <td>2024-04-26</td>\n",
       "      <td>1</td>\n",
       "      <td>2024</td>\n",
       "    </tr>\n",
       "  </tbody>\n",
       "</table>\n",
       "<p>1894394 rows × 16 columns</p>\n",
       "</div>"
      ],
      "text/plain": [
       "               secID  tradeDate  open_ret  EM_signal  MACD_signal  OBV_signal  \\\n",
       "0        600446.XSHG 2007-03-01  0.039526        0.0          0.0           0   \n",
       "1        600839.XSHG 2007-03-01  0.075766        1.0          1.0           0   \n",
       "2        000883.XSHE 2007-03-01  0.087668        1.0          1.0           0   \n",
       "3        600820.XSHG 2007-03-01  0.034152        1.0          0.0           0   \n",
       "4        600004.XSHG 2007-03-01  0.063769        1.0          1.0           0   \n",
       "5        002064.XSHE 2007-03-01 -0.024068        1.0          1.0           0   \n",
       "6        600170.XSHG 2007-03-01  0.058523        1.0          1.0           0   \n",
       "7        000729.XSHE 2007-03-01  0.057694        0.0          1.0           0   \n",
       "...              ...        ...       ...        ...          ...         ...   \n",
       "1894386  603728.XSHG 2024-04-30 -0.041047        1.0          1.0           1   \n",
       "1894387  002909.XSHE 2024-04-30  0.032663        0.0          0.0           0   \n",
       "1894388  002903.XSHE 2024-04-30  0.019955        0.0          0.0           1   \n",
       "1894389  603755.XSHG 2024-04-30  0.014773        1.0          1.0           1   \n",
       "1894390  002902.XSHE 2024-04-30  0.012418        1.0          0.0           1   \n",
       "1894391  002901.XSHE 2024-04-30  0.005437        1.0          1.0           1   \n",
       "1894392  002918.XSHE 2024-04-30  0.055957        0.0          0.0           1   \n",
       "1894393  689009.XSHG 2024-04-30  0.034807        1.0          1.0           1   \n",
       "\n",
       "         AROON_signal  BOLL_signal  CCI_signal  CMO_signal  DMI_signal  \\\n",
       "0                 0.0          0.0         0.0         0.0         0.0   \n",
       "1                 0.0          0.0         0.0         0.0         0.0   \n",
       "2                 0.0          0.0         0.0         0.0         1.0   \n",
       "3                 0.0          0.0         0.0         0.0         1.0   \n",
       "4                 0.0          0.0         0.0         0.0         1.0   \n",
       "5                 0.0          0.0         0.0         0.0         1.0   \n",
       "6                 0.0          0.0         0.0         0.0         0.0   \n",
       "7                 0.0          0.0         0.0         0.0         0.0   \n",
       "...               ...          ...         ...         ...         ...   \n",
       "1894386           1.0          0.0         0.0         1.0         0.0   \n",
       "1894387           1.0          0.0         1.0         1.0         0.0   \n",
       "1894388           1.0          0.0         1.0         1.0         0.0   \n",
       "1894389           0.0          0.0         1.0         1.0         0.0   \n",
       "1894390           1.0          0.0         1.0         0.0         0.0   \n",
       "1894391           1.0          0.0         1.0         1.0         0.0   \n",
       "1894392           1.0          0.0         1.0         1.0         0.0   \n",
       "1894393           0.0          0.0         0.0         1.0         0.0   \n",
       "\n",
       "         MFI_signal  RSI_signal signal_date  ret_sign  year  \n",
       "0               0.0         0.0  2007-02-27         1  2007  \n",
       "1               0.0         0.0  2007-02-27         1  2007  \n",
       "2               0.0         0.0  2007-02-27         1  2007  \n",
       "3               0.0         0.0  2007-02-27         1  2007  \n",
       "4               0.0         0.0  2007-02-27         1  2007  \n",
       "5               0.0         0.0  2007-02-27        -1  2007  \n",
       "6               0.0         0.0  2007-02-27         1  2007  \n",
       "7               0.0         0.0  2007-02-27         1  2007  \n",
       "...             ...         ...         ...       ...   ...  \n",
       "1894386         1.0         0.0  2024-04-26        -1  2024  \n",
       "1894387         1.0         1.0  2024-04-26         1  2024  \n",
       "1894388         0.0         1.0  2024-04-26         1  2024  \n",
       "1894389         1.0         1.0  2024-04-26         1  2024  \n",
       "1894390         0.0         0.0  2024-04-26         1  2024  \n",
       "1894391         1.0         1.0  2024-04-26         1  2024  \n",
       "1894392         1.0         1.0  2024-04-26         1  2024  \n",
       "1894393         0.0         0.0  2024-04-26         1  2024  \n",
       "\n",
       "[1894394 rows x 16 columns]"
      ]
     },
     "execution_count": 54,
     "metadata": {},
     "output_type": "execute_result"
    }
   ],
   "source": [
    "ret_df"
   ]
  },
  {
   "cell_type": "code",
   "execution_count": 49,
   "metadata": {
    "editable": true
   },
   "outputs": [],
   "source": [
    "def list_flat(list_):\n",
    "    return [item for sublist in list_ for item in sublist]\n",
    "# This is the same as:\n",
    "# def list_flat2(list_):\n",
    "#     result = []\n",
    "#     for sublist in list_:\n",
    "#         for item in sublist:\n",
    "#             result.append(item)\n",
    "#     return result"
   ]
  },
  {
   "cell_type": "code",
   "execution_count": 50,
   "metadata": {
    "editable": true
   },
   "outputs": [
    {
     "data": {
      "text/plain": [
       "[1, 2, 3, 3, 4, 5]"
      ]
     },
     "execution_count": 50,
     "metadata": {},
     "output_type": "execute_result"
    }
   ],
   "source": [
    "list_flat([[1,2,3],[3,4,5]])"
   ]
  },
  {
   "cell_type": "code",
   "execution_count": 51,
   "metadata": {
    "editable": true
   },
   "outputs": [
    {
     "data": {
      "text/plain": [
       "array([1, 2, 3, 3, 4, 5])"
      ]
     },
     "execution_count": 51,
     "metadata": {},
     "output_type": "execute_result"
    }
   ],
   "source": [
    "np.array([[1,2,3],[3,4,5]]).flatten()"
   ]
  },
  {
   "cell_type": "code",
   "execution_count": 60,
   "metadata": {
    "editable": true
   },
   "outputs": [],
   "source": [
    "# training, validation, testing scheme:\n",
    "# 1. [2007-2010], [2011-2014], [2015]\n",
    "# 2. [2008-2011], [2012-2015], [2016]\n",
    "# ...\n",
    "# last. [2015-2018], [2019-2022], [2023]\n",
    "fulltrain_idx = []\n",
    "cv_idx = []\n",
    "test_idx = []\n",
    "for i in range(4,len(time_idx)-4):\n",
    "    train_idx = list_flat(time_idx[i-4:i])\n",
    "    val_idx = list_flat(time_idx[i:i+4])\n",
    "    fulltrain_idx.append(train_idx + val_idx)\n",
    "    cv_idx.append((np.where(np.isin(fulltrain_idx[-1], train_idx))[0], \n",
    "                   np.where(np.isin(fulltrain_idx[-1], val_idx))[0])) # GridSearchCV 内部用 array 操作，不能带着pandas的index，\n",
    "                                                                          # 因此cv_idx需要用fulltrain_idx的编号从0开始\n",
    "    test_idx.append(time_idx[i+4])"
   ]
  },
  {
   "cell_type": "code",
   "execution_count": 61,
   "metadata": {
    "editable": true
   },
   "outputs": [
    {
     "data": {
      "text/plain": [
       "10"
      ]
     },
     "execution_count": 61,
     "metadata": {},
     "output_type": "execute_result"
    }
   ],
   "source": [
    "len(fulltrain_idx)"
   ]
  },
  {
   "cell_type": "code",
   "execution_count": 62,
   "metadata": {
    "editable": true
   },
   "outputs": [
    {
     "data": {
      "text/plain": [
       "555676"
      ]
     },
     "execution_count": 62,
     "metadata": {},
     "output_type": "execute_result"
    }
   ],
   "source": [
    "len(fulltrain_idx[0])"
   ]
  },
  {
   "cell_type": "code",
   "execution_count": 63,
   "metadata": {
    "editable": true
   },
   "outputs": [
    {
     "data": {
      "text/plain": [
       "616665"
      ]
     },
     "execution_count": 63,
     "metadata": {},
     "output_type": "execute_result"
    }
   ],
   "source": [
    "len(fulltrain_idx[1])"
   ]
  },
  {
   "cell_type": "code",
   "execution_count": 64,
   "metadata": {
    "editable": true
   },
   "outputs": [
    {
     "data": {
      "text/plain": [
       "[(array([     0,      1,      2, ..., 207453, 207454, 207455]),\n",
       "  array([207456, 207457, 207458, ..., 555673, 555674, 555675])),\n",
       " (array([     0,      1,      2, ..., 252001, 252002, 252003]),\n",
       "  array([252004, 252005, 252006, ..., 616662, 616663, 616664])),\n",
       " (array([     0,      1,      2, ..., 286794, 286795, 286796]),\n",
       "  array([286797, 286798, 286799, ..., 667427, 667428, 667429])),\n",
       " (array([     0,      1,      2, ..., 320579, 320580, 320581]),\n",
       "  array([320582, 320583, 320584, ..., 724690, 724691, 724692])),\n",
       " (array([     0,      1,      2, ..., 348217, 348218, 348219]),\n",
       "  array([348220, 348221, 348222, ..., 788921, 788922, 788923])),\n",
       " (array([     0,      1,      2, ..., 364658, 364659, 364660]),\n",
       "  array([364661, 364662, 364663, ..., 849727, 849728, 849729])),\n",
       " (array([     0,      1,      2, ..., 380630, 380631, 380632]),\n",
       "  array([380633, 380634, 380635, ..., 908646, 908647, 908648])),\n",
       " (array([     0,      1,      2, ..., 404108, 404109, 404110]),\n",
       "  array([404111, 404112, 404113, ..., 981558, 981559, 981560])),\n",
       " (array([     0,      1,      2, ..., 440701, 440702, 440703]),\n",
       "  array([ 440704,  440705,  440706, ..., 1074436, 1074437, 1074438])),\n",
       " (array([     0,      1,      2, ..., 485066, 485067, 485068]),\n",
       "  array([ 485069,  485070,  485071, ..., 1178290, 1178291, 1178292]))]"
      ]
     },
     "execution_count": 64,
     "metadata": {},
     "output_type": "execute_result"
    }
   ],
   "source": [
    "cv_idx"
   ]
  },
  {
   "cell_type": "code",
   "execution_count": 66,
   "metadata": {
    "editable": true
   },
   "outputs": [
    {
     "data": {
      "text/plain": [
       "[2015, 2016, 2017, 2018, 2019, 2020, 2021, 2022, 2023, 2024]"
      ]
     },
     "execution_count": 66,
     "metadata": {},
     "output_type": "execute_result"
    }
   ],
   "source": [
    "test_years = list(range(2015, 2025))\n",
    "test_years"
   ]
  },
  {
   "cell_type": "code",
   "execution_count": 67,
   "metadata": {
    "editable": true
   },
   "outputs": [],
   "source": [
    "X_cols = [col for col in ret_df.columns if col[-6:]=='signal']"
   ]
  },
  {
   "cell_type": "code",
   "execution_count": 68,
   "metadata": {
    "editable": true
   },
   "outputs": [
    {
     "data": {
      "text/plain": [
       "['EM_signal',\n",
       " 'MACD_signal',\n",
       " 'OBV_signal',\n",
       " 'AROON_signal',\n",
       " 'BOLL_signal',\n",
       " 'CCI_signal',\n",
       " 'CMO_signal',\n",
       " 'DMI_signal',\n",
       " 'MFI_signal',\n",
       " 'RSI_signal']"
      ]
     },
     "execution_count": 68,
     "metadata": {},
     "output_type": "execute_result"
    }
   ],
   "source": [
    "X_cols"
   ]
  },
  {
   "cell_type": "markdown",
   "metadata": {
    "editable": true
   },
   "source": [
    "# Evaluation metrics"
   ]
  },
  {
   "cell_type": "markdown",
   "metadata": {
    "editable": true
   },
   "source": [
    "用 accuracy, f1_score 作为好坏评价的标准"
   ]
  },
  {
   "cell_type": "markdown",
   "metadata": {
    "editable": true
   },
   "source": [
    "- accuracy: 正确数/总数。比如预测了100次，对了99次，则accuracy = 99%. $accuracy = \\frac{TP+TN}{TP+TN+FP+FN}$\n",
    "- $precision = \\frac{TP}{TP+FP}$, 在预测为Positive时，预测对的次数\n",
    "- $recall = \\frac{TP}{TP+FN}$，在真实为Positive时，预测对的次数\n",
    "- $f1 = \\frac{2}{\\frac{1}{precision}+\\frac{1}{recall}} $"
   ]
  },
  {
   "cell_type": "markdown",
   "metadata": {
    "editable": true
   },
   "source": [
    "# Random forest"
   ]
  },
  {
   "cell_type": "code",
   "execution_count": 69,
   "metadata": {
    "editable": true
   },
   "outputs": [],
   "source": [
    "hyperparam_grid = [\n",
    "    {'n_estimators': [50], 'max_depth': [3,5,7], \n",
    "     'max_features': [5,8]}\n",
    "]"
   ]
  },
  {
   "cell_type": "code",
   "execution_count": 70,
   "metadata": {
    "editable": true
   },
   "outputs": [],
   "source": [
    "model = RandomForestClassifier()"
   ]
  },
  {
   "cell_type": "code",
   "execution_count": 71,
   "metadata": {
    "editable": true
   },
   "outputs": [],
   "source": [
    "# Cross validation for period 0, i.e.\n",
    "# train: [2008-2011], val: [2012-2015], test: [2016]\n",
    "grid_search = GridSearchCV(model, hyperparam_grid, cv=[cv_idx[0]])"
   ]
  },
  {
   "cell_type": "code",
   "execution_count": 72,
   "metadata": {
    "editable": true
   },
   "outputs": [],
   "source": [
    "X_fulltrain = ret_df.loc[fulltrain_idx[0], X_cols]\n",
    "y_fulltrain = ret_df.loc[fulltrain_idx[0], 'ret_sign']\n",
    "X_test = ret_df.loc[test_idx[0], X_cols]\n",
    "y_test = ret_df.loc[test_idx[0], 'ret_sign']"
   ]
  },
  {
   "cell_type": "code",
   "execution_count": 73,
   "metadata": {
    "editable": true
   },
   "outputs": [
    {
     "data": {
      "text/html": [
       "<div>\n",
       "<style scoped>\n",
       "    .dataframe tbody tr th:only-of-type {\n",
       "        vertical-align: middle;\n",
       "    }\n",
       "\n",
       "    .dataframe tbody tr th {\n",
       "        vertical-align: top;\n",
       "    }\n",
       "\n",
       "    .dataframe thead th {\n",
       "        text-align: right;\n",
       "    }\n",
       "</style>\n",
       "<table border=\"1\" class=\"dataframe\">\n",
       "  <thead>\n",
       "    <tr style=\"text-align: right;\">\n",
       "      <th></th>\n",
       "      <th>secID</th>\n",
       "      <th>tradeDate</th>\n",
       "      <th>open_ret</th>\n",
       "      <th>EM_signal</th>\n",
       "      <th>MACD_signal</th>\n",
       "      <th>OBV_signal</th>\n",
       "      <th>AROON_signal</th>\n",
       "      <th>BOLL_signal</th>\n",
       "      <th>CCI_signal</th>\n",
       "      <th>CMO_signal</th>\n",
       "      <th>DMI_signal</th>\n",
       "      <th>MFI_signal</th>\n",
       "      <th>RSI_signal</th>\n",
       "      <th>signal_date</th>\n",
       "      <th>ret_sign</th>\n",
       "      <th>year</th>\n",
       "    </tr>\n",
       "  </thead>\n",
       "  <tbody>\n",
       "    <tr>\n",
       "      <th>0</th>\n",
       "      <td>600446.XSHG</td>\n",
       "      <td>2007-03-01</td>\n",
       "      <td>0.039526</td>\n",
       "      <td>0.0</td>\n",
       "      <td>0.0</td>\n",
       "      <td>0</td>\n",
       "      <td>0.0</td>\n",
       "      <td>0.0</td>\n",
       "      <td>0.0</td>\n",
       "      <td>0.0</td>\n",
       "      <td>0.0</td>\n",
       "      <td>0.0</td>\n",
       "      <td>0.0</td>\n",
       "      <td>2007-02-27</td>\n",
       "      <td>1</td>\n",
       "      <td>2007</td>\n",
       "    </tr>\n",
       "    <tr>\n",
       "      <th>1</th>\n",
       "      <td>600839.XSHG</td>\n",
       "      <td>2007-03-01</td>\n",
       "      <td>0.075766</td>\n",
       "      <td>1.0</td>\n",
       "      <td>1.0</td>\n",
       "      <td>0</td>\n",
       "      <td>0.0</td>\n",
       "      <td>0.0</td>\n",
       "      <td>0.0</td>\n",
       "      <td>0.0</td>\n",
       "      <td>0.0</td>\n",
       "      <td>0.0</td>\n",
       "      <td>0.0</td>\n",
       "      <td>2007-02-27</td>\n",
       "      <td>1</td>\n",
       "      <td>2007</td>\n",
       "    </tr>\n",
       "    <tr>\n",
       "      <th>2</th>\n",
       "      <td>000883.XSHE</td>\n",
       "      <td>2007-03-01</td>\n",
       "      <td>0.087668</td>\n",
       "      <td>1.0</td>\n",
       "      <td>1.0</td>\n",
       "      <td>0</td>\n",
       "      <td>0.0</td>\n",
       "      <td>0.0</td>\n",
       "      <td>0.0</td>\n",
       "      <td>0.0</td>\n",
       "      <td>1.0</td>\n",
       "      <td>0.0</td>\n",
       "      <td>0.0</td>\n",
       "      <td>2007-02-27</td>\n",
       "      <td>1</td>\n",
       "      <td>2007</td>\n",
       "    </tr>\n",
       "    <tr>\n",
       "      <th>3</th>\n",
       "      <td>600820.XSHG</td>\n",
       "      <td>2007-03-01</td>\n",
       "      <td>0.034152</td>\n",
       "      <td>1.0</td>\n",
       "      <td>0.0</td>\n",
       "      <td>0</td>\n",
       "      <td>0.0</td>\n",
       "      <td>0.0</td>\n",
       "      <td>0.0</td>\n",
       "      <td>0.0</td>\n",
       "      <td>1.0</td>\n",
       "      <td>0.0</td>\n",
       "      <td>0.0</td>\n",
       "      <td>2007-02-27</td>\n",
       "      <td>1</td>\n",
       "      <td>2007</td>\n",
       "    </tr>\n",
       "    <tr>\n",
       "      <th>4</th>\n",
       "      <td>600004.XSHG</td>\n",
       "      <td>2007-03-01</td>\n",
       "      <td>0.063769</td>\n",
       "      <td>1.0</td>\n",
       "      <td>1.0</td>\n",
       "      <td>0</td>\n",
       "      <td>0.0</td>\n",
       "      <td>0.0</td>\n",
       "      <td>0.0</td>\n",
       "      <td>0.0</td>\n",
       "      <td>1.0</td>\n",
       "      <td>0.0</td>\n",
       "      <td>0.0</td>\n",
       "      <td>2007-02-27</td>\n",
       "      <td>1</td>\n",
       "      <td>2007</td>\n",
       "    </tr>\n",
       "    <tr>\n",
       "      <th>5</th>\n",
       "      <td>002064.XSHE</td>\n",
       "      <td>2007-03-01</td>\n",
       "      <td>-0.024068</td>\n",
       "      <td>1.0</td>\n",
       "      <td>1.0</td>\n",
       "      <td>0</td>\n",
       "      <td>0.0</td>\n",
       "      <td>0.0</td>\n",
       "      <td>0.0</td>\n",
       "      <td>0.0</td>\n",
       "      <td>1.0</td>\n",
       "      <td>0.0</td>\n",
       "      <td>0.0</td>\n",
       "      <td>2007-02-27</td>\n",
       "      <td>-1</td>\n",
       "      <td>2007</td>\n",
       "    </tr>\n",
       "    <tr>\n",
       "      <th>6</th>\n",
       "      <td>600170.XSHG</td>\n",
       "      <td>2007-03-01</td>\n",
       "      <td>0.058523</td>\n",
       "      <td>1.0</td>\n",
       "      <td>1.0</td>\n",
       "      <td>0</td>\n",
       "      <td>0.0</td>\n",
       "      <td>0.0</td>\n",
       "      <td>0.0</td>\n",
       "      <td>0.0</td>\n",
       "      <td>0.0</td>\n",
       "      <td>0.0</td>\n",
       "      <td>0.0</td>\n",
       "      <td>2007-02-27</td>\n",
       "      <td>1</td>\n",
       "      <td>2007</td>\n",
       "    </tr>\n",
       "    <tr>\n",
       "      <th>7</th>\n",
       "      <td>000729.XSHE</td>\n",
       "      <td>2007-03-01</td>\n",
       "      <td>0.057694</td>\n",
       "      <td>0.0</td>\n",
       "      <td>1.0</td>\n",
       "      <td>0</td>\n",
       "      <td>0.0</td>\n",
       "      <td>0.0</td>\n",
       "      <td>0.0</td>\n",
       "      <td>0.0</td>\n",
       "      <td>0.0</td>\n",
       "      <td>0.0</td>\n",
       "      <td>0.0</td>\n",
       "      <td>2007-02-27</td>\n",
       "      <td>1</td>\n",
       "      <td>2007</td>\n",
       "    </tr>\n",
       "    <tr>\n",
       "      <th>...</th>\n",
       "      <td>...</td>\n",
       "      <td>...</td>\n",
       "      <td>...</td>\n",
       "      <td>...</td>\n",
       "      <td>...</td>\n",
       "      <td>...</td>\n",
       "      <td>...</td>\n",
       "      <td>...</td>\n",
       "      <td>...</td>\n",
       "      <td>...</td>\n",
       "      <td>...</td>\n",
       "      <td>...</td>\n",
       "      <td>...</td>\n",
       "      <td>...</td>\n",
       "      <td>...</td>\n",
       "      <td>...</td>\n",
       "    </tr>\n",
       "    <tr>\n",
       "      <th>555668</th>\n",
       "      <td>002266.XSHE</td>\n",
       "      <td>2014-12-31</td>\n",
       "      <td>0.003762</td>\n",
       "      <td>1.0</td>\n",
       "      <td>0.0</td>\n",
       "      <td>1</td>\n",
       "      <td>0.0</td>\n",
       "      <td>0.0</td>\n",
       "      <td>0.0</td>\n",
       "      <td>0.0</td>\n",
       "      <td>0.0</td>\n",
       "      <td>0.0</td>\n",
       "      <td>0.0</td>\n",
       "      <td>2014-12-29</td>\n",
       "      <td>1</td>\n",
       "      <td>2014</td>\n",
       "    </tr>\n",
       "    <tr>\n",
       "      <th>555669</th>\n",
       "      <td>002406.XSHE</td>\n",
       "      <td>2014-12-31</td>\n",
       "      <td>-0.000952</td>\n",
       "      <td>0.0</td>\n",
       "      <td>0.0</td>\n",
       "      <td>0</td>\n",
       "      <td>1.0</td>\n",
       "      <td>0.0</td>\n",
       "      <td>1.0</td>\n",
       "      <td>0.0</td>\n",
       "      <td>0.0</td>\n",
       "      <td>0.0</td>\n",
       "      <td>1.0</td>\n",
       "      <td>2014-12-29</td>\n",
       "      <td>-1</td>\n",
       "      <td>2014</td>\n",
       "    </tr>\n",
       "    <tr>\n",
       "      <th>555670</th>\n",
       "      <td>000151.XSHE</td>\n",
       "      <td>2014-12-31</td>\n",
       "      <td>-0.101574</td>\n",
       "      <td>1.0</td>\n",
       "      <td>0.0</td>\n",
       "      <td>1</td>\n",
       "      <td>0.0</td>\n",
       "      <td>0.0</td>\n",
       "      <td>0.0</td>\n",
       "      <td>0.0</td>\n",
       "      <td>0.0</td>\n",
       "      <td>0.0</td>\n",
       "      <td>0.0</td>\n",
       "      <td>2014-12-29</td>\n",
       "      <td>-1</td>\n",
       "      <td>2014</td>\n",
       "    </tr>\n",
       "    <tr>\n",
       "      <th>555671</th>\n",
       "      <td>600311.XSHG</td>\n",
       "      <td>2014-12-31</td>\n",
       "      <td>-0.010925</td>\n",
       "      <td>1.0</td>\n",
       "      <td>0.0</td>\n",
       "      <td>0</td>\n",
       "      <td>1.0</td>\n",
       "      <td>0.0</td>\n",
       "      <td>1.0</td>\n",
       "      <td>0.0</td>\n",
       "      <td>0.0</td>\n",
       "      <td>0.0</td>\n",
       "      <td>0.0</td>\n",
       "      <td>2014-12-29</td>\n",
       "      <td>-1</td>\n",
       "      <td>2014</td>\n",
       "    </tr>\n",
       "    <tr>\n",
       "      <th>555672</th>\n",
       "      <td>002356.XSHE</td>\n",
       "      <td>2014-12-31</td>\n",
       "      <td>-0.018203</td>\n",
       "      <td>0.0</td>\n",
       "      <td>0.0</td>\n",
       "      <td>0</td>\n",
       "      <td>1.0</td>\n",
       "      <td>0.0</td>\n",
       "      <td>1.0</td>\n",
       "      <td>0.0</td>\n",
       "      <td>1.0</td>\n",
       "      <td>0.0</td>\n",
       "      <td>0.0</td>\n",
       "      <td>2014-12-29</td>\n",
       "      <td>-1</td>\n",
       "      <td>2014</td>\n",
       "    </tr>\n",
       "    <tr>\n",
       "      <th>555673</th>\n",
       "      <td>600295.XSHG</td>\n",
       "      <td>2014-12-31</td>\n",
       "      <td>-0.003244</td>\n",
       "      <td>1.0</td>\n",
       "      <td>1.0</td>\n",
       "      <td>0</td>\n",
       "      <td>0.0</td>\n",
       "      <td>0.0</td>\n",
       "      <td>0.0</td>\n",
       "      <td>0.0</td>\n",
       "      <td>0.0</td>\n",
       "      <td>1.0</td>\n",
       "      <td>0.0</td>\n",
       "      <td>2014-12-29</td>\n",
       "      <td>-1</td>\n",
       "      <td>2014</td>\n",
       "    </tr>\n",
       "    <tr>\n",
       "      <th>555674</th>\n",
       "      <td>002175.XSHE</td>\n",
       "      <td>2014-12-31</td>\n",
       "      <td>-0.040036</td>\n",
       "      <td>0.0</td>\n",
       "      <td>0.0</td>\n",
       "      <td>0</td>\n",
       "      <td>0.0</td>\n",
       "      <td>0.0</td>\n",
       "      <td>0.0</td>\n",
       "      <td>0.0</td>\n",
       "      <td>0.0</td>\n",
       "      <td>0.0</td>\n",
       "      <td>0.0</td>\n",
       "      <td>2014-12-29</td>\n",
       "      <td>-1</td>\n",
       "      <td>2014</td>\n",
       "    </tr>\n",
       "    <tr>\n",
       "      <th>555675</th>\n",
       "      <td>600201.XSHG</td>\n",
       "      <td>2014-12-31</td>\n",
       "      <td>-0.008225</td>\n",
       "      <td>1.0</td>\n",
       "      <td>1.0</td>\n",
       "      <td>0</td>\n",
       "      <td>1.0</td>\n",
       "      <td>0.0</td>\n",
       "      <td>1.0</td>\n",
       "      <td>0.0</td>\n",
       "      <td>0.0</td>\n",
       "      <td>1.0</td>\n",
       "      <td>0.0</td>\n",
       "      <td>2014-12-29</td>\n",
       "      <td>-1</td>\n",
       "      <td>2014</td>\n",
       "    </tr>\n",
       "  </tbody>\n",
       "</table>\n",
       "<p>555676 rows × 16 columns</p>\n",
       "</div>"
      ],
      "text/plain": [
       "              secID  tradeDate  open_ret  EM_signal  MACD_signal  OBV_signal  \\\n",
       "0       600446.XSHG 2007-03-01  0.039526        0.0          0.0           0   \n",
       "1       600839.XSHG 2007-03-01  0.075766        1.0          1.0           0   \n",
       "2       000883.XSHE 2007-03-01  0.087668        1.0          1.0           0   \n",
       "3       600820.XSHG 2007-03-01  0.034152        1.0          0.0           0   \n",
       "4       600004.XSHG 2007-03-01  0.063769        1.0          1.0           0   \n",
       "5       002064.XSHE 2007-03-01 -0.024068        1.0          1.0           0   \n",
       "6       600170.XSHG 2007-03-01  0.058523        1.0          1.0           0   \n",
       "7       000729.XSHE 2007-03-01  0.057694        0.0          1.0           0   \n",
       "...             ...        ...       ...        ...          ...         ...   \n",
       "555668  002266.XSHE 2014-12-31  0.003762        1.0          0.0           1   \n",
       "555669  002406.XSHE 2014-12-31 -0.000952        0.0          0.0           0   \n",
       "555670  000151.XSHE 2014-12-31 -0.101574        1.0          0.0           1   \n",
       "555671  600311.XSHG 2014-12-31 -0.010925        1.0          0.0           0   \n",
       "555672  002356.XSHE 2014-12-31 -0.018203        0.0          0.0           0   \n",
       "555673  600295.XSHG 2014-12-31 -0.003244        1.0          1.0           0   \n",
       "555674  002175.XSHE 2014-12-31 -0.040036        0.0          0.0           0   \n",
       "555675  600201.XSHG 2014-12-31 -0.008225        1.0          1.0           0   \n",
       "\n",
       "        AROON_signal  BOLL_signal  CCI_signal  CMO_signal  DMI_signal  \\\n",
       "0                0.0          0.0         0.0         0.0         0.0   \n",
       "1                0.0          0.0         0.0         0.0         0.0   \n",
       "2                0.0          0.0         0.0         0.0         1.0   \n",
       "3                0.0          0.0         0.0         0.0         1.0   \n",
       "4                0.0          0.0         0.0         0.0         1.0   \n",
       "5                0.0          0.0         0.0         0.0         1.0   \n",
       "6                0.0          0.0         0.0         0.0         0.0   \n",
       "7                0.0          0.0         0.0         0.0         0.0   \n",
       "...              ...          ...         ...         ...         ...   \n",
       "555668           0.0          0.0         0.0         0.0         0.0   \n",
       "555669           1.0          0.0         1.0         0.0         0.0   \n",
       "555670           0.0          0.0         0.0         0.0         0.0   \n",
       "555671           1.0          0.0         1.0         0.0         0.0   \n",
       "555672           1.0          0.0         1.0         0.0         1.0   \n",
       "555673           0.0          0.0         0.0         0.0         0.0   \n",
       "555674           0.0          0.0         0.0         0.0         0.0   \n",
       "555675           1.0          0.0         1.0         0.0         0.0   \n",
       "\n",
       "        MFI_signal  RSI_signal signal_date  ret_sign  year  \n",
       "0              0.0         0.0  2007-02-27         1  2007  \n",
       "1              0.0         0.0  2007-02-27         1  2007  \n",
       "2              0.0         0.0  2007-02-27         1  2007  \n",
       "3              0.0         0.0  2007-02-27         1  2007  \n",
       "4              0.0         0.0  2007-02-27         1  2007  \n",
       "5              0.0         0.0  2007-02-27        -1  2007  \n",
       "6              0.0         0.0  2007-02-27         1  2007  \n",
       "7              0.0         0.0  2007-02-27         1  2007  \n",
       "...            ...         ...         ...       ...   ...  \n",
       "555668         0.0         0.0  2014-12-29         1  2014  \n",
       "555669         0.0         1.0  2014-12-29        -1  2014  \n",
       "555670         0.0         0.0  2014-12-29        -1  2014  \n",
       "555671         0.0         0.0  2014-12-29        -1  2014  \n",
       "555672         0.0         0.0  2014-12-29        -1  2014  \n",
       "555673         1.0         0.0  2014-12-29        -1  2014  \n",
       "555674         0.0         0.0  2014-12-29        -1  2014  \n",
       "555675         1.0         0.0  2014-12-29        -1  2014  \n",
       "\n",
       "[555676 rows x 16 columns]"
      ]
     },
     "execution_count": 73,
     "metadata": {},
     "output_type": "execute_result"
    }
   ],
   "source": [
    "ret_df.loc[fulltrain_idx[0]]"
   ]
  },
  {
   "cell_type": "code",
   "execution_count": 74,
   "metadata": {
    "editable": true
   },
   "outputs": [
    {
     "name": "stdout",
     "output_type": "stream",
     "text": [
      "CPU times: user 24.4 s, sys: 192 ms, total: 24.6 s\n",
      "Wall time: 24.6 s\n"
     ]
    },
    {
     "data": {
      "text/plain": [
       "GridSearchCV(cv=[(array([     0,      1,      2, ..., 207453, 207454, 207455]),\n",
       "                  array([207456, 207457, 207458, ..., 555673, 555674, 555675]))],\n",
       "             estimator=RandomForestClassifier(),\n",
       "             param_grid=[{'max_depth': [3, 5, 7], 'max_features': [5, 8],\n",
       "                          'n_estimators': [50]}])"
      ]
     },
     "execution_count": 74,
     "metadata": {},
     "output_type": "execute_result"
    }
   ],
   "source": [
    "%%time\n",
    "grid_search.fit(X_fulltrain, y_fulltrain)"
   ]
  },
  {
   "cell_type": "code",
   "execution_count": 75,
   "metadata": {
    "editable": true
   },
   "outputs": [
    {
     "data": {
      "text/plain": [
       "{'max_depth': 3, 'max_features': 8, 'n_estimators': 50}"
      ]
     },
     "execution_count": 75,
     "metadata": {},
     "output_type": "execute_result"
    }
   ],
   "source": [
    "grid_search.best_params_"
   ]
  },
  {
   "cell_type": "code",
   "execution_count": 76,
   "metadata": {
    "editable": true
   },
   "outputs": [
    {
     "data": {
      "text/html": [
       "<div>\n",
       "<style scoped>\n",
       "    .dataframe tbody tr th:only-of-type {\n",
       "        vertical-align: middle;\n",
       "    }\n",
       "\n",
       "    .dataframe tbody tr th {\n",
       "        vertical-align: top;\n",
       "    }\n",
       "\n",
       "    .dataframe thead th {\n",
       "        text-align: right;\n",
       "    }\n",
       "</style>\n",
       "<table border=\"1\" class=\"dataframe\">\n",
       "  <thead>\n",
       "    <tr style=\"text-align: right;\">\n",
       "      <th></th>\n",
       "      <th>features</th>\n",
       "      <th>feature_importance</th>\n",
       "    </tr>\n",
       "  </thead>\n",
       "  <tbody>\n",
       "    <tr>\n",
       "      <th>1</th>\n",
       "      <td>MACD_signal</td>\n",
       "      <td>0.354916</td>\n",
       "    </tr>\n",
       "    <tr>\n",
       "      <th>2</th>\n",
       "      <td>OBV_signal</td>\n",
       "      <td>0.330150</td>\n",
       "    </tr>\n",
       "    <tr>\n",
       "      <th>9</th>\n",
       "      <td>RSI_signal</td>\n",
       "      <td>0.101991</td>\n",
       "    </tr>\n",
       "    <tr>\n",
       "      <th>3</th>\n",
       "      <td>AROON_signal</td>\n",
       "      <td>0.080836</td>\n",
       "    </tr>\n",
       "    <tr>\n",
       "      <th>0</th>\n",
       "      <td>EM_signal</td>\n",
       "      <td>0.058099</td>\n",
       "    </tr>\n",
       "    <tr>\n",
       "      <th>6</th>\n",
       "      <td>CMO_signal</td>\n",
       "      <td>0.037543</td>\n",
       "    </tr>\n",
       "    <tr>\n",
       "      <th>5</th>\n",
       "      <td>CCI_signal</td>\n",
       "      <td>0.033019</td>\n",
       "    </tr>\n",
       "    <tr>\n",
       "      <th>8</th>\n",
       "      <td>MFI_signal</td>\n",
       "      <td>0.003447</td>\n",
       "    </tr>\n",
       "    <tr>\n",
       "      <th>4</th>\n",
       "      <td>BOLL_signal</td>\n",
       "      <td>0.000000</td>\n",
       "    </tr>\n",
       "    <tr>\n",
       "      <th>7</th>\n",
       "      <td>DMI_signal</td>\n",
       "      <td>0.000000</td>\n",
       "    </tr>\n",
       "  </tbody>\n",
       "</table>\n",
       "</div>"
      ],
      "text/plain": [
       "       features  feature_importance\n",
       "1   MACD_signal            0.354916\n",
       "2    OBV_signal            0.330150\n",
       "9    RSI_signal            0.101991\n",
       "3  AROON_signal            0.080836\n",
       "0     EM_signal            0.058099\n",
       "6    CMO_signal            0.037543\n",
       "5    CCI_signal            0.033019\n",
       "8    MFI_signal            0.003447\n",
       "4   BOLL_signal            0.000000\n",
       "7    DMI_signal            0.000000"
      ]
     },
     "execution_count": 76,
     "metadata": {},
     "output_type": "execute_result"
    }
   ],
   "source": [
    "pd.DataFrame({\"features\":X_cols,\"feature_importance\":grid_search.best_estimator_.feature_importances_}).sort_values('feature_importance',ascending=False)"
   ]
  },
  {
   "cell_type": "code",
   "execution_count": 77,
   "metadata": {
    "editable": true
   },
   "outputs": [
    {
     "name": "stdout",
     "output_type": "stream",
     "text": [
      "0.5344297522419498\n"
     ]
    }
   ],
   "source": [
    "y_pred = grid_search.predict(X_test)\n",
    "print(accuracy_score(y_true=y_test, y_pred=y_pred))"
   ]
  },
  {
   "cell_type": "code",
   "execution_count": 78,
   "metadata": {
    "editable": true
   },
   "outputs": [
    {
     "data": {
      "text/plain": [
       "0.5521632288331223"
      ]
     },
     "execution_count": 78,
     "metadata": {},
     "output_type": "execute_result"
    }
   ],
   "source": [
    "# Benchmark all-positive\n",
    "all_ones = np.ones_like(y_pred)\n",
    "accuracy_score(y_true=y_test, y_pred=all_ones)"
   ]
  },
  {
   "cell_type": "code",
   "execution_count": 79,
   "metadata": {
    "editable": true
   },
   "outputs": [
    {
     "name": "stdout",
     "output_type": "stream",
     "text": [
      "0.6060366012836553\n",
      "0.7114757244290922\n"
     ]
    }
   ],
   "source": [
    "y_pred = grid_search.predict(X_test)\n",
    "print(f1_score(y_true=y_test, y_pred=y_pred))\n",
    "print(f1_score(y_true=y_test, y_pred=all_ones))"
   ]
  },
  {
   "cell_type": "code",
   "execution_count": 80,
   "metadata": {
    "editable": true
   },
   "outputs": [
    {
     "name": "stdout",
     "output_type": "stream",
     "text": [
      "Test year 2015 Benchmark accuracy: 0.5521632288331223\n",
      "Test year 2015 Model accuracy: 0.5368126549152686\n",
      "Test year 2015 Benchmark f1: 0.7114757244290922\n",
      "Test year 2015 Model f1: 0.6182790514180511\n",
      "====================我是分割线========================\n",
      "Test year 2016 Benchmark accuracy: 0.4969889034630004\n",
      "Test year 2016 Model accuracy: 0.5259318123067201\n",
      "Test year 2016 Benchmark f1: 0.6639847527437387\n",
      "Test year 2016 Model f1: 0.6221065565638142\n",
      "====================我是分割线========================\n",
      "Test year 2017 Benchmark accuracy: 0.47659027107831636\n",
      "Test year 2017 Model accuracy: 0.5049843993081811\n",
      "Test year 2017 Benchmark f1: 0.645528120309603\n",
      "Test year 2017 Model f1: 0.6135589540390539\n",
      "====================我是分割线========================\n",
      "Test year 2018 Benchmark accuracy: 0.4652777231809426\n",
      "Test year 2018 Model accuracy: 0.4937379613978537\n",
      "Test year 2018 Benchmark f1: 0.6350710391895952\n",
      "Test year 2018 Model f1: 0.5920040549958817\n",
      "====================我是分割线========================\n",
      "Test year 2019 Benchmark accuracy: 0.4921296831637373\n",
      "Test year 2019 Model accuracy: 0.5008817067530065\n",
      "Test year 2019 Benchmark f1: 0.6596339295660724\n",
      "Test year 2019 Model f1: 0.5378613490364025\n",
      "====================我是分割线========================\n",
      "Test year 2020 Benchmark accuracy: 0.48058265601042105\n",
      "Test year 2020 Model accuracy: 0.5128838351628967\n",
      "Test year 2020 Benchmark f1: 0.64918044806144\n",
      "Test year 2020 Model f1: 0.5316686887662584\n",
      "====================我是分割线========================\n",
      "Test year 2021 Benchmark accuracy: 0.47960095566376687\n",
      "Test year 2021 Model accuracy: 0.5140097146991057\n",
      "Test year 2021 Benchmark f1: 0.6482841928803866\n",
      "Test year 2021 Model f1: 0.4658211608109372\n",
      "====================我是分割线========================\n",
      "Test year 2022 Benchmark accuracy: 0.470083932853717\n",
      "Test year 2022 Model accuracy: 0.5128951384347068\n",
      "Test year 2022 Benchmark f1: 0.6395334611149627\n",
      "Test year 2022 Model f1: 0.45808321509562094\n",
      "====================我是分割线========================\n",
      "Test year 2023 Benchmark accuracy: 0.46077722799799853\n",
      "Test year 2023 Model accuracy: 0.5266177087492482\n",
      "Test year 2023 Benchmark f1: 0.6308658420551856\n",
      "Test year 2023 Model f1: 0.337253403526648\n",
      "====================我是分割线========================\n",
      "Test year 2024 Benchmark accuracy: 0.48265634880009634\n",
      "Test year 2024 Model accuracy: 0.5140013850832555\n",
      "Test year 2024 Benchmark f1: 0.6510697494948264\n",
      "Test year 2024 Model f1: 0.170175573892702\n",
      "====================我是分割线========================\n",
      "CPU times: user 7min 35s, sys: 5.59 s, total: 7min 40s\n",
      "Wall time: 7min 40s\n"
     ]
    }
   ],
   "source": [
    "%%time\n",
    "for i in range(len(fulltrain_idx)):\n",
    "    X_fulltrain = ret_df.loc[fulltrain_idx[i], X_cols]\n",
    "    y_fulltrain = ret_df.loc[fulltrain_idx[i], 'ret_sign']\n",
    "    X_test = ret_df.loc[test_idx[i], X_cols]\n",
    "    y_test = ret_df.loc[test_idx[i], 'ret_sign']\n",
    "    \n",
    "    grid_search = GridSearchCV(model, hyperparam_grid, cv=[cv_idx[i]])\n",
    "    grid_search.fit(X_fulltrain, y_fulltrain)\n",
    "    y_pred = grid_search.predict(X=X_test)\n",
    "    \n",
    "    all_ones = np.ones_like(y_pred)\n",
    "    print(\"Test year\", test_years[i],\"Benchmark\",\"accuracy:\",accuracy_score(y_true=y_test, y_pred=all_ones))\n",
    "    print(\"Test year\", test_years[i],\"Model\",\"accuracy:\",accuracy_score(y_true=y_test, y_pred=y_pred))\n",
    "    print(\"Test year\", test_years[i],\"Benchmark\",\"f1:\",f1_score(y_true=y_test, y_pred=all_ones))\n",
    "    print(\"Test year\", test_years[i],\"Model\",\"f1:\",f1_score(y_true=y_test, y_pred=y_pred))\n",
    "    print(\"====================我是分割线========================\")"
   ]
  },
  {
   "cell_type": "markdown",
   "metadata": {
    "editable": true
   },
   "source": [
    "# Return"
   ]
  },
  {
   "cell_type": "code",
   "execution_count": 82,
   "metadata": {
    "editable": true
   },
   "outputs": [
    {
     "data": {
      "text/plain": [
       "10"
      ]
     },
     "execution_count": 82,
     "metadata": {},
     "output_type": "execute_result"
    }
   ],
   "source": [
    "len(test_years)"
   ]
  },
  {
   "cell_type": "code",
   "execution_count": 81,
   "metadata": {
    "editable": true
   },
   "outputs": [
    {
     "name": "stdout",
     "output_type": "stream",
     "text": [
      "2023\n"
     ]
    }
   ],
   "source": [
    "i = 8\n",
    "print(test_years[i])\n",
    "X_fulltrain = ret_df.loc[fulltrain_idx[i], X_cols]\n",
    "y_fulltrain = ret_df.loc[fulltrain_idx[i], 'ret_sign']\n",
    "X_test = ret_df.loc[test_idx[i], X_cols]\n",
    "\n",
    "grid_search = GridSearchCV(model, hyperparam_grid, cv=[cv_idx[i]])\n",
    "grid_search.fit(X_fulltrain, y_fulltrain)\n",
    "rule = grid_search.predict(X=X_test)"
   ]
  },
  {
   "cell_type": "code",
   "execution_count": 83,
   "metadata": {
    "editable": true
   },
   "outputs": [
    {
     "data": {
      "text/plain": [
       "array([ 1, -1, -1, ..., -1, -1, -1])"
      ]
     },
     "execution_count": 83,
     "metadata": {},
     "output_type": "execute_result"
    }
   ],
   "source": [
    "rule"
   ]
  },
  {
   "cell_type": "code",
   "execution_count": 84,
   "metadata": {
    "editable": true
   },
   "outputs": [],
   "source": [
    "rule[rule==-1] = 0"
   ]
  },
  {
   "cell_type": "code",
   "execution_count": 85,
   "metadata": {
    "editable": true
   },
   "outputs": [
    {
     "data": {
      "text/plain": [
       "array([1, 0, 0, ..., 0, 0, 0])"
      ]
     },
     "execution_count": 85,
     "metadata": {},
     "output_type": "execute_result"
    }
   ],
   "source": [
    "rule"
   ]
  },
  {
   "cell_type": "code",
   "execution_count": 86,
   "metadata": {
    "editable": true
   },
   "outputs": [
    {
     "data": {
      "text/plain": [
       "197857"
      ]
     },
     "execution_count": 86,
     "metadata": {},
     "output_type": "execute_result"
    }
   ],
   "source": [
    "len(rule)"
   ]
  },
  {
   "cell_type": "code",
   "execution_count": 87,
   "metadata": {
    "editable": true
   },
   "outputs": [
    {
     "data": {
      "text/plain": [
       "1630115    0.002366\n",
       "1630116   -0.002650\n",
       "1630117   -0.007888\n",
       "1630118   -0.004739\n",
       "1630119    0.009130\n",
       "1630120   -0.005476\n",
       "1630121   -0.005021\n",
       "1630122    0.002462\n",
       "             ...   \n",
       "1827964    0.019915\n",
       "1827965    0.022737\n",
       "1827966    0.028913\n",
       "1827967    0.086711\n",
       "1827968    0.012177\n",
       "1827969    0.019474\n",
       "1827970    0.017527\n",
       "1827971    0.030625\n",
       "Name: open_ret, Length: 197857, dtype: float64"
      ]
     },
     "execution_count": 87,
     "metadata": {},
     "output_type": "execute_result"
    }
   ],
   "source": [
    "ret_df.loc[test_idx[i],'open_ret']"
   ]
  },
  {
   "cell_type": "code",
   "execution_count": 88,
   "metadata": {
    "editable": true
   },
   "outputs": [],
   "source": [
    "rule_ret = ret_df.loc[test_idx[i],'open_ret'].values * rule"
   ]
  },
  {
   "cell_type": "code",
   "execution_count": 91,
   "metadata": {
    "editable": true
   },
   "outputs": [],
   "source": [
    "ret_df_2023 = ret_df.loc[test_idx[i],['secID','tradeDate','open_ret']].copy()\n",
    "ret_df_2023['rule_ret'] = rule_ret"
   ]
  },
  {
   "cell_type": "code",
   "execution_count": 92,
   "metadata": {
    "editable": true
   },
   "outputs": [
    {
     "data": {
      "text/html": [
       "<div>\n",
       "<style scoped>\n",
       "    .dataframe tbody tr th:only-of-type {\n",
       "        vertical-align: middle;\n",
       "    }\n",
       "\n",
       "    .dataframe tbody tr th {\n",
       "        vertical-align: top;\n",
       "    }\n",
       "\n",
       "    .dataframe thead th {\n",
       "        text-align: right;\n",
       "    }\n",
       "</style>\n",
       "<table border=\"1\" class=\"dataframe\">\n",
       "  <thead>\n",
       "    <tr style=\"text-align: right;\">\n",
       "      <th></th>\n",
       "      <th>secID</th>\n",
       "      <th>tradeDate</th>\n",
       "      <th>open_ret</th>\n",
       "      <th>rule_ret</th>\n",
       "    </tr>\n",
       "  </thead>\n",
       "  <tbody>\n",
       "    <tr>\n",
       "      <th>1630115</th>\n",
       "      <td>600668.XSHG</td>\n",
       "      <td>2023-01-03</td>\n",
       "      <td>0.002366</td>\n",
       "      <td>0.002366</td>\n",
       "    </tr>\n",
       "    <tr>\n",
       "      <th>1630116</th>\n",
       "      <td>002063.XSHE</td>\n",
       "      <td>2023-01-03</td>\n",
       "      <td>-0.002650</td>\n",
       "      <td>-0.000000</td>\n",
       "    </tr>\n",
       "    <tr>\n",
       "      <th>1630117</th>\n",
       "      <td>002531.XSHE</td>\n",
       "      <td>2023-01-03</td>\n",
       "      <td>-0.007888</td>\n",
       "      <td>-0.000000</td>\n",
       "    </tr>\n",
       "    <tr>\n",
       "      <th>1630118</th>\n",
       "      <td>688355.XSHG</td>\n",
       "      <td>2023-01-03</td>\n",
       "      <td>-0.004739</td>\n",
       "      <td>-0.000000</td>\n",
       "    </tr>\n",
       "    <tr>\n",
       "      <th>1630119</th>\n",
       "      <td>002111.XSHE</td>\n",
       "      <td>2023-01-03</td>\n",
       "      <td>0.009130</td>\n",
       "      <td>0.000000</td>\n",
       "    </tr>\n",
       "    <tr>\n",
       "      <th>1630120</th>\n",
       "      <td>600075.XSHG</td>\n",
       "      <td>2023-01-03</td>\n",
       "      <td>-0.005476</td>\n",
       "      <td>-0.005476</td>\n",
       "    </tr>\n",
       "    <tr>\n",
       "      <th>1630121</th>\n",
       "      <td>300176.XSHE</td>\n",
       "      <td>2023-01-03</td>\n",
       "      <td>-0.005021</td>\n",
       "      <td>-0.000000</td>\n",
       "    </tr>\n",
       "    <tr>\n",
       "      <th>1630122</th>\n",
       "      <td>000901.XSHE</td>\n",
       "      <td>2023-01-03</td>\n",
       "      <td>0.002462</td>\n",
       "      <td>0.002462</td>\n",
       "    </tr>\n",
       "    <tr>\n",
       "      <th>...</th>\n",
       "      <td>...</td>\n",
       "      <td>...</td>\n",
       "      <td>...</td>\n",
       "      <td>...</td>\n",
       "    </tr>\n",
       "    <tr>\n",
       "      <th>1827964</th>\n",
       "      <td>600158.XSHG</td>\n",
       "      <td>2023-12-29</td>\n",
       "      <td>0.019915</td>\n",
       "      <td>0.000000</td>\n",
       "    </tr>\n",
       "    <tr>\n",
       "      <th>1827965</th>\n",
       "      <td>000560.XSHE</td>\n",
       "      <td>2023-12-29</td>\n",
       "      <td>0.022737</td>\n",
       "      <td>0.000000</td>\n",
       "    </tr>\n",
       "    <tr>\n",
       "      <th>1827966</th>\n",
       "      <td>600818.XSHG</td>\n",
       "      <td>2023-12-29</td>\n",
       "      <td>0.028913</td>\n",
       "      <td>0.028913</td>\n",
       "    </tr>\n",
       "    <tr>\n",
       "      <th>1827967</th>\n",
       "      <td>002460.XSHE</td>\n",
       "      <td>2023-12-29</td>\n",
       "      <td>0.086711</td>\n",
       "      <td>0.000000</td>\n",
       "    </tr>\n",
       "    <tr>\n",
       "      <th>1827968</th>\n",
       "      <td>300176.XSHE</td>\n",
       "      <td>2023-12-29</td>\n",
       "      <td>0.012177</td>\n",
       "      <td>0.000000</td>\n",
       "    </tr>\n",
       "    <tr>\n",
       "      <th>1827969</th>\n",
       "      <td>601133.XSHG</td>\n",
       "      <td>2023-12-29</td>\n",
       "      <td>0.019474</td>\n",
       "      <td>0.000000</td>\n",
       "    </tr>\n",
       "    <tr>\n",
       "      <th>1827970</th>\n",
       "      <td>600956.XSHG</td>\n",
       "      <td>2023-12-29</td>\n",
       "      <td>0.017527</td>\n",
       "      <td>0.000000</td>\n",
       "    </tr>\n",
       "    <tr>\n",
       "      <th>1827971</th>\n",
       "      <td>301016.XSHE</td>\n",
       "      <td>2023-12-29</td>\n",
       "      <td>0.030625</td>\n",
       "      <td>0.000000</td>\n",
       "    </tr>\n",
       "  </tbody>\n",
       "</table>\n",
       "<p>197857 rows × 4 columns</p>\n",
       "</div>"
      ],
      "text/plain": [
       "               secID  tradeDate  open_ret  rule_ret\n",
       "1630115  600668.XSHG 2023-01-03  0.002366  0.002366\n",
       "1630116  002063.XSHE 2023-01-03 -0.002650 -0.000000\n",
       "1630117  002531.XSHE 2023-01-03 -0.007888 -0.000000\n",
       "1630118  688355.XSHG 2023-01-03 -0.004739 -0.000000\n",
       "1630119  002111.XSHE 2023-01-03  0.009130  0.000000\n",
       "1630120  600075.XSHG 2023-01-03 -0.005476 -0.005476\n",
       "1630121  300176.XSHE 2023-01-03 -0.005021 -0.000000\n",
       "1630122  000901.XSHE 2023-01-03  0.002462  0.002462\n",
       "...              ...        ...       ...       ...\n",
       "1827964  600158.XSHG 2023-12-29  0.019915  0.000000\n",
       "1827965  000560.XSHE 2023-12-29  0.022737  0.000000\n",
       "1827966  600818.XSHG 2023-12-29  0.028913  0.028913\n",
       "1827967  002460.XSHE 2023-12-29  0.086711  0.000000\n",
       "1827968  300176.XSHE 2023-12-29  0.012177  0.000000\n",
       "1827969  601133.XSHG 2023-12-29  0.019474  0.000000\n",
       "1827970  600956.XSHG 2023-12-29  0.017527  0.000000\n",
       "1827971  301016.XSHE 2023-12-29  0.030625  0.000000\n",
       "\n",
       "[197857 rows x 4 columns]"
      ]
     },
     "execution_count": 92,
     "metadata": {},
     "output_type": "execute_result"
    }
   ],
   "source": [
    "ret_df_2023"
   ]
  },
  {
   "cell_type": "code",
   "execution_count": 93,
   "metadata": {
    "editable": true
   },
   "outputs": [],
   "source": [
    "ret_df_2023.sort_values(['secID','tradeDate'],inplace=True)"
   ]
  },
  {
   "cell_type": "code",
   "execution_count": 94,
   "metadata": {
    "editable": true
   },
   "outputs": [
    {
     "data": {
      "text/plain": [
       "secID\n",
       "000004.XSHE    0.007459\n",
       "000006.XSHE   -0.000702\n",
       "000025.XSHE    0.000675\n",
       "000028.XSHE    0.000139\n",
       "000039.XSHE    0.000260\n",
       "000069.XSHE   -0.001601\n",
       "000078.XSHE   -0.000126\n",
       "000089.XSHE   -0.000351\n",
       "                 ...   \n",
       "688716.XSHG    0.001008\n",
       "688728.XSHG    0.000769\n",
       "688766.XSHG    0.001060\n",
       "688776.XSHG   -0.000723\n",
       "688798.XSHG   -0.001486\n",
       "688799.XSHG    0.000629\n",
       "688800.XSHG   -0.001309\n",
       "689009.XSHG    0.000535\n",
       "Name: rule_ret, Length: 852, dtype: float64"
      ]
     },
     "execution_count": 94,
     "metadata": {},
     "output_type": "execute_result"
    }
   ],
   "source": [
    "# time-series mean of daily return\n",
    "rule_tsmean_ret_by_crs = ret_df_2023.groupby('secID')['rule_ret'].mean()\n",
    "rule_tsmean_ret_by_crs"
   ]
  },
  {
   "cell_type": "code",
   "execution_count": 95,
   "metadata": {
    "editable": true
   },
   "outputs": [],
   "source": [
    "rule_tsmean_ret_by_crs.dropna(inplace=True)\n",
    "y = rule_tsmean_ret_by_crs.values\n",
    "const = np.full(shape=len(y),fill_value=1)\n",
    "reg = sm.OLS(y, const).fit().get_robustcov_results(cov_type='HC0')\n",
    "mean_values = reg.params[0]\n",
    "t_values = reg.tvalues[0]"
   ]
  },
  {
   "cell_type": "code",
   "execution_count": 96,
   "metadata": {
    "editable": true
   },
   "outputs": [
    {
     "data": {
      "text/html": [
       "<div>\n",
       "<style scoped>\n",
       "    .dataframe tbody tr th:only-of-type {\n",
       "        vertical-align: middle;\n",
       "    }\n",
       "\n",
       "    .dataframe tbody tr th {\n",
       "        vertical-align: top;\n",
       "    }\n",
       "\n",
       "    .dataframe thead th {\n",
       "        text-align: right;\n",
       "    }\n",
       "</style>\n",
       "<table border=\"1\" class=\"dataframe\">\n",
       "  <thead>\n",
       "    <tr style=\"text-align: right;\">\n",
       "      <th></th>\n",
       "      <th>rule_daily_ret</th>\n",
       "    </tr>\n",
       "  </thead>\n",
       "  <tbody>\n",
       "    <tr>\n",
       "      <th>ret_mean</th>\n",
       "      <td>0.000060</td>\n",
       "    </tr>\n",
       "    <tr>\n",
       "      <th>t_values</th>\n",
       "      <td>0.581422</td>\n",
       "    </tr>\n",
       "  </tbody>\n",
       "</table>\n",
       "</div>"
      ],
      "text/plain": [
       "          rule_daily_ret\n",
       "ret_mean        0.000060\n",
       "t_values        0.581422"
      ]
     },
     "execution_count": 96,
     "metadata": {},
     "output_type": "execute_result"
    }
   ],
   "source": [
    "pd.DataFrame([mean_values,t_values],index=['ret_mean','t_values'],columns=['rule_daily_ret'])"
   ]
  },
  {
   "cell_type": "code",
   "execution_count": 99,
   "metadata": {
    "editable": true
   },
   "outputs": [],
   "source": [
    "ret_df_2023['1+rule_ret'] = ret_df_2023['rule_ret'] + 1"
   ]
  },
  {
   "cell_type": "code",
   "execution_count": 100,
   "metadata": {
    "editable": true
   },
   "outputs": [],
   "source": [
    "ret_df_2023['cum_rule_ret'] = ret_df_2023.groupby('secID')['1+rule_ret'].cumprod()"
   ]
  },
  {
   "cell_type": "code",
   "execution_count": 101,
   "metadata": {
    "editable": true
   },
   "outputs": [],
   "source": [
    "ret_df_2023['1+open_ret'] = ret_df_2023['open_ret'] + 1\n",
    "ret_df_2023['cum_open_ret'] = ret_df_2023.groupby('secID')['1+open_ret'].cumprod()"
   ]
  },
  {
   "cell_type": "code",
   "execution_count": 102,
   "metadata": {
    "editable": true
   },
   "outputs": [
    {
     "data": {
      "text/html": [
       "<div>\n",
       "<style scoped>\n",
       "    .dataframe tbody tr th:only-of-type {\n",
       "        vertical-align: middle;\n",
       "    }\n",
       "\n",
       "    .dataframe tbody tr th {\n",
       "        vertical-align: top;\n",
       "    }\n",
       "\n",
       "    .dataframe thead th {\n",
       "        text-align: right;\n",
       "    }\n",
       "</style>\n",
       "<table border=\"1\" class=\"dataframe\">\n",
       "  <thead>\n",
       "    <tr style=\"text-align: right;\">\n",
       "      <th></th>\n",
       "      <th>secID</th>\n",
       "      <th>tradeDate</th>\n",
       "      <th>open_ret</th>\n",
       "      <th>rule_ret</th>\n",
       "      <th>1+rule_ret</th>\n",
       "      <th>cum_rule_ret</th>\n",
       "      <th>1+open_ret</th>\n",
       "      <th>cum_open_ret</th>\n",
       "    </tr>\n",
       "  </thead>\n",
       "  <tbody>\n",
       "    <tr>\n",
       "      <th>1722700</th>\n",
       "      <td>000004.XSHE</td>\n",
       "      <td>2023-06-28</td>\n",
       "      <td>0.263864</td>\n",
       "      <td>0.263864</td>\n",
       "      <td>1.263864</td>\n",
       "      <td>1.263864</td>\n",
       "      <td>1.263864</td>\n",
       "      <td>1.263864</td>\n",
       "    </tr>\n",
       "    <tr>\n",
       "      <th>1723257</th>\n",
       "      <td>000004.XSHE</td>\n",
       "      <td>2023-06-29</td>\n",
       "      <td>0.004054</td>\n",
       "      <td>0.004054</td>\n",
       "      <td>1.004054</td>\n",
       "      <td>1.268988</td>\n",
       "      <td>1.004054</td>\n",
       "      <td>1.268988</td>\n",
       "    </tr>\n",
       "    <tr>\n",
       "      <th>1724468</th>\n",
       "      <td>000004.XSHE</td>\n",
       "      <td>2023-06-30</td>\n",
       "      <td>0.043072</td>\n",
       "      <td>0.043072</td>\n",
       "      <td>1.043072</td>\n",
       "      <td>1.323645</td>\n",
       "      <td>1.043072</td>\n",
       "      <td>1.323645</td>\n",
       "    </tr>\n",
       "    <tr>\n",
       "      <th>1725185</th>\n",
       "      <td>000004.XSHE</td>\n",
       "      <td>2023-07-03</td>\n",
       "      <td>-0.024517</td>\n",
       "      <td>-0.024517</td>\n",
       "      <td>0.975483</td>\n",
       "      <td>1.291193</td>\n",
       "      <td>0.975483</td>\n",
       "      <td>1.291193</td>\n",
       "    </tr>\n",
       "    <tr>\n",
       "      <th>1725760</th>\n",
       "      <td>000004.XSHE</td>\n",
       "      <td>2023-07-04</td>\n",
       "      <td>-0.107143</td>\n",
       "      <td>-0.000000</td>\n",
       "      <td>1.000000</td>\n",
       "      <td>1.291193</td>\n",
       "      <td>0.892857</td>\n",
       "      <td>1.152850</td>\n",
       "    </tr>\n",
       "    <tr>\n",
       "      <th>1726577</th>\n",
       "      <td>000004.XSHE</td>\n",
       "      <td>2023-07-05</td>\n",
       "      <td>0.066672</td>\n",
       "      <td>0.066672</td>\n",
       "      <td>1.066672</td>\n",
       "      <td>1.377279</td>\n",
       "      <td>1.066672</td>\n",
       "      <td>1.229713</td>\n",
       "    </tr>\n",
       "    <tr>\n",
       "      <th>1727502</th>\n",
       "      <td>000004.XSHE</td>\n",
       "      <td>2023-07-06</td>\n",
       "      <td>0.159721</td>\n",
       "      <td>0.000000</td>\n",
       "      <td>1.000000</td>\n",
       "      <td>1.377279</td>\n",
       "      <td>1.159721</td>\n",
       "      <td>1.426124</td>\n",
       "    </tr>\n",
       "    <tr>\n",
       "      <th>1728850</th>\n",
       "      <td>000004.XSHE</td>\n",
       "      <td>2023-07-07</td>\n",
       "      <td>0.062273</td>\n",
       "      <td>0.000000</td>\n",
       "      <td>1.000000</td>\n",
       "      <td>1.377279</td>\n",
       "      <td>1.062273</td>\n",
       "      <td>1.514933</td>\n",
       "    </tr>\n",
       "    <tr>\n",
       "      <th>...</th>\n",
       "      <td>...</td>\n",
       "      <td>...</td>\n",
       "      <td>...</td>\n",
       "      <td>...</td>\n",
       "      <td>...</td>\n",
       "      <td>...</td>\n",
       "      <td>...</td>\n",
       "      <td>...</td>\n",
       "    </tr>\n",
       "    <tr>\n",
       "      <th>1821829</th>\n",
       "      <td>689009.XSHG</td>\n",
       "      <td>2023-12-20</td>\n",
       "      <td>-0.011458</td>\n",
       "      <td>-0.011458</td>\n",
       "      <td>0.988542</td>\n",
       "      <td>1.175496</td>\n",
       "      <td>0.988542</td>\n",
       "      <td>0.998714</td>\n",
       "    </tr>\n",
       "    <tr>\n",
       "      <th>1822411</th>\n",
       "      <td>689009.XSHG</td>\n",
       "      <td>2023-12-21</td>\n",
       "      <td>-0.007083</td>\n",
       "      <td>-0.007083</td>\n",
       "      <td>0.992917</td>\n",
       "      <td>1.167170</td>\n",
       "      <td>0.992917</td>\n",
       "      <td>0.991640</td>\n",
       "    </tr>\n",
       "    <tr>\n",
       "      <th>1823665</th>\n",
       "      <td>689009.XSHG</td>\n",
       "      <td>2023-12-22</td>\n",
       "      <td>0.014267</td>\n",
       "      <td>0.014267</td>\n",
       "      <td>1.014267</td>\n",
       "      <td>1.183823</td>\n",
       "      <td>1.014267</td>\n",
       "      <td>1.005788</td>\n",
       "    </tr>\n",
       "    <tr>\n",
       "      <th>1823840</th>\n",
       "      <td>689009.XSHG</td>\n",
       "      <td>2023-12-25</td>\n",
       "      <td>-0.013747</td>\n",
       "      <td>-0.000000</td>\n",
       "      <td>1.000000</td>\n",
       "      <td>1.183823</td>\n",
       "      <td>0.986253</td>\n",
       "      <td>0.991961</td>\n",
       "    </tr>\n",
       "    <tr>\n",
       "      <th>1824972</th>\n",
       "      <td>689009.XSHG</td>\n",
       "      <td>2023-12-26</td>\n",
       "      <td>-0.023015</td>\n",
       "      <td>-0.023015</td>\n",
       "      <td>0.976985</td>\n",
       "      <td>1.156577</td>\n",
       "      <td>0.976985</td>\n",
       "      <td>0.969132</td>\n",
       "    </tr>\n",
       "    <tr>\n",
       "      <th>1826076</th>\n",
       "      <td>689009.XSHG</td>\n",
       "      <td>2023-12-27</td>\n",
       "      <td>-0.074320</td>\n",
       "      <td>-0.074320</td>\n",
       "      <td>0.925680</td>\n",
       "      <td>1.070621</td>\n",
       "      <td>0.925680</td>\n",
       "      <td>0.897106</td>\n",
       "    </tr>\n",
       "    <tr>\n",
       "      <th>1826375</th>\n",
       "      <td>689009.XSHG</td>\n",
       "      <td>2023-12-28</td>\n",
       "      <td>0.024373</td>\n",
       "      <td>0.024373</td>\n",
       "      <td>1.024373</td>\n",
       "      <td>1.096715</td>\n",
       "      <td>1.024373</td>\n",
       "      <td>0.918971</td>\n",
       "    </tr>\n",
       "    <tr>\n",
       "      <th>1827638</th>\n",
       "      <td>689009.XSHG</td>\n",
       "      <td>2023-12-29</td>\n",
       "      <td>0.023443</td>\n",
       "      <td>0.000000</td>\n",
       "      <td>1.000000</td>\n",
       "      <td>1.096715</td>\n",
       "      <td>1.023443</td>\n",
       "      <td>0.940514</td>\n",
       "    </tr>\n",
       "  </tbody>\n",
       "</table>\n",
       "<p>197857 rows × 8 columns</p>\n",
       "</div>"
      ],
      "text/plain": [
       "               secID  tradeDate  open_ret  rule_ret  1+rule_ret  cum_rule_ret  \\\n",
       "1722700  000004.XSHE 2023-06-28  0.263864  0.263864    1.263864      1.263864   \n",
       "1723257  000004.XSHE 2023-06-29  0.004054  0.004054    1.004054      1.268988   \n",
       "1724468  000004.XSHE 2023-06-30  0.043072  0.043072    1.043072      1.323645   \n",
       "1725185  000004.XSHE 2023-07-03 -0.024517 -0.024517    0.975483      1.291193   \n",
       "1725760  000004.XSHE 2023-07-04 -0.107143 -0.000000    1.000000      1.291193   \n",
       "1726577  000004.XSHE 2023-07-05  0.066672  0.066672    1.066672      1.377279   \n",
       "1727502  000004.XSHE 2023-07-06  0.159721  0.000000    1.000000      1.377279   \n",
       "1728850  000004.XSHE 2023-07-07  0.062273  0.000000    1.000000      1.377279   \n",
       "...              ...        ...       ...       ...         ...           ...   \n",
       "1821829  689009.XSHG 2023-12-20 -0.011458 -0.011458    0.988542      1.175496   \n",
       "1822411  689009.XSHG 2023-12-21 -0.007083 -0.007083    0.992917      1.167170   \n",
       "1823665  689009.XSHG 2023-12-22  0.014267  0.014267    1.014267      1.183823   \n",
       "1823840  689009.XSHG 2023-12-25 -0.013747 -0.000000    1.000000      1.183823   \n",
       "1824972  689009.XSHG 2023-12-26 -0.023015 -0.023015    0.976985      1.156577   \n",
       "1826076  689009.XSHG 2023-12-27 -0.074320 -0.074320    0.925680      1.070621   \n",
       "1826375  689009.XSHG 2023-12-28  0.024373  0.024373    1.024373      1.096715   \n",
       "1827638  689009.XSHG 2023-12-29  0.023443  0.000000    1.000000      1.096715   \n",
       "\n",
       "         1+open_ret  cum_open_ret  \n",
       "1722700    1.263864      1.263864  \n",
       "1723257    1.004054      1.268988  \n",
       "1724468    1.043072      1.323645  \n",
       "1725185    0.975483      1.291193  \n",
       "1725760    0.892857      1.152850  \n",
       "1726577    1.066672      1.229713  \n",
       "1727502    1.159721      1.426124  \n",
       "1728850    1.062273      1.514933  \n",
       "...             ...           ...  \n",
       "1821829    0.988542      0.998714  \n",
       "1822411    0.992917      0.991640  \n",
       "1823665    1.014267      1.005788  \n",
       "1823840    0.986253      0.991961  \n",
       "1824972    0.976985      0.969132  \n",
       "1826076    0.925680      0.897106  \n",
       "1826375    1.024373      0.918971  \n",
       "1827638    1.023443      0.940514  \n",
       "\n",
       "[197857 rows x 8 columns]"
      ]
     },
     "execution_count": 102,
     "metadata": {},
     "output_type": "execute_result"
    }
   ],
   "source": [
    "ret_df_2023"
   ]
  },
  {
   "cell_type": "code",
   "execution_count": 103,
   "metadata": {
    "editable": true
   },
   "outputs": [],
   "source": [
    "final_ret_2023 = ret_df_2023.groupby('secID').last()"
   ]
  },
  {
   "cell_type": "code",
   "execution_count": 104,
   "metadata": {
    "editable": true
   },
   "outputs": [
    {
     "data": {
      "text/html": [
       "<div>\n",
       "<style scoped>\n",
       "    .dataframe tbody tr th:only-of-type {\n",
       "        vertical-align: middle;\n",
       "    }\n",
       "\n",
       "    .dataframe tbody tr th {\n",
       "        vertical-align: top;\n",
       "    }\n",
       "\n",
       "    .dataframe thead th {\n",
       "        text-align: right;\n",
       "    }\n",
       "</style>\n",
       "<table border=\"1\" class=\"dataframe\">\n",
       "  <thead>\n",
       "    <tr style=\"text-align: right;\">\n",
       "      <th></th>\n",
       "      <th>tradeDate</th>\n",
       "      <th>open_ret</th>\n",
       "      <th>rule_ret</th>\n",
       "      <th>1+rule_ret</th>\n",
       "      <th>cum_rule_ret</th>\n",
       "      <th>1+open_ret</th>\n",
       "      <th>cum_open_ret</th>\n",
       "    </tr>\n",
       "    <tr>\n",
       "      <th>secID</th>\n",
       "      <th></th>\n",
       "      <th></th>\n",
       "      <th></th>\n",
       "      <th></th>\n",
       "      <th></th>\n",
       "      <th></th>\n",
       "      <th></th>\n",
       "    </tr>\n",
       "  </thead>\n",
       "  <tbody>\n",
       "    <tr>\n",
       "      <th>300392.XSHE</th>\n",
       "      <td>2023-07-07</td>\n",
       "      <td>-0.083737</td>\n",
       "      <td>-0.000000</td>\n",
       "      <td>1.000000</td>\n",
       "      <td>0.056079</td>\n",
       "      <td>0.916263</td>\n",
       "      <td>0.051384</td>\n",
       "    </tr>\n",
       "    <tr>\n",
       "      <th>300336.XSHE</th>\n",
       "      <td>2023-07-04</td>\n",
       "      <td>0.000000</td>\n",
       "      <td>0.000000</td>\n",
       "      <td>1.000000</td>\n",
       "      <td>0.147211</td>\n",
       "      <td>1.000000</td>\n",
       "      <td>0.147211</td>\n",
       "    </tr>\n",
       "    <tr>\n",
       "      <th>300751.XSHE</th>\n",
       "      <td>2023-12-29</td>\n",
       "      <td>0.242990</td>\n",
       "      <td>0.000000</td>\n",
       "      <td>1.000000</td>\n",
       "      <td>0.416117</td>\n",
       "      <td>1.242990</td>\n",
       "      <td>0.513590</td>\n",
       "    </tr>\n",
       "    <tr>\n",
       "      <th>002667.XSHE</th>\n",
       "      <td>2023-12-29</td>\n",
       "      <td>0.063454</td>\n",
       "      <td>0.063454</td>\n",
       "      <td>1.063454</td>\n",
       "      <td>0.603489</td>\n",
       "      <td>1.063454</td>\n",
       "      <td>0.463151</td>\n",
       "    </tr>\n",
       "    <tr>\n",
       "      <th>603363.XSHG</th>\n",
       "      <td>2023-12-29</td>\n",
       "      <td>0.032578</td>\n",
       "      <td>0.032578</td>\n",
       "      <td>1.032578</td>\n",
       "      <td>0.610962</td>\n",
       "      <td>1.032578</td>\n",
       "      <td>0.476697</td>\n",
       "    </tr>\n",
       "    <tr>\n",
       "      <th>603236.XSHG</th>\n",
       "      <td>2023-12-29</td>\n",
       "      <td>0.058833</td>\n",
       "      <td>0.000000</td>\n",
       "      <td>1.000000</td>\n",
       "      <td>0.628931</td>\n",
       "      <td>1.058833</td>\n",
       "      <td>0.742282</td>\n",
       "    </tr>\n",
       "    <tr>\n",
       "      <th>300896.XSHE</th>\n",
       "      <td>2023-12-29</td>\n",
       "      <td>0.131578</td>\n",
       "      <td>0.000000</td>\n",
       "      <td>1.000000</td>\n",
       "      <td>0.631157</td>\n",
       "      <td>1.131578</td>\n",
       "      <td>0.535539</td>\n",
       "    </tr>\n",
       "    <tr>\n",
       "      <th>300438.XSHE</th>\n",
       "      <td>2023-12-29</td>\n",
       "      <td>0.107719</td>\n",
       "      <td>0.000000</td>\n",
       "      <td>1.000000</td>\n",
       "      <td>0.636066</td>\n",
       "      <td>1.107719</td>\n",
       "      <td>0.362389</td>\n",
       "    </tr>\n",
       "    <tr>\n",
       "      <th>...</th>\n",
       "      <td>...</td>\n",
       "      <td>...</td>\n",
       "      <td>...</td>\n",
       "      <td>...</td>\n",
       "      <td>...</td>\n",
       "      <td>...</td>\n",
       "      <td>...</td>\n",
       "    </tr>\n",
       "    <tr>\n",
       "      <th>300370.XSHE</th>\n",
       "      <td>2023-12-29</td>\n",
       "      <td>0.012284</td>\n",
       "      <td>0.000000</td>\n",
       "      <td>1.000000</td>\n",
       "      <td>1.593080</td>\n",
       "      <td>1.012284</td>\n",
       "      <td>1.111026</td>\n",
       "    </tr>\n",
       "    <tr>\n",
       "      <th>688506.XSHG</th>\n",
       "      <td>2023-12-29</td>\n",
       "      <td>-0.018172</td>\n",
       "      <td>-0.000000</td>\n",
       "      <td>1.000000</td>\n",
       "      <td>1.624105</td>\n",
       "      <td>0.981828</td>\n",
       "      <td>1.587703</td>\n",
       "    </tr>\n",
       "    <tr>\n",
       "      <th>003004.XSHE</th>\n",
       "      <td>2023-12-29</td>\n",
       "      <td>0.034100</td>\n",
       "      <td>0.000000</td>\n",
       "      <td>1.000000</td>\n",
       "      <td>1.647438</td>\n",
       "      <td>1.034100</td>\n",
       "      <td>1.106057</td>\n",
       "    </tr>\n",
       "    <tr>\n",
       "      <th>688496.XSHG</th>\n",
       "      <td>2023-12-29</td>\n",
       "      <td>0.090919</td>\n",
       "      <td>0.000000</td>\n",
       "      <td>1.000000</td>\n",
       "      <td>1.737343</td>\n",
       "      <td>1.090919</td>\n",
       "      <td>1.149045</td>\n",
       "    </tr>\n",
       "    <tr>\n",
       "      <th>003021.XSHE</th>\n",
       "      <td>2023-12-29</td>\n",
       "      <td>-0.022199</td>\n",
       "      <td>-0.000000</td>\n",
       "      <td>1.000000</td>\n",
       "      <td>1.737365</td>\n",
       "      <td>0.977801</td>\n",
       "      <td>1.839788</td>\n",
       "    </tr>\n",
       "    <tr>\n",
       "      <th>603179.XSHG</th>\n",
       "      <td>2023-12-29</td>\n",
       "      <td>-0.002634</td>\n",
       "      <td>-0.000000</td>\n",
       "      <td>1.000000</td>\n",
       "      <td>1.886570</td>\n",
       "      <td>0.997366</td>\n",
       "      <td>1.282652</td>\n",
       "    </tr>\n",
       "    <tr>\n",
       "      <th>002535.XSHE</th>\n",
       "      <td>2023-12-29</td>\n",
       "      <td>0.024657</td>\n",
       "      <td>0.000000</td>\n",
       "      <td>1.000000</td>\n",
       "      <td>2.305427</td>\n",
       "      <td>1.024657</td>\n",
       "      <td>2.820854</td>\n",
       "    </tr>\n",
       "    <tr>\n",
       "      <th>000004.XSHE</th>\n",
       "      <td>2023-12-29</td>\n",
       "      <td>0.003192</td>\n",
       "      <td>0.000000</td>\n",
       "      <td>1.000000</td>\n",
       "      <td>2.338865</td>\n",
       "      <td>1.003192</td>\n",
       "      <td>1.343288</td>\n",
       "    </tr>\n",
       "  </tbody>\n",
       "</table>\n",
       "<p>852 rows × 7 columns</p>\n",
       "</div>"
      ],
      "text/plain": [
       "             tradeDate  open_ret  rule_ret  1+rule_ret  cum_rule_ret  \\\n",
       "secID                                                                  \n",
       "300392.XSHE 2023-07-07 -0.083737 -0.000000    1.000000      0.056079   \n",
       "300336.XSHE 2023-07-04  0.000000  0.000000    1.000000      0.147211   \n",
       "300751.XSHE 2023-12-29  0.242990  0.000000    1.000000      0.416117   \n",
       "002667.XSHE 2023-12-29  0.063454  0.063454    1.063454      0.603489   \n",
       "603363.XSHG 2023-12-29  0.032578  0.032578    1.032578      0.610962   \n",
       "603236.XSHG 2023-12-29  0.058833  0.000000    1.000000      0.628931   \n",
       "300896.XSHE 2023-12-29  0.131578  0.000000    1.000000      0.631157   \n",
       "300438.XSHE 2023-12-29  0.107719  0.000000    1.000000      0.636066   \n",
       "...                ...       ...       ...         ...           ...   \n",
       "300370.XSHE 2023-12-29  0.012284  0.000000    1.000000      1.593080   \n",
       "688506.XSHG 2023-12-29 -0.018172 -0.000000    1.000000      1.624105   \n",
       "003004.XSHE 2023-12-29  0.034100  0.000000    1.000000      1.647438   \n",
       "688496.XSHG 2023-12-29  0.090919  0.000000    1.000000      1.737343   \n",
       "003021.XSHE 2023-12-29 -0.022199 -0.000000    1.000000      1.737365   \n",
       "603179.XSHG 2023-12-29 -0.002634 -0.000000    1.000000      1.886570   \n",
       "002535.XSHE 2023-12-29  0.024657  0.000000    1.000000      2.305427   \n",
       "000004.XSHE 2023-12-29  0.003192  0.000000    1.000000      2.338865   \n",
       "\n",
       "             1+open_ret  cum_open_ret  \n",
       "secID                                  \n",
       "300392.XSHE    0.916263      0.051384  \n",
       "300336.XSHE    1.000000      0.147211  \n",
       "300751.XSHE    1.242990      0.513590  \n",
       "002667.XSHE    1.063454      0.463151  \n",
       "603363.XSHG    1.032578      0.476697  \n",
       "603236.XSHG    1.058833      0.742282  \n",
       "300896.XSHE    1.131578      0.535539  \n",
       "300438.XSHE    1.107719      0.362389  \n",
       "...                 ...           ...  \n",
       "300370.XSHE    1.012284      1.111026  \n",
       "688506.XSHG    0.981828      1.587703  \n",
       "003004.XSHE    1.034100      1.106057  \n",
       "688496.XSHG    1.090919      1.149045  \n",
       "003021.XSHE    0.977801      1.839788  \n",
       "603179.XSHG    0.997366      1.282652  \n",
       "002535.XSHE    1.024657      2.820854  \n",
       "000004.XSHE    1.003192      1.343288  \n",
       "\n",
       "[852 rows x 7 columns]"
      ]
     },
     "execution_count": 104,
     "metadata": {},
     "output_type": "execute_result"
    }
   ],
   "source": [
    "final_ret_2023.sort_values('cum_rule_ret')"
   ]
  },
  {
   "cell_type": "code",
   "execution_count": 106,
   "metadata": {
    "editable": true
   },
   "outputs": [],
   "source": [
    "best_sec = final_ret_2023.sort_values('cum_rule_ret').index[-5:]"
   ]
  },
  {
   "cell_type": "code",
   "execution_count": 107,
   "metadata": {
    "editable": true
   },
   "outputs": [
    {
     "data": {
      "text/plain": [
       "<matplotlib.axes._subplots.AxesSubplot at 0x7f1a7548ad10>"
      ]
     },
     "execution_count": 107,
     "metadata": {},
     "output_type": "execute_result"
    },
    {
     "data": {
      "image/png": "[encoded data removed]",
      "text/plain": [
       "<Figure size 1152x648 with 1 Axes>"
      ]
     },
     "metadata": {
      "needs_background": "light"
     },
     "output_type": "display_data"
    }
   ],
   "source": [
    "ret_df_2023.loc[ret_df_2023['secID'].isin(best_sec)].pivot(index='tradeDate',columns='secID',values='cum_rule_ret').plot()"
   ]
  },
  {
   "cell_type": "code",
   "execution_count": 108,
   "metadata": {
    "editable": true
   },
   "outputs": [
    {
     "data": {
      "text/plain": [
       "<matplotlib.axes._subplots.AxesSubplot at 0x7f1a753f1ed0>"
      ]
     },
     "execution_count": 108,
     "metadata": {},
     "output_type": "execute_result"
    },
    {
     "data": {
      "image/png": "[encoded data removed]",
      "text/plain": [
       "<Figure size 1152x648 with 1 Axes>"
      ]
     },
     "metadata": {
      "needs_background": "light"
     },
     "output_type": "display_data"
    }
   ],
   "source": [
    "ret_df_2023.loc[ret_df_2023['secID'].isin(best_sec)].pivot(index='tradeDate',columns='secID',values='cum_open_ret').plot()"
   ]
  },
  {
   "cell_type": "code",
   "execution_count": 109,
   "metadata": {
    "editable": true
   },
   "outputs": [],
   "source": [
    "final_ret_2023.sort_values('cum_rule_ret', inplace=True)\n",
    "worst_sec = final_ret_2023.loc[final_ret_2023['tradeDate']=='2023-12-30'].index[0:10]"
   ]
  },
  {
   "cell_type": "code",
   "execution_count": 95,
   "metadata": {
    "editable": true
   },
   "outputs": [
    {
     "data": {
      "text/html": [
       "<div>\n",
       "<style scoped>\n",
       "    .dataframe tbody tr th:only-of-type {\n",
       "        vertical-align: middle;\n",
       "    }\n",
       "\n",
       "    .dataframe tbody tr th {\n",
       "        vertical-align: top;\n",
       "    }\n",
       "\n",
       "    .dataframe thead th {\n",
       "        text-align: right;\n",
       "    }\n",
       "</style>\n",
       "<table border=\"1\" class=\"dataframe\">\n",
       "  <thead>\n",
       "    <tr style=\"text-align: right;\">\n",
       "      <th></th>\n",
       "      <th>tradeDate</th>\n",
       "      <th>open_ret</th>\n",
       "      <th>rule_ret</th>\n",
       "      <th>1+rule_ret</th>\n",
       "      <th>cum_rule_ret</th>\n",
       "      <th>1+open_ret</th>\n",
       "      <th>cum_open_ret</th>\n",
       "    </tr>\n",
       "    <tr>\n",
       "      <th>secID</th>\n",
       "      <th></th>\n",
       "      <th></th>\n",
       "      <th></th>\n",
       "      <th></th>\n",
       "      <th></th>\n",
       "      <th></th>\n",
       "      <th></th>\n",
       "    </tr>\n",
       "  </thead>\n",
       "  <tbody>\n",
       "    <tr>\n",
       "      <th>002464.XSHE</th>\n",
       "      <td>2022-06-27</td>\n",
       "      <td>-0.038462</td>\n",
       "      <td>-0.038462</td>\n",
       "      <td>0.961538</td>\n",
       "      <td>0.097306</td>\n",
       "      <td>0.961538</td>\n",
       "      <td>0.097306</td>\n",
       "    </tr>\n",
       "    <tr>\n",
       "      <th>600091.XSHG</th>\n",
       "      <td>2022-06-15</td>\n",
       "      <td>-0.026223</td>\n",
       "      <td>-0.026223</td>\n",
       "      <td>0.973777</td>\n",
       "      <td>0.104188</td>\n",
       "      <td>0.973777</td>\n",
       "      <td>0.100244</td>\n",
       "    </tr>\n",
       "    <tr>\n",
       "      <th>600695.XSHG</th>\n",
       "      <td>2022-06-07</td>\n",
       "      <td>0.041337</td>\n",
       "      <td>0.041337</td>\n",
       "      <td>1.041337</td>\n",
       "      <td>0.141306</td>\n",
       "      <td>1.041337</td>\n",
       "      <td>0.141306</td>\n",
       "    </tr>\n",
       "    <tr>\n",
       "      <th>600652.XSHG</th>\n",
       "      <td>2022-06-15</td>\n",
       "      <td>-0.107438</td>\n",
       "      <td>-0.000000</td>\n",
       "      <td>1.000000</td>\n",
       "      <td>0.257113</td>\n",
       "      <td>0.892562</td>\n",
       "      <td>0.288000</td>\n",
       "    </tr>\n",
       "    <tr>\n",
       "      <th>688608.XSHG</th>\n",
       "      <td>2022-12-30</td>\n",
       "      <td>0.005591</td>\n",
       "      <td>0.005591</td>\n",
       "      <td>1.005591</td>\n",
       "      <td>0.459943</td>\n",
       "      <td>1.005591</td>\n",
       "      <td>0.605369</td>\n",
       "    </tr>\n",
       "    <tr>\n",
       "      <th>000056.XSHE</th>\n",
       "      <td>2022-12-30</td>\n",
       "      <td>0.004424</td>\n",
       "      <td>0.004424</td>\n",
       "      <td>1.004424</td>\n",
       "      <td>0.490503</td>\n",
       "      <td>1.004424</td>\n",
       "      <td>0.857958</td>\n",
       "    </tr>\n",
       "    <tr>\n",
       "      <th>300482.XSHE</th>\n",
       "      <td>2022-12-30</td>\n",
       "      <td>-0.023919</td>\n",
       "      <td>-0.023919</td>\n",
       "      <td>0.976081</td>\n",
       "      <td>0.496035</td>\n",
       "      <td>0.976081</td>\n",
       "      <td>0.826127</td>\n",
       "    </tr>\n",
       "    <tr>\n",
       "      <th>300589.XSHE</th>\n",
       "      <td>2022-12-30</td>\n",
       "      <td>0.020557</td>\n",
       "      <td>0.020557</td>\n",
       "      <td>1.020557</td>\n",
       "      <td>0.496537</td>\n",
       "      <td>1.020557</td>\n",
       "      <td>0.740127</td>\n",
       "    </tr>\n",
       "    <tr>\n",
       "      <th>...</th>\n",
       "      <td>...</td>\n",
       "      <td>...</td>\n",
       "      <td>...</td>\n",
       "      <td>...</td>\n",
       "      <td>...</td>\n",
       "      <td>...</td>\n",
       "      <td>...</td>\n",
       "    </tr>\n",
       "    <tr>\n",
       "      <th>300351.XSHE</th>\n",
       "      <td>2022-12-30</td>\n",
       "      <td>-0.026662</td>\n",
       "      <td>-0.026662</td>\n",
       "      <td>0.973338</td>\n",
       "      <td>1.827223</td>\n",
       "      <td>0.973338</td>\n",
       "      <td>1.058658</td>\n",
       "    </tr>\n",
       "    <tr>\n",
       "      <th>601975.XSHG</th>\n",
       "      <td>2022-12-30</td>\n",
       "      <td>0.015666</td>\n",
       "      <td>0.015666</td>\n",
       "      <td>1.015666</td>\n",
       "      <td>1.885278</td>\n",
       "      <td>1.015666</td>\n",
       "      <td>1.945000</td>\n",
       "    </tr>\n",
       "    <tr>\n",
       "      <th>003029.XSHE</th>\n",
       "      <td>2022-12-30</td>\n",
       "      <td>0.007866</td>\n",
       "      <td>0.000000</td>\n",
       "      <td>1.000000</td>\n",
       "      <td>1.922016</td>\n",
       "      <td>1.007866</td>\n",
       "      <td>1.645743</td>\n",
       "    </tr>\n",
       "    <tr>\n",
       "      <th>600387.XSHG</th>\n",
       "      <td>2022-12-30</td>\n",
       "      <td>-0.011278</td>\n",
       "      <td>-0.000000</td>\n",
       "      <td>1.000000</td>\n",
       "      <td>1.923154</td>\n",
       "      <td>0.988722</td>\n",
       "      <td>1.290026</td>\n",
       "    </tr>\n",
       "    <tr>\n",
       "      <th>300071.XSHE</th>\n",
       "      <td>2022-12-30</td>\n",
       "      <td>-0.015997</td>\n",
       "      <td>-0.000000</td>\n",
       "      <td>1.000000</td>\n",
       "      <td>1.970213</td>\n",
       "      <td>0.984003</td>\n",
       "      <td>1.873131</td>\n",
       "    </tr>\n",
       "    <tr>\n",
       "      <th>000411.XSHE</th>\n",
       "      <td>2022-12-30</td>\n",
       "      <td>0.003396</td>\n",
       "      <td>0.003396</td>\n",
       "      <td>1.003396</td>\n",
       "      <td>2.294187</td>\n",
       "      <td>1.003396</td>\n",
       "      <td>0.975191</td>\n",
       "    </tr>\n",
       "    <tr>\n",
       "      <th>600188.XSHG</th>\n",
       "      <td>2022-12-30</td>\n",
       "      <td>-0.007548</td>\n",
       "      <td>-0.007548</td>\n",
       "      <td>0.992452</td>\n",
       "      <td>2.397460</td>\n",
       "      <td>0.992452</td>\n",
       "      <td>1.550306</td>\n",
       "    </tr>\n",
       "    <tr>\n",
       "      <th>002219.XSHE</th>\n",
       "      <td>2022-12-30</td>\n",
       "      <td>-0.005022</td>\n",
       "      <td>-0.000000</td>\n",
       "      <td>1.000000</td>\n",
       "      <td>3.316126</td>\n",
       "      <td>0.994978</td>\n",
       "      <td>2.954720</td>\n",
       "    </tr>\n",
       "  </tbody>\n",
       "</table>\n",
       "<p>831 rows × 7 columns</p>\n",
       "</div>"
      ],
      "text/plain": [
       "             tradeDate  open_ret  rule_ret  1+rule_ret  cum_rule_ret  \\\n",
       "secID                                                                  \n",
       "002464.XSHE 2022-06-27 -0.038462 -0.038462    0.961538      0.097306   \n",
       "600091.XSHG 2022-06-15 -0.026223 -0.026223    0.973777      0.104188   \n",
       "600695.XSHG 2022-06-07  0.041337  0.041337    1.041337      0.141306   \n",
       "600652.XSHG 2022-06-15 -0.107438 -0.000000    1.000000      0.257113   \n",
       "688608.XSHG 2022-12-30  0.005591  0.005591    1.005591      0.459943   \n",
       "000056.XSHE 2022-12-30  0.004424  0.004424    1.004424      0.490503   \n",
       "300482.XSHE 2022-12-30 -0.023919 -0.023919    0.976081      0.496035   \n",
       "300589.XSHE 2022-12-30  0.020557  0.020557    1.020557      0.496537   \n",
       "...                ...       ...       ...         ...           ...   \n",
       "300351.XSHE 2022-12-30 -0.026662 -0.026662    0.973338      1.827223   \n",
       "601975.XSHG 2022-12-30  0.015666  0.015666    1.015666      1.885278   \n",
       "003029.XSHE 2022-12-30  0.007866  0.000000    1.000000      1.922016   \n",
       "600387.XSHG 2022-12-30 -0.011278 -0.000000    1.000000      1.923154   \n",
       "300071.XSHE 2022-12-30 -0.015997 -0.000000    1.000000      1.970213   \n",
       "000411.XSHE 2022-12-30  0.003396  0.003396    1.003396      2.294187   \n",
       "600188.XSHG 2022-12-30 -0.007548 -0.007548    0.992452      2.397460   \n",
       "002219.XSHE 2022-12-30 -0.005022 -0.000000    1.000000      3.316126   \n",
       "\n",
       "             1+open_ret  cum_open_ret  \n",
       "secID                                  \n",
       "002464.XSHE    0.961538      0.097306  \n",
       "600091.XSHG    0.973777      0.100244  \n",
       "600695.XSHG    1.041337      0.141306  \n",
       "600652.XSHG    0.892562      0.288000  \n",
       "688608.XSHG    1.005591      0.605369  \n",
       "000056.XSHE    1.004424      0.857958  \n",
       "300482.XSHE    0.976081      0.826127  \n",
       "300589.XSHE    1.020557      0.740127  \n",
       "...                 ...           ...  \n",
       "300351.XSHE    0.973338      1.058658  \n",
       "601975.XSHG    1.015666      1.945000  \n",
       "003029.XSHE    1.007866      1.645743  \n",
       "600387.XSHG    0.988722      1.290026  \n",
       "300071.XSHE    0.984003      1.873131  \n",
       "000411.XSHE    1.003396      0.975191  \n",
       "600188.XSHG    0.992452      1.550306  \n",
       "002219.XSHE    0.994978      2.954720  \n",
       "\n",
       "[831 rows x 7 columns]"
      ]
     },
     "execution_count": 95,
     "metadata": {},
     "output_type": "execute_result"
    }
   ],
   "source": [
    "final_ret_2022"
   ]
  },
  {
   "cell_type": "code",
   "execution_count": 96,
   "metadata": {
    "editable": true
   },
   "outputs": [
    {
     "data": {
      "text/plain": [
       "Index(['688608.XSHG', '000056.XSHE', '300482.XSHE', '300589.XSHE',\n",
       "       '300543.XSHE', '688339.XSHG', '603176.XSHG', '300545.XSHE',\n",
       "       '300977.XSHE', '601908.XSHG'],\n",
       "      dtype='object', name='secID')"
      ]
     },
     "execution_count": 96,
     "metadata": {},
     "output_type": "execute_result"
    }
   ],
   "source": [
    "worst_sec"
   ]
  },
  {
   "cell_type": "code",
   "execution_count": 97,
   "metadata": {
    "editable": true
   },
   "outputs": [
    {
     "data": {
      "text/plain": [
       "<matplotlib.axes._subplots.AxesSubplot at 0x7f46bda5ea10>"
      ]
     },
     "execution_count": 97,
     "metadata": {},
     "output_type": "execute_result"
    },
    {
     "data": {
      "image/png": "[encoded data removed]",
      "text/plain": [
       "<Figure size 1152x648 with 1 Axes>"
      ]
     },
     "metadata": {
      "needs_background": "light"
     },
     "output_type": "display_data"
    }
   ],
   "source": [
    "ret_df_2022.loc[ret_df_2022['secID'].isin(worst_sec)].pivot(index='tradeDate',columns='secID',values='cum_rule_ret').plot()"
   ]
  },
  {
   "cell_type": "code",
   "execution_count": 98,
   "metadata": {
    "editable": true
   },
   "outputs": [
    {
     "data": {
      "text/plain": [
       "<matplotlib.axes._subplots.AxesSubplot at 0x7f46bda5e790>"
      ]
     },
     "execution_count": 98,
     "metadata": {},
     "output_type": "execute_result"
    },
    {
     "data": {
      "image/png": "[encoded data removed]",
      "text/plain": [
       "<Figure size 1152x648 with 1 Axes>"
      ]
     },
     "metadata": {
      "needs_background": "light"
     },
     "output_type": "display_data"
    }
   ],
   "source": [
    "ret_df_2022.loc[ret_df_2022['secID'].isin(worst_sec)].pivot(index='tradeDate',columns='secID',values='cum_open_ret').plot()"
   ]
  },
  {
   "cell_type": "code",
   "execution_count": null,
   "metadata": {
    "editable": true
   },
   "outputs": [],
   "source": []
  }
 ],
 "metadata": {
  "kernelspec": {
   "display_name": "Python 3",
   "language": "python",
   "name": "python3"
  },
  "language_info": {
   "codemirror_mode": {
    "name": "ipython",
    "version": 3
   },
   "file_extension": ".py",
   "mimetype": "text/x-python",
   "name": "python",
   "nbconvert_exporter": "python",
   "pygments_lexer": "ipython3",
   "version": "3.7.5"
  },
  "widgets": {
   "application/vnd.jupyter.widget-state+json": {
    "state": {},
    "version_major": 2,
    "version_minor": 0
   }
  }
 },
 "nbformat": 4,
 "nbformat_minor": 4
}
