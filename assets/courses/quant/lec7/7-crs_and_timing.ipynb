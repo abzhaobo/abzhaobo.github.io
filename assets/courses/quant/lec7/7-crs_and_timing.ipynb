{
 "cells": [
  {
   "cell_type": "code",
   "execution_count": 2,
   "metadata": {
    "editable": true
   },
   "outputs": [
    {
     "data": {
      "application/vnd.jupyter.widget-view+json": {
       "model_id": "33a2e8dda2994a359fadf7b41aaadb73",
       "version_major": 2,
       "version_minor": 0
      },
      "text/plain": [
       "Chart()"
      ]
     },
     "metadata": {},
     "output_type": "display_data"
    }
   ],
   "source": [
    "%%backtest\n",
    "# from datetime import datetime\n",
    "import talib\n",
    "\n",
    "start = '2021-01-01'\n",
    "end = '2021-05-21'\n",
    "universe = StockUniverse('ZZ800')\n",
    "benchmark = 'HS300'\n",
    "freq = 'd'\n",
    "refresh_rate = Weekly(1)\n",
    "max_history_window = 60\n",
    "fastperiod = 12  # 快线周期\n",
    "slowperiod = 26  # 慢线周期\n",
    "signalperiod = 9  # Signal平滑周期\n",
    "# nstocks = 150\n",
    "\n",
    "accounts = {\n",
    "    'stock_account': AccountConfig(account_type='security', capital_base=1e5)\n",
    "}\n",
    "\n",
    "\n",
    "def initialize(context):\n",
    "    pass\n",
    "\n",
    "\n",
    "def handle_data(context):\n",
    "    current_universe = context.get_universe(exclude_halt=True)\n",
    "#     today = context.current_date\n",
    "# #     print(today)\n",
    "#     if today.strftime('%d') == '01':\n",
    "#         prev_month_begin = today + pd.tseries.offsets.MonthBegin(-1)\n",
    "#     else:\n",
    "#         prev_month_begin = today + pd.tseries.offsets.MonthBegin(-2)\n",
    "#     print('prev_month_begin:', prev_month_begin)\n",
    "#     factor_exposure = get_data_cube(symbol=set_universe('A'),\n",
    "#                                     field=['HSIGMA','VOL20'],\n",
    "#                                     start=today, end=today,\n",
    "#                                     style='ast').to_frame().reset_index()\n",
    "    factor_exposure = context.history(symbol=current_universe, time_range=1, attribute=['HSIGMA','VOL20'], freq='d', style='tas',rtype='frame')\n",
    "#     factor_exposure = pd.DataFrame(factor_exposure)\n",
    "#     print(factor_exposure)\n",
    "    factor_exposure = factor_exposure[list(factor_exposure.keys())[0]]\n",
    "#     factor_exposure['HSIGMA'] = factor_exposure['HSIGMA'].to_numpy().reshape(-1,1)\n",
    "#     factor_exposure['HSIGMA'] = pd.DataFrame(factor_exposure['HSIGMA'].tolist(),columns=['HSIGMA']).values\n",
    "#     factor_exposure['VOL20'] = pd.DataFrame(factor_exposure['VOL20'].tolist(),columns=['VOL20']).values\n",
    "#     display(factor_exposure)\n",
    "#     #### Intersection #####\n",
    "#     stocks_set = {}\n",
    "#     stocks_set['rev'] = set(factor_exposure.sort_values('rev', ascending=True)['sec_id'].iloc[0:nstocks].tolist())\n",
    "# #     stocks_set['mom'] = set(factor_exposure.sort_values('mom', ascending=False)['sec_id'].iloc[0:nstocks].tolist())\n",
    "# #     stocks_set['illiq'] = set(factor_exposure.sort_values('illiq', ascending=False)['sec_id'].iloc[0:nstocks].tolist())\n",
    "#     stocks_set['ivol'] = set(factor_exposure.sort_values('ivol', ascending=True)['sec_id'].iloc[0:nstocks].tolist())\n",
    "#     current_universe = set.intersection(\n",
    "#                                 stocks_set['rev'],\n",
    "# #                                 stocks_set['mom'],\n",
    "# #                                 stocks_set['illiq'],\n",
    "#                                 stocks_set['ivol']\n",
    "#     )\n",
    "#     current_universe = list(current_universe)\n",
    "    ##### Scoring #####\n",
    "    cols = ['HSIGMA','VOL20']\n",
    "#     for col in cols:\n",
    "#         factor_exposure[f'{col}_rank'] = factor_exposure[col].rank()\n",
    "    factor_exposure['HSIGMA_rank'] = factor_exposure['HSIGMA'].rank()\n",
    "    factor_exposure['VOL20_rank'] = factor_exposure['VOL20'].rank(ascending=False)\n",
    "    factor_exposure['rank_sum'] = factor_exposure['HSIGMA_rank'] + factor_exposure['VOL20_rank']\n",
    "    current_universe = list(factor_exposure.sort_values('rank_sum').iloc[0:20].index)\n",
    "#     print(current_universe)\n",
    "#     factor_exposure['rev_rank'] = factor_exposure['rev'].rank()\n",
    "#     factor_exposure['mom_rank'] = factor_exposure['mom'].rank(ascending=False)\n",
    "#     factor_exposure['illiq_rank'] = factor_exposure['illiq'].rank(\n",
    "#         ascending=False)\n",
    "#     factor_exposure['ivol_rank'] = factor_exposure['ivol'].rank()\n",
    "#     factor_exposure['rank_sum'] = factor_exposure['mom_rank']\n",
    "# #                                     factor_exposure['rev_rank'] + factor_exposure['ivol_rank']\n",
    "# #                                   factor_exposure['illiq_rank'] +\n",
    "#     factor_exposure.sort_values('rank_sum', inplace=True)\n",
    "\n",
    "#     current_universe = list(factor_exposure['sec_id'].iloc[20:40])\n",
    "    history = context.history(current_universe, 'closePrice', 60, rtype='array')  # 拿过去60个交易日的收盘价来估算MACD\n",
    "    \n",
    "    account = context.get_account('stock_account')\n",
    "    current_positions = account.get_positions()\n",
    "    cash = account.cash\n",
    "    buylist = []\n",
    "    \n",
    "    for stock in current_universe:\n",
    "        close = history[stock]['closePrice']\n",
    "        macd, signal, _ = talib.MACD(close, fastperiod=fastperiod, slowperiod=slowperiod, signalperiod=signalperiod)\n",
    "        if macd[-2] < signal[-2] and macd[-1] > signal[-1] and stock not in current_positions:  # MACD上穿Signal，且无持仓\n",
    "            buylist.append(stock)\n",
    "        elif macd[-2] > signal[-2] and macd[-1] < signal[-1] and stock in current_positions:  # MACD下穿Signal，且有持仓\n",
    "            account.order_to(stock, 0)  # 全部卖出\n",
    "            cash += current_positions[stock].amount * context.current_price(stock)  # 估计买入金额\n",
    "\n",
    "    d = min(len(buylist), int(cash) // 20000)  # 可以买入的股票数量，如果资金不够，只买入部分\n",
    "    for stock in buylist[:d]:\n",
    "        account.order(stock, 20000 / context.current_price(stock))"
   ]
  },
  {
   "cell_type": "code",
   "execution_count": 3,
   "metadata": {
    "editable": true
   },
   "outputs": [
    {
     "data": {
      "application/vnd.jupyter.widget-view+json": {
       "model_id": "e15bc3b91ce54aaf918fe50445a2aead",
       "version_major": 2,
       "version_minor": 0
      },
      "text/plain": [
       "Order()"
      ]
     },
     "metadata": {},
     "output_type": "display_data"
    }
   ],
   "source": [
    "# #查看调仓记录\n",
    "show_order(start,end)"
   ]
  },
  {
   "cell_type": "code",
   "execution_count": 4,
   "metadata": {
    "editable": true
   },
   "outputs": [
    {
     "data": {
      "application/vnd.jupyter.widget-view+json": {
       "model_id": "16d732b325574c13a79dd80a3ac12c03",
       "version_major": 2,
       "version_minor": 0
      },
      "text/plain": [
       "Position()"
      ]
     },
     "metadata": {},
     "output_type": "display_data"
    }
   ],
   "source": [
    "# #查看持仓记录\n",
    "show_position(start,end)"
   ]
  },
  {
   "cell_type": "code",
   "execution_count": null,
   "metadata": {
    "editable": true
   },
   "outputs": [],
   "source": [
    "%%backtest\n",
    "# from datetime import datetime\n",
    "import talib\n",
    "\n",
    "start = '2015-01-01'\n",
    "end = '2017-12-31'\n",
    "universe = StockUniverse('A')\n",
    "benchmark = 'HS300'\n",
    "freq = 'd'\n",
    "refresh_rate = 1\n",
    "max_history_window = 60\n",
    "fastperiod = 12  # 快线周期\n",
    "slowperiod = 26  # 慢线周期\n",
    "signalperiod = 9  # Signal平滑周期\n",
    "nstocks = 150\n",
    "\n",
    "accounts = {\n",
    "    'stock_account': AccountConfig(account_type='security', capital_base=1e5)\n",
    "}\n",
    "\n",
    "\n",
    "def initialize(context):\n",
    "    pass\n",
    "\n",
    "\n",
    "def handle_data(context):\n",
    "#     current_universe = context.get_universe(exclude_halt=True)\n",
    "    today = context.current_date\n",
    "#     print(today)\n",
    "    if today.strftime('%d') == '01':\n",
    "        prev_month_begin = today + pd.tseries.offsets.MonthBegin(-1)\n",
    "    else:\n",
    "        prev_month_begin = today + pd.tseries.offsets.MonthBegin(-2)\n",
    "#     print('prev_month_begin:', prev_month_begin)\n",
    "    factor_exposure = get_data_cube(symbol=set_universe('A'),\n",
    "                                    field=['d6dk9218qq.size', 'd6dk9218qq.rev',\n",
    "                                           'd6dk9218qq.illiq', 'd6dk9218qq.ivol'],\n",
    "                                    start=prev_month_begin, end=today,\n",
    "                                    style='ast').to_frame().reset_index()\n",
    "#     print(factor_exposure)\n",
    "    factor_exposure.columns = ['date', 'sec_id', 'size', 'rev', 'illiq', 'ivol']\n",
    "#     assert factor_exposure['date'].nunique() == 1\n",
    "    factor_exposure = factor_exposure[factor_exposure['date'] == factor_exposure['date'].unique()[-1]]\n",
    "    ##### Intersection #####\n",
    "#     stocks_set = {}\n",
    "#     stocks_set['rev'] = set(factor_exposure.sort_values('rev', ascending=True)['sec_id'].iloc[0:nstocks].tolist())\n",
    "# #     stocks_set['mom'] = set(factor_exposure.sort_values('mom', ascending=False)['sec_id'].iloc[0:nstocks].tolist())\n",
    "# #     stocks_set['illiq'] = set(factor_exposure.sort_values('illiq', ascending=False)['sec_id'].iloc[0:nstocks].tolist())\n",
    "#     stocks_set['ivol'] = set(factor_exposure.sort_values('ivol', ascending=True)['sec_id'].iloc[0:nstocks].tolist())\n",
    "#     current_universe = set.intersection(\n",
    "#                                 stocks_set['rev'],\n",
    "# #                                 stocks_set['mom'],\n",
    "# #                                 stocks_set['illiq'],\n",
    "#                                 stocks_set['ivol']\n",
    "#     )\n",
    "#     current_universe = list(current_universe)\n",
    "    ##### Scoring #####\n",
    "    factor_exposure['rev_rank'] = factor_exposure['rev'].rank()\n",
    "    factor_exposure['size_rank'] = factor_exposure['size'].rank(ascending=False)\n",
    "    factor_exposure['illiq_rank'] = factor_exposure['illiq'].rank(\n",
    "        ascending=False)\n",
    "    factor_exposure['ivol_rank'] = factor_exposure['ivol'].rank()\n",
    "    factor_exposure['rank_sum'] = factor_exposure['size_rank']\n",
    "#                                     factor_exposure['rev_rank'] + factor_exposure['ivol_rank']\n",
    "#                                   factor_exposure['illiq_rank'] +\n",
    "    factor_exposure.sort_values('rank_sum', inplace=True)\n",
    "\n",
    "    current_universe = list(factor_exposure['sec_id'].iloc[20:40])\n",
    "    history = context.history(current_universe, 'closePrice', 60, rtype='array')  # 拿过去60个交易日的收盘价来估算MACD\n",
    "    \n",
    "    account = context.get_account('stock_account')\n",
    "    current_positions = account.get_positions()\n",
    "    cash = account.cash\n",
    "    buylist = []\n",
    "    \n",
    "    for stock in current_universe:\n",
    "        close = history[stock]['closePrice']\n",
    "        macd, signal, _ = talib.MACD(close, fastperiod=fastperiod, slowperiod=slowperiod, signalperiod=signalperiod)\n",
    "        if macd[-2] < signal[-2] and macd[-1] > signal[-1] and stock not in current_positions:  # MACD上穿Signal，且无持仓\n",
    "            buylist.append(stock)\n",
    "        elif macd[-2] > signal[-2] and macd[-1] < signal[-1] and stock in current_positions:  # MACD下穿Signal，且有持仓\n",
    "            account.order_to(stock, 0)  # 全部卖出\n",
    "            cash += current_positions[stock].amount * context.current_price(stock)  # 估计买入金额\n",
    "\n",
    "    d = min(len(buylist), int(cash) // 20000)  # 可以买入的股票数量，如果资金不够，只买入部分\n",
    "    for stock in buylist[:d]:\n",
    "        account.order(stock, 20000 / context.current_price(stock))\n"
   ]
  }
 ],
 "metadata": {
  "kernelspec": {
   "display_name": "Python 3",
   "language": "python",
   "name": "python3"
  },
  "language_info": {
   "codemirror_mode": {
    "name": "ipython",
    "version": 3
   },
   "file_extension": ".py",
   "mimetype": "text/x-python",
   "name": "python",
   "nbconvert_exporter": "python",
   "pygments_lexer": "ipython3",
   "version": "3.7.5"
  },
  "widgets": {
   "application/vnd.jupyter.widget-state+json": {
    "state": {
     "16d732b325574c13a79dd80a3ac12c03": {
      "model_module": "pyuqer",
      "model_module_version": "^0.1.0",
      "model_name": "PositionModel",
      "state": {
       "_model_module_version": "^0.1.0",
       "_view_module_version": "^0.1.0",
       "layout": "IPY_MODEL_be63a448272941178813fbd575555741",
       "value": {
        "data": []
       }
      }
     },
     "1d6924c0f42b43a2b7237aed9582837b": {
      "model_module": "@jupyter-widgets/base",
      "model_module_version": "1.2.0",
      "model_name": "LayoutModel",
      "state": {}
     },
     "309e28f4401f4e119a92b5fdf5cc3b48": {
      "model_module": "@jupyter-widgets/base",
      "model_module_version": "1.2.0",
      "model_name": "LayoutModel",
      "state": {}
     },
     "33a2e8dda2994a359fadf7b41aaadb73": {
      "model_module": "pyuqer",
      "model_module_version": "^0.1.0",
      "model_name": "UqerModel",
      "state": {
       "_model_module_version": "^0.1.0",
       "_view_module_version": "^0.1.0",
       "layout": "IPY_MODEL_309e28f4401f4e119a92b5fdf5cc3b48",
       "value": "{\"start_time\": 1622160833.6212032, \"end_time\": 1622160849.4056125, \"cumulative_return\": {\"1609718400000\": -0.007235, \"1609804800000\": -0.0054152618, \"1609891200000\": -0.0094055357, \"1609977600000\": -0.0118552758, \"1610064000000\": -0.0169649722, \"1610323200000\": -0.0241047556, \"1610409600000\": -0.0152143499, \"1610496000000\": -0.0168943943, \"1610582400000\": -0.0133247378, \"1610668800000\": -0.0070248162, \"1610928000000\": -0.0056952225, \"1611014400000\": -0.0013550821, \"1611100800000\": 0.0058551342, \"1611187200000\": 0.000885204, \"1611273600000\": -0.0110843822, \"1611532800000\": -0.0126241238, \"1611619200000\": -0.0124138127, \"1611705600000\": -0.0063233687, \"1611792000000\": -0.011503405, \"1611878400000\": -0.0164033826, \"1612137600000\": -0.0060431595, \"1612224000000\": -0.0010028043, \"1612310400000\": -0.0040827127, \"1612396800000\": -0.0058325393, \"1612483200000\": 0.010477772, \"1612742400000\": 0.0023151326, \"1612828800000\": 0.0034347186, \"1612915200000\": 0.0008147505, \"1613606400000\": 0.0221651316, \"1613692800000\": 0.0478051218, \"1613952000000\": 0.0430156045, \"1614038400000\": 0.0512961054, \"1614124800000\": 0.0370058375, \"1614211200000\": 0.0535854868, \"1614297600000\": 0.019985592, \"1614556800000\": 0.0195255785, \"1614643200000\": 0.0036158819, \"1614729600000\": 0.054645735, \"1614816000000\": 0.0631356332, \"1614902400000\": 0.0444956761, \"1615161600000\": 0.0378056813, \"1615248000000\": 0.0257256232, \"1615334400000\": 0.0107756722, \"1615420800000\": 0.0476154132, \"1615507200000\": 0.0465552264, \"1615766400000\": 0.0526849003, \"1615852800000\": 0.0640549499, \"1615939200000\": 0.0765352504, \"1616025600000\": 0.1005549049, \"1616112000000\": 0.0895944786, \"1616371200000\": 0.0857645541, \"1616457600000\": 0.0683847208, \"1616544000000\": 0.0499444006, \"1616630400000\": 0.0438841215, \"1616716800000\": 0.0497037754, \"1616976000000\": 0.0633740677, \"1617062400000\": 0.0634336167, \"1617148800000\": 0.0626137093, \"1617235200000\": 0.073403489, \"1617321600000\": 0.0579335979, \"1617667200000\": 0.0560240277, \"1617753600000\": 0.0597444004, \"1617840000000\": 0.0554047471, \"1617926400000\": 0.0569350839, \"1618185600000\": 0.0547451144, \"1618272000000\": 0.047554917, \"1618358400000\": 0.0474344482, \"1618444800000\": 0.0476240338, \"1618531200000\": 0.0493337562, \"1618790400000\": 0.0450136492, \"1618876800000\": 0.040563981, \"1618963200000\": 0.0422736277, \"1619049600000\": 0.038264001, \"1619136000000\": 0.0372537702, \"1619395200000\": 0.0307937537, \"1619481600000\": 0.0234039933, \"1619568000000\": 0.0098643584, \"1619654400000\": 0.0157447986, \"1619740800000\": 0.0042648509, \"1620259200000\": 0.014435041, \"1620345600000\": 0.0193449066, \"1620604800000\": 0.0312946869, \"1620691200000\": 0.0199050684, \"1620777600000\": 0.0254247947, \"1620864000000\": 0.0134150195, \"1620950400000\": 0.0268549294, \"1621209600000\": 0.0242148854, \"1621296000000\": 0.0199848779, \"1621382400000\": 0.0146850365, \"1621468800000\": 0.0079252048, \"1621555200000\": 0.0052451317, \"1609372800000\": 0.0}, \"benchmark_cumulative_return\": {\"1609718400000\": 0.0108283393, \"1609804800000\": 0.0301684315, \"1609891200000\": 0.0396023364, \"1609977600000\": 0.0580217925, \"1610064000000\": 0.0545243465, \"1610323200000\": 0.044109974, \"1610409600000\": 0.0738903632, \"1610496000000\": 0.0703631357, \"1610582400000\": 0.0497320001, \"1610668800000\": 0.0473573282, \"1610928000000\": 0.0589550934, \"1611014400000\": 0.0434124689, \"1611100800000\": 0.0508789909, \"1611187200000\": 0.0678682057, \"1611273600000\": 0.0687905688, \"1611532800000\": 0.079564718, \"1611619200000\": 0.0578895795, \"1611705600000\": 0.0607747777, \"1611792000000\": 0.0318259486, \"1611878400000\": 0.0269944947, \"1612137600000\": 0.0395986329, \"1612224000000\": 0.055610623, \"1612310400000\": 0.0525613387, \"1612396800000\": 0.0504019303, \"1612483200000\": 0.0522184677, \"1612742400000\": 0.0677900101, \"1612828800000\": 0.0911409338, \"1612915200000\": 0.1144497373, \"1613606400000\": 0.1069011819, \"1613692800000\": 0.1089084782, \"1613952000000\": 0.0740784549, \"1614038400000\": 0.070688775, \"1614124800000\": 0.0434210848, \"1614211200000\": 0.049559701, \"1614297600000\": 0.0240770397, \"1614556800000\": 0.0398164868, \"1614643200000\": 0.0265465249, \"1614729600000\": 0.0462311768, \"1614816000000\": 0.0133205636, \"1614902400000\": 0.0098837936, \"1615161600000\": -0.0251883771, \"1615248000000\": -0.0461093451, \"1615334400000\": -0.0398512575, \"1615420800000\": -0.015940952, \"1615507200000\": -0.0124556336, \"1615766400000\": -0.0337237902, \"1615852800000\": -0.0253154474, \"1615939200000\": -0.0211906134, \"1616025600000\": -0.0133403476, \"1616112000000\": -0.0391837451, \"1616371200000\": -0.029577426, \"1616457600000\": -0.0387701813, \"1616544000000\": -0.0542290453, \"1616630400000\": -0.0546777635, \"1616716800000\": -0.0332544629, \"1616976000000\": -0.0315490497, \"1617062400000\": -0.0223667141, \"1617148800000\": -0.0312643984, \"1617235200000\": -0.0192873029, \"1617321600000\": -0.0095430525, \"1617667200000\": -0.0136140419, \"1617753600000\": -0.0206370651, \"1617840000000\": -0.0190125532, \"1617926400000\": -0.0337634541, \"1618185600000\": -0.0505714853, \"1618272000000\": -0.0521262064, \"1618358400000\": -0.0442617215, \"1618444800000\": -0.0503358047, \"1618531200000\": -0.0470339341, \"1618790400000\": -0.0238466936, \"1618876800000\": -0.0245473073, \"1618963200000\": -0.0215961177, \"1619049600000\": -0.023419352, \"1619136000000\": -0.0145520825, \"1619395200000\": -0.0257232544, \"1619481600000\": -0.023174499, \"1619568000000\": -0.017662887, \"1619654400000\": -0.0090417754, \"1619740800000\": -0.0168479446, \"1620259200000\": -0.0288151577, \"1620345600000\": -0.0413018393, \"1620604800000\": -0.0419985384, \"1620691200000\": -0.0361194741, \"1620777600000\": -0.0319960025, \"1620864000000\": -0.0418926528, \"1620950400000\": -0.019323129, \"1621209600000\": -0.0050473506, \"1621296000000\": -0.0045453634, \"1621382400000\": -0.00748692, \"1621468800000\": -0.0047735795, \"1621555200000\": -0.0148025196, \"1609372800000\": 0.0}, \"annualized_return\": 0.01448, \"benchmark_annualized_return\": -0.04014, \"alpha\": 0.00051, \"beta\": 0.27999, \"sharpe\": -0.11213, \"information\": 0.20027, \"max_drawdown\": 0.08749, \"volatility\": 0.18304, \"turnover_rate\": 1.08255, \"recovery_days\": null}"
      }
     },
     "be63a448272941178813fbd575555741": {
      "model_module": "@jupyter-widgets/base",
      "model_module_version": "1.2.0",
      "model_name": "LayoutModel",
      "state": {}
     },
     "e15bc3b91ce54aaf918fe50445a2aead": {
      "model_module": "pyuqer",
      "model_module_version": "^0.1.0",
      "model_name": "OrderModel",
      "state": {
       "_model_module_version": "^0.1.0",
       "_view_module_version": "^0.1.0",
       "layout": "IPY_MODEL_1d6924c0f42b43a2b7237aed9582837b",
       "value": {
        "data": []
       }
      }
     }
    },
    "version_major": 2,
    "version_minor": 0
   }
  }
 },
 "nbformat": 4,
 "nbformat_minor": 4
}
