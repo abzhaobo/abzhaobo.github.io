{
 "cells": [
  {
   "cell_type": "markdown",
   "id": "residential-supplier",
   "metadata": {},
   "source": [
    "# A Brief Summary of Factor Models and the Econometrics Related"
   ]
  },
  {
   "cell_type": "markdown",
   "id": "889a6028-b05c-4e3c-b948-f28215693b70",
   "metadata": {},
   "source": [
    "- [A Brief Summary of Factor Models and the Econometrics Related](#a-brief-summary-of-factor-models-and-the-econometrics-related)\n",
    "  - [从CAPM出发](#从capm出发)\n",
    "    - [Arbitrage Pricing Theory](#arbitrage-pricing-theory)\n",
    "  - [如何检验?](#如何检验)\n",
    "    - [时间序列回归](#时间序列回归)\n",
    "    - [两步法横截面回归(two-pass)](#两步法横截面回归two-pass)\n",
    "    - [Fama-MacBeth 回归](#fama-macbeth-回归)\n",
    "  - [方法差异（用什么作为因子收益率？）](#方法差异用什么作为因子收益率)\n",
    "  - [排序法](#排序法)\n",
    "    - [单排](#单排)\n",
    "    - [双排](#双排)\n",
    "  - [截面多因子模型 vs. 时序多因子模型（用什么作为因子暴露？）](#截面多因子模型-vs-时序多因子模型用什么作为因子暴露)\n",
    "  - [检验异象](#检验异象)\n",
    "    - [排序法检验](#排序法检验)\n",
    "    - [时序检验](#时序检验)\n",
    "    - [FM回归检验](#fm回归检验)\n",
    "  - [总结](#总结)\n",
    "  - [参考文献](#参考文献)"
   ]
  },
  {
   "cell_type": "markdown",
   "id": "unable-sheriff",
   "metadata": {},
   "source": [
    "## 从CAPM出发"
   ]
  },
  {
   "cell_type": "markdown",
   "id": "terminal-delivery",
   "metadata": {},
   "source": [
    "$$ \\mathbb{E}[R_i] - R_f = \\beta_i \\left( \\mathbb{E}[R_M] - R_f \\right)$$\n",
    "$$ \\mathbb{E}[R_i - R_f]  = \\beta_i \\left( \\mathbb{E}[R_M- R_f] \\right)$$\n",
    "$$ \\mathbb{E}[R_i^e]  = \\beta_i \\left( \\mathbb{E}[R_M^e] \\right)$$"
   ]
  },
  {
   "cell_type": "markdown",
   "id": "devoted-picture",
   "metadata": {},
   "source": [
    "- 没有截距\n",
    "- expectation是什么意思？从实证的角度看，是时间还是横截面？\n",
    "    - $\\beta_i$ 的下标$i$是什么意思？\n",
    "    - $i$是研究的兴趣点所在。也就是，不同的$\\beta_i$是否对应了不一样的收益？（横截面选股）\n",
    "- 直觉上，CAPM说了件什么事情？\n",
    "    - 对于证券$i$（或证券组合），超额收益率的期望值，等于，$\\beta_i$ 和 另一个东西的超额收益率的期望值的乘积\n",
    "    - 这“另一个东西”，是因子(factor)。在CAPM里，“因子超额收益”是全市场超额收益\n",
    "    - $\\beta_i$，是证券$i$在这个因子上的“因子暴露”(factor exposure, factor loading)"
   ]
  },
  {
   "cell_type": "markdown",
   "id": "desirable-monitor",
   "metadata": {},
   "source": [
    "### Arbitrage Pricing Theory"
   ]
  },
  {
   "cell_type": "markdown",
   "id": "anticipated-miami",
   "metadata": {},
   "source": [
    "$$ \\mathbb{E}[R_i^e]  = \\boldsymbol{\\beta_i}' \\boldsymbol{\\lambda}$$\n",
    "\n",
    "- $K$个因子, $\\boldsymbol{\\lambda}$是$K$维向量\n",
    "- APT的出发点是统计上的factor decomposition + 一价定律\n",
    "    - 因此，除了“一价定律”以外，APT实际上没有讨论“经济含义”\n",
    "- $\\boldsymbol{\\lambda}$是因子的预期超额收益率向量。也常被称作 factor risk premium。这个收益率应当是正的，因为对于风险，需要给出报酬。\n",
    "    - 以下$\\boldsymbol{\\lambda}$都作为“因子的预期超额收益率向量”，如果不是收益率向量，写作$\\boldsymbol{f}$。\n",
    "    - 有时候因子的收益率是不能简单看到的，因此，因子本身的 factor risk premium 的估计，是一个重要的问题\n",
    "- 实际数据是否符合这个公式？未必。此时会有定价误差$\\alpha_i$出现：\n",
    "$$ \\mathbb{E}[R_i^e]  = \\alpha_i + \\boldsymbol{\\beta_i}' \\boldsymbol{\\lambda} $$\n",
    "- $\\alpha_i$如果不显著偏离0，可能是统计误差。$\\alpha_i$如果显著不为0，则可能是：\n",
    "    - 某些因子还没有被完全找到，当加入新的因子以后，$\\alpha_i$不显著了\n",
    "    - 即使因子都被完全找到了，模型本身也许有问题，例如非线性？\n",
    "        - 从统计模型的角度说，这种分解总是能做的。但对于实际数据来讲，找到的因子数据是否能符合这条式子，不一定\n",
    "        - 如果纯粹只做统计的分解(比如分解出latent factors)，对于实际的投资来讲，没有啥意义，因为我们总是希望找到**数据之间**的联系，而非仅仅是**数据本身**的某种分解\n",
    "        - 如何检验模型本身有没有问题？样本内的拟合情况？样本外的预测情况？\n",
    "    - 模型没错，市场也许对该资产出现了错误定价，形成了套利机会。此时这个资产就被称为一个“异象”（anomaly）\n",
    "        - 若$\\alpha_i$为正，则买入$i$资产，卖出因子组合\n",
    "    - 这也就是常见的所谓$\\alpha$，某种资产的收益中不能被已有的共性的因子描述的部分。如果等式左边是基金经理的资产组合收益，则$\\alpha$可能显示了这个基金经理超出常人的能力"
   ]
  },
  {
   "cell_type": "markdown",
   "id": "architectural-founder",
   "metadata": {},
   "source": [
    "总结：因为非系统性风险可以通过分散投资消除，因子描述了驱动个体资产预期收益的共性原因，也即某种系统性风险。因子收益率是这种系统性风险的风险溢价(risk premium)，是个体资产的共性收益。因为因子是系统性风险的衡量，其<span style=\"color:red\"> 预期 </span>收益应当为正（统计意义上），作为对这种风险的补偿。"
   ]
  },
  {
   "cell_type": "markdown",
   "id": "muslim-gilbert",
   "metadata": {},
   "source": [
    "## 如何检验?"
   ]
  },
  {
   "cell_type": "markdown",
   "id": "communist-weapon",
   "metadata": {},
   "source": [
    "### 时间序列回归"
   ]
  },
  {
   "cell_type": "markdown",
   "id": "selected-priority",
   "metadata": {},
   "source": [
    "如果：\n",
    "- $\\boldsymbol{\\lambda}$是收益率序列，且已知\n",
    "- 已知 $R_{it}^{e}$的时间序列\n",
    "\n",
    "则$\\boldsymbol{\\beta_i}$需要估计。检验目标：\n",
    "- 是否只用$\\boldsymbol{\\beta_i}' \\boldsymbol{\\lambda}$就能解释$\\mathbb{E}[R_i^e]$，也即**截距是否等于0**\n",
    "- $\\boldsymbol{\\lambda}$是否预期收益大于0"
   ]
  },
  {
   "cell_type": "markdown",
   "id": "communist-walnut",
   "metadata": {},
   "source": [
    "步骤：\n",
    "1. 时间序列回归(对每个$i$)：\n",
    "$$R_{i(t)}^e = \\alpha_i + \\boldsymbol{\\beta}_i' \\boldsymbol{\\lambda}_{(t)} + \\epsilon_{i(t)}$$\n",
    "注：回归的样本用括号()表示，比如(t)表示在时间序列上回归\n",
    "\n",
    "得到估计量$\\hat{\\alpha}_i$，$\\hat{\\boldsymbol{\\beta}_i}$\n",
    "\n",
    "2. 因子模型的估计为：\n",
    "$$ \\dfrac{1}{T}\\sum ^{T}_{t=1}R^e_{it}=\\hat{\\alpha }_{i}+\\hat{\\boldsymbol{\\beta}}_i' \\left( \\dfrac{1}{T}\\sum ^{T}_{t=1}\\boldsymbol{\\lambda}_t\\right)  $$\n",
    "\n",
    "记：$\\dfrac{1}{T}\\sum ^{T}_{t=1}\\boldsymbol{\\lambda}_{t} \\equiv \\hat{\\mathbb{E}}[\\boldsymbol{\\lambda}] $，$\\dfrac{1}{T}\\sum ^{T}_{t=1}R^e_{it} \\equiv \\hat{\\mathbb{E}}[R^e_{i}] $。此二者即为因子预期收益、证券$i$预期收益的估计\n",
    "\n",
    "3. 检验$\\hat{\\alpha }_{i}$是否为0。单个$\\hat{\\alpha }_{i}$只需做$t$检验即可。\n",
    "\n",
    "4. 检验 $\\hat{\\alpha }_{i}$ 是否联合为0。Gibbons-Ross-Shanken (GRS) 检验：\n",
    "\n",
    "$$\\dfrac{T-N-K}{N}\\left( 1+\\hat{\\mathbb{E}}[\\boldsymbol{\\lambda}]'\\hat{\\Sigma}^{-1}_{\\lambda }\\hat{\\mathbb{E}}[\\boldsymbol{\\lambda}] \\right) ^{-1}\\widehat{\\alpha }'\\hat{\\Sigma }^{-1}\\widehat{\\alpha } \\sim F_{N, T-N-K} $$\n",
    "\n",
    "- $T$: 时间序列的样本数；$N$：横截面样本数；$K$：因子数\n",
    "- $\\hat{\\Sigma}_{\\lambda} = \\dfrac{1}{T}\\sum ^{T}_{t=1} \\left[ \\boldsymbol{\\lambda}_{t} - \\hat{\\mathbb{E}}[\\boldsymbol{\\lambda}_t] \\right] \\left[ \\boldsymbol{\\lambda}_{t} - \\hat{\\mathbb{E}}[\\boldsymbol{\\lambda}_t] \\right]', \\quad K \\times K \\text{矩阵}$\n",
    "- $\\hat{\\Sigma} = \\dfrac{1}{T}\\sum ^{T}_{t=1} \\hat{\\boldsymbol{\\epsilon}}_t \\hat{\\boldsymbol{\\epsilon}}_t', \\quad N \\times N \\text{矩阵}$\n",
    "\n",
    "GRS检验的假设：\n",
    "- 时间序列上$\\epsilon_{it}$同方差，无自相关，$\\epsilon_{it}$和$\\lambda_{tk}$独立，也即$\\epsilon_{it}$ i.i.d. 有限样本下，F分布的结果显然也是假设了$\\epsilon_{it}$时间序列上正态分布\n",
    "- 大样本下，无需正态分布假设，但对应有限样本的$\\chi^2$统计量仍然假设了同方差和无自相关\n",
    "- 若直接从矩条件出发:\n",
    "$$\\mathbb{E}[\\boldsymbol{\\epsilon}_t] = 0, \\quad N \\text{个} \\text{矩条件}$$\n",
    "$$\\mathbb{E}[\\boldsymbol{\\lambda}_t \\otimes \\boldsymbol{\\epsilon}_t] = 0, \\quad K \\times N \\text{个} \\text{矩条件}$$\n",
    "给出GMM估计量，则可以给出Robust的error，无需假设同方差和自相关。这里矩条件个数和参数个数 ($\\boldsymbol{\\alpha}$有$N$个，$\\boldsymbol{\\beta}$有$N \\times K$个)一样，恰好识别\n",
    "\n",
    "5. 另外，对于因子$\\lambda_k$，也感兴趣其期望收益是否不为0，单独做$t$检验即可。"
   ]
  },
  {
   "cell_type": "markdown",
   "id": "endangered-geneva",
   "metadata": {},
   "source": [
    "### 两步法横截面回归(two-pass)"
   ]
  },
  {
   "cell_type": "markdown",
   "id": "young-annual",
   "metadata": {},
   "source": [
    "如果：\n",
    "- $\\boldsymbol{\\lambda}_t$未知，也即因子收益率不知道，此时要想办法先估计$\\boldsymbol{\\lambda}_t$\n",
    "- 然后检验$\\hat{\\alpha}_i$是否联合为0"
   ]
  },
  {
   "cell_type": "markdown",
   "id": "otherwise-making",
   "metadata": {},
   "source": [
    "1. 时间序列回归(对每个$i$)：\n",
    "$$R_{i(t)}^e = a_i + \\boldsymbol{\\beta}_i' \\boldsymbol{f}_{(t)} + u_{i(t)}$$\n",
    "\n",
    "注意：\n",
    "- $\\boldsymbol{f}_{(t)}$不是**因子的收益率**，而是因子的某个代理变量，或者就是因子值\n",
    "- 此时截距项$a_i$不是定价误差\n",
    "- $\\boldsymbol{\\beta}_i$ 是**因子暴露的估计值**。换句话说，因为不能直接观察到和因子直接联系的**因子收益率**，只能观察到**因子值**或**因子的性质的某个代理变量**，我们用这个时间序列回归来估计证券$i$的因子暴露。\n",
    "\n",
    "2. 先求$R_{it}^e$时间上的均值，作为资产$i$的预期收益率的估计值，$\\dfrac{1}{T}\\sum ^{T}_{t=1}R^e_{it} \\equiv \\hat{\\mathbb{E}}[R^e_{i}] $。接着做如下横截面回归：\n",
    "$$\\hat{\\mathbb{E}}[R^e_{(i)}] = \\boldsymbol{\\lambda}'\\hat{\\boldsymbol{\\beta}}_{(i)} + \\alpha_{(i)} $$\n",
    "\n",
    "此时$\\boldsymbol{\\lambda}$是因子预期收益率的估计值。$\\alpha_i$是回归的残差。因为是OLS，这个估计本身就是从“最小化$\\alpha_i$的平方和”出发来计算的。\n",
    "\n",
    "- 这个回归也可以加截距。不加截距的回归，是理论；加了截距，是考虑**理论也有可能是错的**。因此，计量里常见的efficiency和robustness的讨论在这里也成立。也即：\n",
    "    - 如果理论真的是对的，不加截距的回归能增强参数估计的efficiency，也即更有可能拒绝错误的原假设（因此，若不能拒绝原假设，则可能因子找错了）。加了截距项回归，则更robust，但牺牲了efficiency。如果此时也能拒绝原假设，那么更放心了。\n",
    "    - 如果理论是错的，因子没找全从而应当加上截距项。此时若回归没加截距项，则遗漏变量，可能估计不一致。\n",
    "    \n",
    "3. 检验$\\hat{\\alpha}_i$是否联合为0。这里的矩阵和向量都没有加粗，请留意。\n",
    "\n",
    "记 $\\hat{\\beta}=\\left[\\begin{array}{ccc}\n",
    "\\hat{\\beta}_{11} & \\cdots & \\hat{\\beta}_{1 K} \\\\\n",
    "\\vdots & \\ddots & \\vdots \\\\ \n",
    "\\hat{\\beta}_{N 1} & \\cdots & \\hat{\\beta}_{N K}\n",
    "\\end{array}\\right]$，$\\hat{\\alpha}=\\left[\\begin{array}{c}\n",
    "\\hat{\\alpha}_{1} \\\\\n",
    "\\vdots \\\\\n",
    "\\hat{\\alpha}_{N}\n",
    "\\end{array}\\right]$，$u_{t}=\\left[\\begin{array}{c}u_{1 t} \\\\ \\vdots \\\\ u_{N t}\\end{array}\\right]$，$\\hat{\\mathbb{E}}\\left[R^{e}\\right]=\\left[\\begin{array}{c}\\hat{\\mathbb{E}}\\left[R_{1}^{e}\\right] \\\\ \\vdots \\\\ \\hat{\\mathbb{E}}\\left[R_{N}^{e}\\right]\\end{array}\\right]$，$\\hat{\\lambda}=\\left[\\begin{array}{c}\\hat{\\lambda}_{1} \\\\ \\vdots \\\\ \\hat{\\lambda}_{K}\\end{array}\\right]$\n",
    "\n",
    "则参数估计为：\n",
    "$$\\hat{\\lambda}=\\left(\\hat{\\beta}^{\\prime} \\hat{\\beta}\\right)^{-1} \\hat{\\beta}^{\\prime} \\hat{\\mathbb{E}}\\left[R^{e}\\right]$$\n",
    "$$\n",
    "\\hat{\\alpha}=\\hat{\\mathbb{E}}\\left[R^{e}\\right]-\\hat{\\beta} \\hat{\\lambda}\n",
    "$$\n",
    "\n",
    "记$\\Sigma_{f} \\equiv \\operatorname{cov}\\left(f_{t}\\right)$，($K \\times K$矩阵)，$\\Sigma \\equiv  \\operatorname{cov}(u_t)$，($N \\times N$矩阵)\n",
    "\n",
    "则\n",
    "$$\n",
    "\\operatorname{cov}(\\hat{\\lambda})=\\frac{1}{T}\\left[\\left(\\hat{\\beta}^{\\prime} \\hat{\\beta}\\right)^{-1} \\hat{\\beta}^{\\prime} \\Sigma \\hat{\\beta}\\left(\\hat{\\beta}^{\\prime} \\hat{\\beta}\\right)^{-1}\\left(1+\\lambda^{\\prime} \\Sigma_{f}^{-1} \\lambda\\right)+\\Sigma_{f}\\right]\n",
    "$$\n",
    "$$\n",
    "\\operatorname{cov}(\\hat{\\alpha})=\\frac{1}{T}\\left[I-\\hat{\\beta}\\left(\\hat{\\beta}^{\\prime} \\hat{\\beta}\\right)^{-1} \\hat{\\beta}^{\\prime}\\right] \\Sigma \\left[I-\\hat{\\beta}\\left(\\hat{\\beta}^{\\prime} \\hat{\\beta}\\right)^{-1} \\hat{\\beta}^{\\prime}\\right]^{\\prime} \\cdot \\left(1+\\lambda^{\\prime} \\Sigma_{f}^{-1} \\lambda\\right)\n",
    "$$\n",
    "\n",
    "统计量：\n",
    "$$\n",
    "\\hat{\\alpha}^{\\prime} \\operatorname{cov}(\\hat{\\alpha})^{-1} \\hat{\\alpha} \\sim \\chi_{N-K}^{2}\n",
    "$$\n",
    "\n",
    "因子预期收益率$\\boldsymbol{\\lambda}$的检验：从 $\\text{cov}(\\hat{\\lambda})$取出对角线上的元素，开方即是标准误$\\sigma_{\\lambda_k}$。用$\\hat{\\lambda}_k / \\sigma_{\\lambda_k}$做自由度为T-1的t检验即可。"
   ]
  },
  {
   "cell_type": "markdown",
   "id": "unauthorized-literacy",
   "metadata": {},
   "source": [
    "- $\\left(1+\\lambda^{\\prime} \\Sigma_{f}^{-1} \\lambda\\right)$是Shanken(1992)的调整，因为第一步的因子暴露$\\boldsymbol{\\beta}$是估计出来的，要把估计误差考虑进来。\n",
    "    - 在月度数据上检验模型，这个误差实际影响很小\n",
    "- 也有对应的GLS版本和GMM版本，具体可查阅 Cochrane (2005)。"
   ]
  },
  {
   "cell_type": "markdown",
   "id": "express-inspection",
   "metadata": {},
   "source": [
    "### Fama-MacBeth 回归"
   ]
  },
  {
   "cell_type": "markdown",
   "id": "juvenile-accuracy",
   "metadata": {},
   "source": [
    "1. 时间序列回归(对每个$i$)：\n",
    "$$R_{i(t)}^e = a_i + \\boldsymbol{\\beta}_i' \\boldsymbol{f}_{(t)} + u_{i(t)}$$\n",
    "\n",
    "2. **在每个时间t上**，做横截面回归\n",
    "$$R_{(i) t}^{e}=\\lambda_{t}^{\\prime} \\hat{\\beta}_{(i)}+\\alpha_{(i) t}$$\n",
    "\n",
    "- 也可以有截距项\n",
    "- <span style=\"color:red\"> 和两步法横截面回归的区别：\n",
    "    - 两步法的第二步先取时间平均，然后做一次横截面回归\n",
    "    - FM 在每个时间t上都做横截面回归 </span>\n",
    "\n",
    "好处：相当于增加了样本。\n",
    "\n",
    "3. 假设误差在时间上独立，则有以下统计量：\n",
    "$$\\hat{\\lambda}=\\frac{1}{T} \\sum_{t=1}^{T} \\hat{\\lambda}_{t}, \\quad \\hat{\\alpha}_{i}=\\frac{1}{T} \\sum_{t=1}^{T} \\hat{\\alpha}_{i t}$$\n",
    "$$\n",
    "\\sigma^{2}(\\hat{\\lambda})=\\frac{1}{T^{2}} \\sum_{t=1}^{T}\\left(\\hat{\\lambda}_{t}-\\hat{\\lambda}\\right)^{2}, \\quad \\sigma^{2}\\left(\\hat{\\alpha}_{i}\\right)=\\frac{1}{T^{2}} \\sum_{t=1}^{T}\\left(\\hat{\\alpha}_{i t}-\\hat{\\alpha}_{i}\\right)^{2}\n",
    "$$\n",
    "\n",
    "- 检验因子预期收益率是否为0，用$\\hat{\\lambda}_{t}$序列做$t$检验即可\n",
    "\n",
    "- 联合检验$\\hat{\\alpha}_i$是否为0:\n",
    "\n",
    "记$\\hat{\\alpha}=\\frac{1}{T} \\sum_{t=1}^{T} \\hat{\\alpha}_{t}$, 则可用\n",
    "$$\n",
    "\\operatorname{cov}(\\hat{\\alpha})=\\frac{1}{T^{2}} \\sum_{t=1}^{T}\\left(\\hat{\\alpha}_{t}-\\hat{\\alpha}\\right)\\left(\\hat{\\alpha}_{t}-\\hat{\\alpha}\\right)^{\\prime}\n",
    "$$\n",
    "作为方差协方差矩阵的估计（横截面上的相关性，和两步法类似），检验：\n",
    "$$\n",
    "\\hat{\\alpha}^{\\prime} \\operatorname{cov}(\\hat{\\alpha})^{-1} \\hat{\\alpha} \\sim \\chi_{N-K}^{2}\n",
    "$$\n",
    "\n",
    "- 时间独立假设在资产定价问题里可以接受，因为收益率在时间上相关性很弱。公司金融里则未必。\n",
    "- 即使时间上不独立，也可以很容易把估计量更改为调整了时间相关性的估计量，例如 $\\sigma^{2}(\\hat{\\lambda})=\\frac{1}{T} \\sum_{j=-\\infty}^{\\infty} \\operatorname{cov}_{T}\\left(\\hat{\\lambda}_{t}, \\hat{\\lambda}_{t-j}\\right)$，当然可以用Newey-West调整"
   ]
  },
  {
   "cell_type": "markdown",
   "id": "golden-alarm",
   "metadata": {},
   "source": [
    "- 另外，第一步的时间序列回归，可以是每个t上得到不一样的$\\beta_{it}$。比如，对应于$t$期，用rolling window做回归，用的数据是t-h到t-1期的(FM原文用的是5年的月收益率)，得到$\\hat{\\beta}_{it-1}$。接下来在第二步时就用这些每一期不一样的$\\hat{\\beta}_{it-1}$对$R^e_{it}$做横截面回归\n",
    "- 第二步的回归就可以这样理解：在每个时间点上，$\\hat{\\beta}_{it-1}$是这个N个资产在横截面上的差异，这些差异能否带来第t期的$R^e_{it}$的不一样"
   ]
  },
  {
   "cell_type": "markdown",
   "id": "vocal-fitting",
   "metadata": {},
   "source": [
    "## 方法差异（用什么作为因子收益率？）"
   ]
  },
  {
   "cell_type": "markdown",
   "id": "bibliographic-factor",
   "metadata": {},
   "source": [
    "问题：如果因子收益已知（也即这类因子的特征可以直接从可交易的证券中观察到，例如size, momentum，而非GDP），那么时间序列上直接求平均就是因子预期收益的估计。此时如果仍然做两步法横截面回归或者FM回归，又得到一个从OLS而来的所谓的因子预期收益的估计，这两者有什么不同？该用哪个？\n",
    "\n",
    "差异之处：\n",
    "\n",
    "横截面回归时，\n",
    "$$\\hat{\\lambda}=\\left(\\hat{\\beta}^{\\prime} \\hat{\\beta}\\right)^{-1} \\hat{\\beta}^{\\prime} \\hat{\\mathbb{E}}\\left[R^{e}\\right]$$\n",
    "\n",
    "注意 $\\hat{\\beta}=\\left[\\begin{array}{ccc}\n",
    "\\hat{\\beta}_{11} & \\cdots & \\hat{\\beta}_{1 K} \\\\\n",
    "\\vdots & \\ddots & \\vdots \\\\ \n",
    "\\hat{\\beta}_{N 1} & \\cdots & \\hat{\\beta}_{N K}\n",
    "\\end{array}\\right]$ 是因子暴露矩阵，$\\hat{\\beta}_{{\\color{blue}i}{\\color{red}j}}$是第${\\color{blue}i}$个资产在第${\\color{red}j}$个因子上的暴露\n",
    "\n",
    "$\\left(\\hat{\\beta}^{\\prime} \\hat{\\beta}\\right)^{-1} \\hat{\\beta}^{\\prime}$是一个$K \\times N$矩阵，第$k$行可以看成是第$k$个因子的投资组合，所以$\\left(\\hat{\\beta}^{\\prime} \\hat{\\beta}\\right)^{-1} \\hat{\\beta}^{\\prime}$的第${\\color{red}j}$行、第${\\color{blue}i}$列的值是第${\\color{red}j}$个因子在第${\\color{blue}i}$个资产上的权重\n",
    "\n",
    "此时，\n",
    "$$\n",
    "\\left[\\left(\\hat{\\beta}^{\\prime} \\hat{\\beta}\\right)^{-1} \\hat{\\beta}^{\\prime}\\right] \\hat{\\beta}=\\left(\\hat{\\beta}^{\\prime} \\hat{\\beta}\\right)^{-1}\\left(\\hat{\\beta}^{\\prime} \\hat{\\beta}\\right)=I_K\n",
    "$$\n",
    "因此：\n",
    "$\\left(\\hat{\\beta}^{\\prime} \\hat{\\beta}\\right)^{-1} \\hat{\\beta}^{\\prime}$这个因子的投资组合权重矩阵有如下性质：\n",
    "- 第k个因子在所有资产上的投资组合($\\left(\\hat{\\beta}^{\\prime} \\hat{\\beta}\\right)^{-1} \\hat{\\beta}^{\\prime}$的第$k$行给出的权重)，在第k个因子上的暴露是1\n",
    "- 第k个因子在所有资产上的投资组合($\\left(\\hat{\\beta}^{\\prime} \\hat{\\beta}\\right)^{-1} \\hat{\\beta}^{\\prime}$的第$k$行给出的权重)，在其他因子上的暴露是0\n",
    "- 因此，横截面回归得到的因子预期收益率的估计，更“纯净”"
   ]
  },
  {
   "cell_type": "markdown",
   "id": "banner-rouge",
   "metadata": {},
   "source": [
    "## 排序法"
   ]
  },
  {
   "cell_type": "markdown",
   "id": "appointed-yield",
   "metadata": {},
   "source": [
    "因子的概念是抽象的：\n",
    "- 因子收益率是什么？如何估计？\n",
    "- 因子暴露是什么？如何估计？\n",
    "\n",
    "实践中，只能考虑用可以交易的证券的组合，来模拟某个因子收益率。理想的模拟组合，应当满足：\n",
    "1. 只在这个被模拟的因子上暴露，在其他因子上不暴露\n",
    "2. 如果有多种满足条件1的组合，应当选择特质性风险较小的那个组合\n",
    "\n",
    "- 条件1很好理解：如果同时在其他因子上有暴露，则这个投资组合的收益率不能仅仅归因于这个因子，同其他因子也有关系。\n",
    "- 条件2说的是：$R^e_{it} = \\alpha_i + \\beta_{ki} \\lambda_{kt} + 0 * \\lambda_{[k]t} + \\epsilon_{it}$ 中的 $\\epsilon_{it}$的变化要比较小，否则也会干扰这个投资组合的模拟程度。中括号表示除$k$之外的其他因子，其$\\beta$为0\n",
    "\n",
    "鸡生蛋还是蛋生鸡？\n",
    "\n",
    "- 按照理想中的模型，估计因子暴露需要知道因子收益率\n",
    "- 要知道因子收益率，需要知道因子模拟组合，而构建因子模拟组合，需要知道因子暴露\n",
    "\n",
    "如果因子是可以交易的证券的某个特征，比如Book/Market raio，则利用排序法可以模拟构建因子收益率。\n",
    "\n",
    "排序法：\n",
    "\n",
    "<span style=\"color:red\"> **别估计因子暴露了，就用这个想法：如果证券对应的这个特征的指标高，则它在这个因子上的因子暴露就高** </span>\n",
    "- 这个特征并不一定是因子暴露。也没有什么模型（也可以说是非参模型）\n",
    "- 因此，如果因子不是可以交易的证券的特征，比如 GDP，那么得回到两步回归的方法来估计因子暴露和因子收益率\n",
    "\n",
    "<span style=\"color:red\"> 抛开所有理论的直觉：拥有某个特征的某种证券(因子暴露更高)，在未来的收益会更好(因子预期收益为正) </span>"
   ]
  },
  {
   "cell_type": "markdown",
   "id": "4b31ed27-f87f-4992-b54a-1d76e1ed4c6a",
   "metadata": {},
   "source": [
    "### 单排"
   ]
  },
  {
   "cell_type": "markdown",
   "id": "7772150c-3b43-4df7-b654-2d5d6376f59d",
   "metadata": {},
   "source": [
    "1. 确定特征，选择股票池\n",
    "2. 按照特征的取值大小分组，例如10组。构建多空组合：做多最高组的股票，做空最低组的股票。通常要求多空两组的金额相同，无需自有资金。由于多空两组通常包含多只证券，还需考虑单只证券的权重，例如按市值加权\n",
    "3. 定时更新(rebalance)"
   ]
  },
  {
   "cell_type": "markdown",
   "id": "6ca96ca3-3278-4e2a-bd1d-eeff1ba54104",
   "metadata": {},
   "source": [
    "### 双排"
   ]
  },
  {
   "cell_type": "markdown",
   "id": "f7a6b8e0-8ed2-435a-b06c-18ba46b50d73",
   "metadata": {},
   "source": [
    "双排可以控制另一个特征(因子)的影响\n",
    "\n",
    "一般常见的 double sorting 有两种，一种是 independent sort, 一种是 dependent sort.\n",
    "\n",
    "- independent sort 就是对于 variable 1, 计算 quantile，按照 quantile 分组。对于 variable 2，计算 quantile，再分组。取之间的交集。\n",
    "    - independent sort 的好处是对于 variable 1，2 的顺序没有要求。坏处是如果 variabl 1 和 variable 2 高度相关，则可能导致某些交叉组里的成员很多，某些交叉组里的成员又很少，甚至没有。\n",
    "- dependent sort 就是对于 variable 1, 计算 quantile，分组。然后在每组内部，按照 variable 2 计算 quantile，再分成小组。\n",
    "    - dependent sort 相当于是一个 \"conditional on\"，也就是 “基于” variable 1 的关于 variable 2 的分组。看的是在 variable 1 各个组内部 variable 2的情况。\n",
    "    - 因此，dependent sort的顺序很重要\n"
   ]
  },
  {
   "cell_type": "markdown",
   "id": "boring-portal",
   "metadata": {},
   "source": [
    "## 截面多因子模型 vs. 时序多因子模型（用什么作为因子暴露？）"
   ]
  },
  {
   "cell_type": "markdown",
   "id": "single-confusion",
   "metadata": {},
   "source": [
    "估计因子暴露似乎有很多种套路：\n",
    "- 最传统的Fama-French方法：先按照特征(特征并不是因子暴露)排序得到因子收益率，时序回归得到因子暴露。这种传统方法被称作“时序多因子模型”\n",
    "- 就把特征作为因子暴露，不做时序回归了。直接开始做第二步在每个时间t上做横截面回归，然后考察$\\lambda_t$的均值是否不为0。这种被称作“横截面多因子模型”。\n",
    "- 甚至还可以这么做：\n",
    "    - 先用公司特征和$R^e_{it}$做每个t上的横截面回归，得到$\\lambda_t$\n",
    "    - 再用$\\lambda_t$和$R^e_{it}$做时序回归，又得到$\\hat{\\beta}_{it}$\n",
    "- Fama French (2020)给出了这几种方法的比较。结论：横截面多因子模型的解释力比较好。"
   ]
  },
  {
   "cell_type": "markdown",
   "id": "civic-province",
   "metadata": {},
   "source": [
    "## 检验异象"
   ]
  },
  {
   "cell_type": "markdown",
   "id": "suburban-custody",
   "metadata": {},
   "source": [
    "### 排序法检验"
   ]
  },
  {
   "cell_type": "markdown",
   "id": "covered-cooler",
   "metadata": {},
   "source": [
    "如果一个因子和另一个因子的相关性很强，则按照一个因子进行排序可能捕捉的是另一个因子的风险。此时可以用双排法：\n",
    "\n",
    "同时用两个因子分别独立排序，把交集拿出来检验。\n",
    "\n",
    "多个因子时，多重排序法存在问题：交集会越来越少，甚至没有交集。"
   ]
  },
  {
   "cell_type": "markdown",
   "id": "metric-gilbert",
   "metadata": {},
   "source": [
    "### 时序检验"
   ]
  },
  {
   "cell_type": "markdown",
   "id": "clean-spotlight",
   "metadata": {},
   "source": [
    "1. 已知一个异象的收益率序列$R_{Anomaly,t}^e$（例如，可以是用exposure构建的排序股票组合）。已知其他因子收益率序列$\\boldsymbol{\\lambda}_t$。把$R_{Anomaly,t}^e$放等式左边，$\\boldsymbol{\\lambda}_t$放等式右边，做时间序列回归\n",
    "2. 看截距项是否显著不为0 (NW 调整)\n",
    "\n",
    "例：$$R_{Anomaly,t}^e = \\alpha + \\beta_1 R_{Mt}^e + \\beta_2 SMB_t + \\beta_3 HML_t + \\epsilon_t $$"
   ]
  },
  {
   "cell_type": "markdown",
   "id": "published-casting",
   "metadata": {},
   "source": [
    "### FM回归检验"
   ]
  },
  {
   "cell_type": "markdown",
   "id": "split-aging",
   "metadata": {},
   "source": [
    "1. 已知异象的指示变量(exposure)，已知其他因子的factor exposure。用下一期个股收益放等式左边，factor exposures 放等式右边\n",
    "2. 在每个时间$t$上做横截面回归，得到参数估计$\\hat{\\lambda}_t$的时间序列\n",
    "3. 看$\\hat{\\lambda}_t$是否平均不为0 (NW调整)\n",
    "\n",
    "例：\n",
    "\n",
    "$$R^e_{it+1} = \\gamma_t + \\lambda_{0t}\\text{Anomaly}_{it} + \\lambda_{1t} \\beta_{it} + \\lambda_{2t} Size_{it} + \\lambda_{3t} BM_{it} + u_{it}  $$\n",
    "\n",
    "细节：求简单均值时，如何做 NW 调整来计算标准误？\n",
    "\n",
    "解答：做单变量回归。$\\lambda_{0t} = \\text{intercept} + u_t$，intercept的估计值就是$\\lambda_{0t}$的均值，同时，软件可以轻松计算NW调整，无需自己手动计算。"
   ]
  },
  {
   "cell_type": "markdown",
   "id": "resistant-denver",
   "metadata": {},
   "source": [
    "## 总结"
   ]
  },
  {
   "cell_type": "markdown",
   "id": "forty-calculator",
   "metadata": {},
   "source": [
    "个人经验：\n",
    "- 各种方法差异不大。一种方法给出了显著的结果，另一种方法通常也不会不显著。\n",
    "- 为了稳健起见，学术论文通常考察多种方法，各种检验。\n",
    "- 然而，p-hacking、数据挖掘出来的假象难以避免。\n",
    "- 另一方面，市场本身不是平稳的，风险源一直都在变，样本外的表现不稳定。\n",
    "- 实践中，应当仔细思索因子的经济含义，避免陷入数据挖掘的狂热。\n",
    "    - The cost of computing has dropped exponentially, but the cost of thinking is what it always was. That is why we see so many articles with so many regressions and so little thought. --Zvi Griliches"
   ]
  },
  {
   "cell_type": "markdown",
   "id": "33f2d9d3-beb8-44ac-a71f-7962564a29ce",
   "metadata": {},
   "source": [
    "## 参考文献\n",
    "\n",
    "Cochrane, John H., 2005, *Asset Pricing*. Revised edition. (Princeton University Press, Princeton, N.J)."
   ]
  }
 ],
 "metadata": {
  "kernelspec": {
   "display_name": "Python 3",
   "language": "python",
   "name": "python3"
  },
  "language_info": {
   "codemirror_mode": {
    "name": "ipython",
    "version": 3
   },
   "file_extension": ".py",
   "mimetype": "text/x-python",
   "name": "python",
   "nbconvert_exporter": "python",
   "pygments_lexer": "ipython3",
   "version": "3.9.4"
  },
  "toc-autonumbering": true,
  "toc-showmarkdowntxt": false,
  "toc-showtags": false
 },
 "nbformat": 4,
 "nbformat_minor": 5
}
